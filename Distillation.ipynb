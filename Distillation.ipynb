{
 "cells": [
  {
   "cell_type": "markdown",
   "metadata": {},
   "source": [
    "# Steady-State Distillation  Model"
   ]
  },
  {
   "cell_type": "code",
   "execution_count": 1,
   "metadata": {},
   "outputs": [],
   "source": [
    "import numpy as np\n",
    "from scipy.optimize import fsolve"
   ]
  },
  {
   "cell_type": "code",
   "execution_count": 2,
   "metadata": {},
   "outputs": [],
   "source": [
    "N_COMPS = 5"
   ]
  },
  {
   "cell_type": "code",
   "execution_count": 3,
   "metadata": {},
   "outputs": [],
   "source": [
    "class Stream:\n",
    "    \n",
    "    n_streams = 0\n",
    "    \n",
    "    def __init__(self, n_comps=1, name=None):\n",
    "        # the stream member x_var will be as follows:\n",
    "        # [0] flow rate\n",
    "        # [1] temperature\n",
    "        # [2] pressure\n",
    "        # [3:-1] fraction of each component. if flow is in mass units, these are mass fractions\n",
    "        self.n_comps = n_comps\n",
    "        self.n_vars = 3 + n_comps\n",
    "        self.stream_num = Stream.n_streams\n",
    "        Stream.n_streams += 1\n",
    "        self.xvar = None\n",
    "        if name is None:\n",
    "            self.name = 'Stream' + str(self.stream_num)\n",
    "        else:\n",
    "            self.name = name\n",
    "        \n",
    "    def __str__(self):\n",
    "        s = 'Stream name: {}\\n'.format(self.name)\n",
    "        s = s + 'Stream number: {}\\n'.format(self.stream_num)\n",
    "        if self.xvar is None:\n",
    "            s = s + 'Variables not set\\n'\n",
    "        else:\n",
    "            s = s + 'Flow rate: {}\\n'.format(self.xvar[0])\n",
    "            s = s + 'Temperature: {}\\n'.format(self.xvar[1])\n",
    "            s = s + 'Pressure: {}\\n'.format(self.xvar[2])\n",
    "            s = s + 'Fractions: {}\\n'.format(self.xvar[3:])\n",
    "        return s"
   ]
  },
  {
   "cell_type": "code",
   "execution_count": 4,
   "metadata": {},
   "outputs": [],
   "source": [
    "class Equipment():\n",
    "    n_equipments = 0"
   ]
  },
  {
   "cell_type": "code",
   "execution_count": 5,
   "metadata": {},
   "outputs": [],
   "source": [
    "class Mixer(Equipment):\n",
    "    \n",
    "    n_mixers = 0\n",
    "    \n",
    "    def __init__(self, streams_in, streams_out, name=None):\n",
    "        self.streams_in = streams_in\n",
    "        self.streams_out = streams_out\n",
    "        self.n_in = len(self.streams_in)\n",
    "        self.n_out = len(self.streams_out)\n",
    "        self.n_eqns = (self.streams_in[0].n_comps + 2) * self.n_out + 1\n",
    "        self.mixer_num = Mixer.n_mixers\n",
    "        Mixer.n_mixers += 1\n",
    "        self.equipment_num = Equipment.n_equipments\n",
    "        Equipment.n_equipments += 1\n",
    "        self.eqns = None\n",
    "        if name is None:\n",
    "            self.name = 'Mixer' + str(self.mixer_num)\n",
    "        else:\n",
    "            self.name = name\n",
    "\n",
    "    def __str__(self):\n",
    "        s = 'Equipment name: {}\\n'.format(self.name)\n",
    "        s = s + 'Equipment number: {}\\n'.format(self.equipment_num)\n",
    "        s = s + 'Mixer number: {}\\n'.format(self.mixer_num)\n",
    "        s_in = list()\n",
    "        for stream in self.streams_in:\n",
    "            s_in.append(stream.name)\n",
    "        s = s + 'Streams in: {}\\n'.format(','.join(s_in))\n",
    "        s_out = list()\n",
    "        for stream in self.streams_out:\n",
    "            s_out.append(stream.name)\n",
    "        s = s + 'Streams out: {}\\n'.format(', '.join(s_out))\n",
    "        s = s + 'Number of equations: {}\\n'.format(self.n_eqns)\n",
    "        if self.eqns is None:\n",
    "            s = s + 'Equations not set\\n'\n",
    "        else:\n",
    "            s = s + 'Equations: {}\\n'.format(self.eqns[:])\n",
    "        return s\n",
    "    \n",
    "    def calculate(self):\n",
    "        # total mass balance: 1 equation\n",
    "        total_in = 0\n",
    "        for s in self.streams_in:\n",
    "            total_in += s.xvar[0]\n",
    "        total_out = 0\n",
    "        for s in self.streams_out:\n",
    "            total_out += s.xvar[0]\n",
    "        self.eqns[0] = total_in - total_out\n",
    "        # heat balance (simple: temp out is weighted average of temp in. n_out equations)\n",
    "        t_avg_in = 0\n",
    "        for s in self.streams_in:\n",
    "            t_avg_in += s.xvar[0] * s.xvar[1]\n",
    "        t_avg_in = t_avg_in / total_in\n",
    "        eq_n = 0\n",
    "        for s in self.streams_out:\n",
    "            eq_n += 1\n",
    "            self.eqns[eq_n] = t_avg_in - s.xvar[1]\n",
    "        # pressure balance (simple: pressure out equals min of pressure in. n_out equations)\n",
    "        p_min = 1.e20 # arbitrary large number\n",
    "        for s in self.streams_in:\n",
    "            p_min = np.minimum(p_min, s.xvar[2])\n",
    "        for s in self.streams_out:\n",
    "            eq_n += 1\n",
    "            self.eqns[eq_n] = p_min - s.xvar[2]\n",
    "        # component balances (n_out * n_comps equations)\n",
    "        for i_comp in range(self.streams_in[0].n_comps):\n",
    "            comp_in = 0\n",
    "            for s in self.streams_in:\n",
    "                comp_in += s.xvar[3 + i_comp] * s.xvar[0]\n",
    "            comp_in = comp_in / total_in\n",
    "            for s in self.streams_out:\n",
    "                eq_n += 1\n",
    "                self.eqns[eq_n] = comp_in - s.xvar[3 + i_comp]\n",
    "        return"
   ]
  },
  {
   "cell_type": "code",
   "execution_count": 6,
   "metadata": {},
   "outputs": [],
   "source": [
    "class Specify():\n",
    "    \n",
    "    n_specs = 0\n",
    "    \n",
    "    def __init__(self, name=None, flow=False, temperature=False, pressure=False, fraction=False, \n",
    "                 stream=None, comp_num=None, value=None):\n",
    "        self.spec_num = Specify.n_specs\n",
    "        Specify.n_specs += 1\n",
    "        if name is None:\n",
    "            self.name = 'Specification' + str(self.spec_num)\n",
    "        else:\n",
    "            self.name = name\n",
    "        assert flow + temperature + pressure + fraction == 1, 'Too many/few specifications for ' + self.name\n",
    "            \n",
    "        self.flow = flow\n",
    "        self.temperature = temperature\n",
    "        self.pressure = pressure\n",
    "        self.fraction = fraction\n",
    "        self.stream = stream\n",
    "        self.comp_num = comp_num\n",
    "        self.value = value\n",
    "        self.n_eqns = 1\n",
    "        self.eqns = None\n",
    "\n",
    "    def __str__(self):\n",
    "        s = 'Specification name: {}\\n'.format(self.name)\n",
    "        s = s + 'Stream : {}\\n'.format(self.stream.name)\n",
    "        s = s + 'Number of equations: {}\\n'.format(self.n_eqns)\n",
    "        if self.flow:\n",
    "            s = s + 'Flow: {}\\n'.format(self.value)\n",
    "        elif self.temperature:\n",
    "            s = s + 'Temperature: {}\\n'.format(self.value)\n",
    "        elif self.pressure:\n",
    "            s = s + 'Pressure: {}\\n'.format(self.value)\n",
    "        elif self.fraction:\n",
    "            s = s + 'Fraction: component {}, value: {}\\n'.format(self.comp_num, self.value)            \n",
    "            \n",
    "        if self.eqns is None:\n",
    "            s = s + 'Equations not set\\n'\n",
    "        else:\n",
    "            s = s + 'Equations: {}\\n'.format(self.eqns[:])\n",
    "        return s\n",
    "    \n",
    "    def calculate(self):\n",
    "        if self.flow:\n",
    "            self.eqns[0] = self.value -  self.stream.xvar[0]\n",
    "        if self.temperature:\n",
    "            self.eqns[0] = self.value -  self.stream.xvar[1]\n",
    "        if self.pressure:\n",
    "            self.eqns[0] = self.value -  self.stream.xvar[2]\n",
    "        if self.fraction:\n",
    "            self.eqns[0] = self.value -  self.stream.xvar[3 + self.comp_num]\n",
    "        return"
   ]
  },
  {
   "cell_type": "code",
   "execution_count": 7,
   "metadata": {},
   "outputs": [],
   "source": [
    "condensate = Stream(n_comps=N_COMPS, name='Condensate')\n",
    "reflux = Stream(n_comps=N_COMPS, name='Reflux')\n",
    "top_product = Stream(n_comps=N_COMPS, name='Top product')"
   ]
  },
  {
   "cell_type": "code",
   "execution_count": 8,
   "metadata": {},
   "outputs": [],
   "source": [
    "stream_list = [condensate, reflux, top_product]"
   ]
  },
  {
   "cell_type": "code",
   "execution_count": 9,
   "metadata": {},
   "outputs": [],
   "source": [
    "n_vars = 0\n",
    "for stream in stream_list:\n",
    "    n_vars += stream.n_vars"
   ]
  },
  {
   "cell_type": "code",
   "execution_count": 10,
   "metadata": {},
   "outputs": [
    {
     "name": "stdout",
     "output_type": "stream",
     "text": [
      "number of variables: 24\n"
     ]
    }
   ],
   "source": [
    "print('number of variables: {}'.format(n_vars))"
   ]
  },
  {
   "cell_type": "code",
   "execution_count": 11,
   "metadata": {},
   "outputs": [],
   "source": [
    "condensate_splitter = Mixer(streams_in=[condensate], streams_out=[reflux, top_product], name='Condensate Splitter')"
   ]
  },
  {
   "cell_type": "code",
   "execution_count": 12,
   "metadata": {},
   "outputs": [],
   "source": [
    "equipment_list = [condensate_splitter]"
   ]
  },
  {
   "cell_type": "code",
   "execution_count": 13,
   "metadata": {},
   "outputs": [],
   "source": [
    "xvar = np.ones(n_vars, dtype=np.float64)"
   ]
  },
  {
   "cell_type": "code",
   "execution_count": 14,
   "metadata": {},
   "outputs": [
    {
     "data": {
      "text/plain": [
       "array([1., 1., 1., 1., 1., 1., 1., 1., 1., 1., 1., 1., 1., 1., 1., 1., 1.,\n",
       "       1., 1., 1., 1., 1., 1., 1.])"
      ]
     },
     "execution_count": 14,
     "metadata": {},
     "output_type": "execute_result"
    }
   ],
   "source": [
    "xvar"
   ]
  },
  {
   "cell_type": "code",
   "execution_count": 15,
   "metadata": {},
   "outputs": [],
   "source": [
    "def map_x_to_stream(x):\n",
    "    idx = 0\n",
    "    for stream in stream_list:\n",
    "        stream.xvar = x[idx:idx+stream.n_vars]\n",
    "        idx += stream.n_vars"
   ]
  },
  {
   "cell_type": "code",
   "execution_count": 16,
   "metadata": {},
   "outputs": [],
   "source": [
    "map_x_to_stream(xvar)"
   ]
  },
  {
   "cell_type": "code",
   "execution_count": 17,
   "metadata": {},
   "outputs": [
    {
     "data": {
      "text/plain": [
       "array([1., 1., 1., 1., 1., 1., 1., 1., 1., 1., 1., 1., 1., 1., 1., 1., 1.,\n",
       "       1., 1., 1., 1., 1., 1., 1.])"
      ]
     },
     "execution_count": 17,
     "metadata": {},
     "output_type": "execute_result"
    }
   ],
   "source": [
    "xvar"
   ]
  },
  {
   "cell_type": "markdown",
   "metadata": {},
   "source": [
    "NOTE: The above `xvar` will be passed to `fsolve` as an initial guess. `fsolve` will pass some other internal variable to the equation calculating function, `process_eqns`. Thus, `process_eqns` will have to re-map that variable to the `Stream` members."
   ]
  },
  {
   "cell_type": "code",
   "execution_count": 18,
   "metadata": {},
   "outputs": [
    {
     "data": {
      "text/plain": [
       "array([1., 1., 1., 1., 1., 1., 1., 1., 1., 1., 1., 1., 1., 1., 1., 1., 1.,\n",
       "       1., 1., 1., 1., 1., 1., 1.])"
      ]
     },
     "execution_count": 18,
     "metadata": {},
     "output_type": "execute_result"
    }
   ],
   "source": [
    "xvar"
   ]
  },
  {
   "cell_type": "code",
   "execution_count": 19,
   "metadata": {},
   "outputs": [],
   "source": [
    "condensate_flow_spec = Specify(flow=True, stream=condensate, value=10)\n",
    "condensate_temp_spec = Specify(temperature=True, stream=condensate, value=100)\n",
    "condensate_press_spec = Specify(pressure=True, stream=condensate, value=50)\n",
    "condensate_x1_spec = Specify(fraction=True, stream=condensate, comp_num=0,value=0.2)\n",
    "condensate_x2_spec = Specify(fraction=True, stream=condensate, comp_num=1,value=0.1)\n",
    "condensate_x3_spec = Specify(fraction=True, stream=condensate, comp_num=2,value=0.2)\n",
    "condensate_x4_spec = Specify(fraction=True, stream=condensate, comp_num=3,value=0.1)\n",
    "condensate_x5_spec = Specify(fraction=True, stream=condensate, comp_num=4,value=0.4)\n",
    "reflux_flow_spec = Specify(flow=True, stream=reflux, value=7)"
   ]
  },
  {
   "cell_type": "code",
   "execution_count": 20,
   "metadata": {},
   "outputs": [],
   "source": [
    "spec_list = [condensate_flow_spec, condensate_temp_spec, condensate_press_spec, condensate_x1_spec, condensate_x2_spec, \n",
    "             condensate_x3_spec, condensate_x4_spec, condensate_x5_spec, \n",
    "             reflux_flow_spec]"
   ]
  },
  {
   "cell_type": "code",
   "execution_count": 21,
   "metadata": {},
   "outputs": [],
   "source": [
    "equation_list = equipment_list + spec_list"
   ]
  },
  {
   "cell_type": "code",
   "execution_count": 22,
   "metadata": {},
   "outputs": [],
   "source": [
    "n_eqns = 0\n",
    "for equation in equation_list:\n",
    "    n_eqns += equation.n_eqns"
   ]
  },
  {
   "cell_type": "code",
   "execution_count": 23,
   "metadata": {},
   "outputs": [
    {
     "name": "stdout",
     "output_type": "stream",
     "text": [
      "number of equations: 24\n"
     ]
    }
   ],
   "source": [
    "print('number of equations: {}'.format(n_eqns))"
   ]
  },
  {
   "cell_type": "code",
   "execution_count": 24,
   "metadata": {},
   "outputs": [],
   "source": [
    "eqns = np.ones(n_vars, dtype=np.float64)"
   ]
  },
  {
   "cell_type": "code",
   "execution_count": 25,
   "metadata": {},
   "outputs": [
    {
     "data": {
      "text/plain": [
       "array([1., 1., 1., 1., 1., 1., 1., 1., 1., 1., 1., 1., 1., 1., 1., 1., 1.,\n",
       "       1., 1., 1., 1., 1., 1., 1.])"
      ]
     },
     "execution_count": 25,
     "metadata": {},
     "output_type": "execute_result"
    }
   ],
   "source": [
    "eqns"
   ]
  },
  {
   "cell_type": "code",
   "execution_count": 26,
   "metadata": {},
   "outputs": [],
   "source": [
    "idx = 0\n",
    "for equation in equation_list:\n",
    "    equation.eqns = eqns[idx:idx+equation.n_eqns]\n",
    "    idx += equation.n_eqns"
   ]
  },
  {
   "cell_type": "code",
   "execution_count": 27,
   "metadata": {},
   "outputs": [],
   "source": [
    "for equation in equation_list:\n",
    "    equation.calculate()"
   ]
  },
  {
   "cell_type": "code",
   "execution_count": 28,
   "metadata": {},
   "outputs": [
    {
     "data": {
      "text/plain": [
       "array([-1. ,  0. ,  0. ,  0. ,  0. ,  0. ,  0. ,  0. ,  0. ,  0. ,  0. ,\n",
       "        0. ,  0. ,  0. ,  0. ,  9. , 99. , 49. , -0.8, -0.9, -0.8, -0.9,\n",
       "       -0.6,  6. ])"
      ]
     },
     "execution_count": 28,
     "metadata": {},
     "output_type": "execute_result"
    }
   ],
   "source": [
    "eqns"
   ]
  },
  {
   "cell_type": "markdown",
   "metadata": {},
   "source": [
    "This is just a test of the equation calculations."
   ]
  },
  {
   "cell_type": "code",
   "execution_count": 29,
   "metadata": {},
   "outputs": [
    {
     "name": "stdout",
     "output_type": "stream",
     "text": [
      "[1. 1. 1. 1. 1. 1. 1. 1. 1. 1. 1. 1. 1. 1. 1. 1. 1. 1. 1. 1. 1. 1. 1. 1.]\n"
     ]
    }
   ],
   "source": [
    "print(xvar)"
   ]
  },
  {
   "cell_type": "code",
   "execution_count": 30,
   "metadata": {},
   "outputs": [],
   "source": [
    "def process_eqns(xvar):\n",
    "    # map xvar to the class Stream members. this is being done at each call\n",
    "    # in case fsolve passes a different variable (memory locations) from time to time.\n",
    "    # investigate and do this mapping only during the first call to this function\n",
    "    # if that works.\n",
    "    map_x_to_stream(xvar)\n",
    "    \n",
    "    for equation in equation_list:\n",
    "        equation.calculate()\n",
    "\n",
    "    # fsolve apparently expects a list to be returned, not a numpy array, though it is not documented.\n",
    "    return eqns.tolist()"
   ]
  },
  {
   "cell_type": "code",
   "execution_count": 31,
   "metadata": {},
   "outputs": [
    {
     "data": {
      "text/plain": [
       "array([1., 1., 1., 1., 1., 1., 1., 1., 1., 1., 1., 1., 1., 1., 1., 1., 1.,\n",
       "       1., 1., 1., 1., 1., 1., 1.])"
      ]
     },
     "execution_count": 31,
     "metadata": {},
     "output_type": "execute_result"
    }
   ],
   "source": [
    "xvar"
   ]
  },
  {
   "cell_type": "code",
   "execution_count": 32,
   "metadata": {},
   "outputs": [],
   "source": [
    "x_solution = fsolve(process_eqns, xvar)"
   ]
  },
  {
   "cell_type": "code",
   "execution_count": 33,
   "metadata": {},
   "outputs": [],
   "source": [
    "map_x_to_stream(x_solution)"
   ]
  },
  {
   "cell_type": "code",
   "execution_count": 34,
   "metadata": {},
   "outputs": [
    {
     "data": {
      "text/plain": [
       "array([ 10. , 100. ,  50. ,   0.2,   0.1,   0.2,   0.1,   0.4,   7. ,\n",
       "       100. ,  50. ,   0.2,   0.1,   0.2,   0.1,   0.4,   3. , 100. ,\n",
       "        50. ,   0.2,   0.1,   0.2,   0.1,   0.4])"
      ]
     },
     "execution_count": 34,
     "metadata": {},
     "output_type": "execute_result"
    }
   ],
   "source": [
    "x_solution"
   ]
  },
  {
   "cell_type": "code",
   "execution_count": 35,
   "metadata": {},
   "outputs": [
    {
     "data": {
      "text/plain": [
       "array([0., 0., 0., 0., 0., 0., 0., 0., 0., 0., 0., 0., 0., 0., 0., 0., 0.,\n",
       "       0., 0., 0., 0., 0., 0., 0.])"
      ]
     },
     "execution_count": 35,
     "metadata": {},
     "output_type": "execute_result"
    }
   ],
   "source": [
    "eqns"
   ]
  },
  {
   "cell_type": "code",
   "execution_count": 36,
   "metadata": {},
   "outputs": [
    {
     "data": {
      "text/plain": [
       "array([1., 1., 1., 1., 1., 1., 1., 1., 1., 1., 1., 1., 1., 1., 1., 1., 1.,\n",
       "       1., 1., 1., 1., 1., 1., 1.])"
      ]
     },
     "execution_count": 36,
     "metadata": {},
     "output_type": "execute_result"
    }
   ],
   "source": [
    "xvar"
   ]
  },
  {
   "cell_type": "markdown",
   "metadata": {},
   "source": [
    "`xvar` is unchanged, so `fsolve` must be passing a copy of the initial guess to `process_eqns`, necessitating remapping of the variables inside `process_eqns`."
   ]
  },
  {
   "cell_type": "code",
   "execution_count": 37,
   "metadata": {},
   "outputs": [
    {
     "name": "stdout",
     "output_type": "stream",
     "text": [
      "Stream name: Condensate\n",
      "Stream number: 0\n",
      "Flow rate: 10.0\n",
      "Temperature: 100.0\n",
      "Pressure: 50.0\n",
      "Fractions: [0.2 0.1 0.2 0.1 0.4]\n",
      "\n"
     ]
    }
   ],
   "source": [
    "print(condensate)"
   ]
  },
  {
   "cell_type": "code",
   "execution_count": 38,
   "metadata": {},
   "outputs": [
    {
     "name": "stdout",
     "output_type": "stream",
     "text": [
      "Stream name: Reflux\n",
      "Stream number: 1\n",
      "Flow rate: 7.0\n",
      "Temperature: 100.0\n",
      "Pressure: 50.0\n",
      "Fractions: [0.2 0.1 0.2 0.1 0.4]\n",
      "\n"
     ]
    }
   ],
   "source": [
    "print(reflux)"
   ]
  },
  {
   "cell_type": "code",
   "execution_count": 39,
   "metadata": {},
   "outputs": [
    {
     "name": "stdout",
     "output_type": "stream",
     "text": [
      "Stream name: Top product\n",
      "Stream number: 2\n",
      "Flow rate: 2.9999999999999996\n",
      "Temperature: 100.0\n",
      "Pressure: 50.0\n",
      "Fractions: [0.2 0.1 0.2 0.1 0.4]\n",
      "\n"
     ]
    }
   ],
   "source": [
    "print(top_product)"
   ]
  },
  {
   "cell_type": "code",
   "execution_count": null,
   "metadata": {},
   "outputs": [],
   "source": []
  },
  {
   "cell_type": "code",
   "execution_count": null,
   "metadata": {},
   "outputs": [],
   "source": []
  }
 ],
 "metadata": {
  "kernelspec": {
   "display_name": "Python 3",
   "language": "python",
   "name": "python3"
  },
  "language_info": {
   "codemirror_mode": {
    "name": "ipython",
    "version": 3
   },
   "file_extension": ".py",
   "mimetype": "text/x-python",
   "name": "python",
   "nbconvert_exporter": "python",
   "pygments_lexer": "ipython3",
   "version": "3.8.5"
  }
 },
 "nbformat": 4,
 "nbformat_minor": 4
}
