{
 "cells": [
  {
   "cell_type": "markdown",
   "metadata": {},
   "source": [
    "# Steady-State Distillation  Model"
   ]
  },
  {
   "cell_type": "code",
   "execution_count": 1,
   "metadata": {},
   "outputs": [],
   "source": [
    "import numpy as np\n",
    "from scipy.optimize import fsolve\n",
    "import pandas as pd\n",
    "import matplotlib.pyplot as plt\n",
    "%matplotlib inline"
   ]
  },
  {
   "cell_type": "code",
   "execution_count": 2,
   "metadata": {},
   "outputs": [],
   "source": [
    "# Antoine constants for saturate vapor pressure for \n",
    "# i-butane, n-butane, i-pentane, n-pentane, n-hexane\n",
    "# form of the equation is\n",
    "# p_sat (psia) = A - B / (C + T(F))\n",
    "# above data from E.g. 8-11 in the textbook by Foust, et. al.\n",
    "\n",
    "Antoine_A = np.array((5.03458, 5.11679, 5.07617, 5.13871, 5.16426))\n",
    "Antoine_B = np.array((1589.04, 1702.62, 1836.0216, 1916.334, 2108.754))\n",
    "Antoine_C = np.array((400, 400, 387.575, 385.6, 371.859))"
   ]
  },
  {
   "cell_type": "code",
   "execution_count": 3,
   "metadata": {},
   "outputs": [],
   "source": [
    "class Unit():\n",
    "    def __init__(self, name, num):\n",
    "        self.xvar = None\n",
    "        self.eqns = None\n",
    "        self.unit_dict = dict()\n",
    "        if name is None:\n",
    "            self.name = type(self).__name__ + str(num)\n",
    "        else:\n",
    "            self.name = name\n",
    "        \n",
    "    def num_eqns(self):\n",
    "        num = self.n_eqns\n",
    "        for u in self.unit_dict:\n",
    "            num += self.unit_dict[u].num_eqns()\n",
    "        return num        \n",
    "\n",
    "    def num_vars(self):\n",
    "        num = self.n_vars\n",
    "        for u in self.unit_dict:\n",
    "            num += self.unit_dict[u].num_vars()\n",
    "        return num        "
   ]
  },
  {
   "cell_type": "code",
   "execution_count": 4,
   "metadata": {},
   "outputs": [],
   "source": [
    "class Stream(Unit):\n",
    "    \n",
    "    n_streams = 0\n",
    "    \n",
    "    def __init__(self, n_comps=1, name=None):\n",
    "        self.stream_num = Stream.n_streams\n",
    "        super().__init__(name, self.stream_num)\n",
    "        Stream.n_streams += 1\n",
    "        # the stream member x_var will be as follows:\n",
    "        # [0] flow rate\n",
    "        # [1] temperature\n",
    "        # [2:] fraction of each component. if flow is in mass units, these are mass fractions\n",
    "        self.n_comps = n_comps\n",
    "        self.n_vars = 2 + n_comps\n",
    "        self.n_eqns = 0\n",
    "        \n",
    "    def __str__(self):\n",
    "        s = 'Stream name: {}\\n'.format(self.name)\n",
    "        s = s + 'Stream number: {}\\n'.format(self.stream_num)\n",
    "        s = s + 'Number of variables: {}\\n'.format(self.n_vars)\n",
    "        s = s + 'Number of equations: {}\\n'.format(self.n_eqns)\n",
    "        if self.xvar is None:\n",
    "            s = s + 'Variables not set\\n'\n",
    "        else:\n",
    "            s = s + 'Flow rate: {}\\n'.format(self.xvar[0])\n",
    "            s = s + 'Temperature: {}\\n'.format(self.xvar[1])\n",
    "            s = s + 'Fractions: {}\\n'.format(self.xvar[2:])\n",
    "        return s\n",
    "    \n",
    "    def calculate(self):\n",
    "        pass"
   ]
  },
  {
   "cell_type": "code",
   "execution_count": 5,
   "metadata": {},
   "outputs": [],
   "source": [
    "class Mixer(Unit):\n",
    "    \n",
    "    n_mixers = 0\n",
    "    \n",
    "    def __init__(self, streams_in, streams_out, name=None):\n",
    "        self.mixer_num = Mixer.n_mixers\n",
    "        super().__init__(name, self.mixer_num)\n",
    "        Mixer.n_mixers += 1\n",
    "        self.streams_in = streams_in\n",
    "        self.streams_out = streams_out\n",
    "        self.n_in = len(self.streams_in)\n",
    "        self.n_out = len(self.streams_out)\n",
    "        self.n_vars = 0\n",
    "        self.n_eqns = (self.streams_in[0].n_comps + 1) * self.n_out + 1\n",
    "\n",
    "    def __str__(self):\n",
    "        s = ''\n",
    "        s = s + 'Mixer name: {}\\n'.format(self.name)\n",
    "        s = s + 'Mixer number: {}\\n'.format(self.mixer_num)\n",
    "        s = s + 'Number of variables: {}\\n'.format(self.n_vars)\n",
    "        s = s + 'Number of equations: {}\\n'.format(self.n_eqns)\n",
    "        s_in = list()\n",
    "        for stream in self.streams_in:\n",
    "            s_in.append(stream.name)\n",
    "        s = s + 'Streams in: {}\\n'.format(','.join(s_in))\n",
    "        s_out = list()\n",
    "        for stream in self.streams_out:\n",
    "            s_out.append(stream.name)\n",
    "        s = s + 'Streams out: {}\\n'.format(', '.join(s_out))\n",
    "        s = s + 'Number of equations: {}\\n'.format(self.n_eqns)\n",
    "        if self.eqns is None:\n",
    "            s = s + 'Equations not set\\n'\n",
    "        else:\n",
    "            s = s + 'Equations: {}\\n'.format(self.eqns[:])\n",
    "        return s\n",
    "    \n",
    "    def calculate(self):\n",
    "        # total mass balance: 1 equation\n",
    "        total_in = 0\n",
    "        for s in self.streams_in:\n",
    "            total_in += s.xvar[0]\n",
    "        total_out = 0\n",
    "        for s in self.streams_out:\n",
    "            total_out += s.xvar[0]\n",
    "        self.eqns[0] = total_in - total_out\n",
    "        # heat balance (simple: temp out is weighted average of temp in. n_out equations)\n",
    "        t_avg_in = 0\n",
    "        for s in self.streams_in:\n",
    "            t_avg_in += s.xvar[0] * s.xvar[1]\n",
    "        if total_in == 0:\n",
    "            t_avg_in = self.streams_in[0].xvar[1]\n",
    "        else:\n",
    "            t_avg_in = t_avg_in / total_in\n",
    "        eq_n = 0\n",
    "        for s in self.streams_out:\n",
    "            eq_n += 1\n",
    "            self.eqns[eq_n] = t_avg_in - s.xvar[1]\n",
    "        # component balances (n_out * n_comps equations)\n",
    "        for i_comp in range(self.streams_in[0].n_comps):\n",
    "            comp_in = 0\n",
    "            for s in self.streams_in:\n",
    "                comp_in += s.xvar[2 + i_comp] * s.xvar[0]\n",
    "            if total_in == 0:\n",
    "                comp_in = self.streams_in[0].xvar[2 + i_comp]\n",
    "            else:\n",
    "                comp_in = comp_in / total_in\n",
    "            for s in self.streams_out:\n",
    "                eq_n += 1\n",
    "                self.eqns[eq_n] = comp_in - s.xvar[2 + i_comp]\n",
    "        return"
   ]
  },
  {
   "cell_type": "code",
   "execution_count": 6,
   "metadata": {},
   "outputs": [],
   "source": [
    "class Connector(Unit):\n",
    "    \n",
    "    n_connectors = 0\n",
    "    \n",
    "    def __init__(self, stream_in, stream_out, name=None):\n",
    "        self.connector_num = Connector.n_connectors\n",
    "        super().__init__(name, self.connector_num)\n",
    "        Connector.n_connectors += 1\n",
    "        self.stream_in = stream_in\n",
    "        self.stream_out = stream_out\n",
    "        self.n_vars = 0\n",
    "        self.n_eqns = self.stream_in.n_comps + 2\n",
    "\n",
    "    def __str__(self):\n",
    "        s = ''\n",
    "        s = s + 'Connector number: {}\\n'.format(self.connector_num)\n",
    "        s = s + 'Stream in: {}\\n'.format(self.stream_in.name)\n",
    "        s = s + 'Stream out: {}\\n'.format(self.stream_out.name)\n",
    "        s = s + 'Number of variables: {}\\n'.format(self.n_vars)\n",
    "        s = s + 'Number of equations: {}\\n'.format(self.n_eqns)\n",
    "        if self.eqns is None:\n",
    "            s = s + 'Equations not set\\n'\n",
    "        else:\n",
    "            s = s + 'Equations: {}\\n'.format(self.eqns[:])\n",
    "        return s\n",
    "    \n",
    "    def calculate(self):\n",
    "        # equate flow: 1 equation\n",
    "        self.eqns[0] = self.stream_in.xvar[0] - self.stream_out.xvar[0]\n",
    "        # equate temperature: 1 equation\n",
    "        self.eqns[1] = self.stream_in.xvar[1] - self.stream_out.xvar[1]\n",
    "        # equate component fractions: n_comps equations\n",
    "        for i_comp in range(self.stream_in.n_comps):\n",
    "            self.eqns[2 + i_comp] = self.stream_in.xvar[2 + i_comp] - self.stream_out.xvar[2 + i_comp]\n",
    "        return"
   ]
  },
  {
   "cell_type": "code",
   "execution_count": 7,
   "metadata": {},
   "outputs": [],
   "source": [
    "class Specify(Unit):\n",
    "    \n",
    "    n_specs = 0\n",
    "    \n",
    "    def __init__(self, name=None, flow=False, temperature=False, fraction=False, \n",
    "                 stream=None, comp_num=None, value=None):\n",
    "        self.spec_num = Specify.n_specs\n",
    "        super().__init__(name, self.spec_num)\n",
    "        Specify.n_specs += 1\n",
    "        assert flow + temperature + fraction == 1, 'Too many/few specifications for ' + self.name\n",
    "            \n",
    "        self.flow = flow\n",
    "        self.temperature = temperature\n",
    "        self.fraction = fraction\n",
    "        self.stream = stream\n",
    "        self.comp_num = comp_num\n",
    "        self.value = value\n",
    "        self.n_vars = 0\n",
    "        self.n_eqns = 1\n",
    "\n",
    "    def __str__(self):\n",
    "        s = ''\n",
    "        s = s + 'Specification name: {}\\n'.format(self.name)\n",
    "        s = s + 'Stream : {}\\n'.format(self.stream.name)\n",
    "        s = s + 'Number of variables: {}\\n'.format(self.n_vars)\n",
    "        s = s + 'Number of equations: {}\\n'.format(self.n_eqns)\n",
    "        if self.flow:\n",
    "            s = s + 'Flow: {}\\n'.format(self.value)\n",
    "        elif self.temperature:\n",
    "            s = s + 'Temperature: {}\\n'.format(self.value)\n",
    "        elif self.fraction:\n",
    "            s = s + 'Fraction: component {}, value: {}\\n'.format(self.comp_num, self.value)            \n",
    "            \n",
    "        if self.eqns is None:\n",
    "            s = s + 'Equations not set\\n'\n",
    "        else:\n",
    "            s = s + 'Equations: {}\\n'.format(self.eqns[:])\n",
    "        return s\n",
    "    \n",
    "    def calculate(self):\n",
    "        if self.flow:\n",
    "            self.eqns[0] = self.value -  self.stream.xvar[0]\n",
    "        if self.temperature:\n",
    "            self.eqns[0] = self.value -  self.stream.xvar[1]\n",
    "        if self.fraction:\n",
    "            self.eqns[0] = self.value -  self.stream.xvar[2 + self.comp_num]\n",
    "        return"
   ]
  },
  {
   "cell_type": "code",
   "execution_count": 8,
   "metadata": {},
   "outputs": [],
   "source": [
    "class Tray(Unit):\n",
    "    \n",
    "    n_trays = 0\n",
    "    \n",
    "    def __init__(self, liq_stream_in, liq_stream_out, vap_stream_in, vap_stream_out, press, name=None):\n",
    "        self.tray_num = Tray.n_trays\n",
    "        super().__init__(name, self.tray_num)\n",
    "        Tray.n_trays += 1\n",
    "        self.liq_stream_in = liq_stream_in\n",
    "        self.liq_stream_out = liq_stream_out\n",
    "        self.vap_stream_in = vap_stream_in\n",
    "        self.vap_stream_out = vap_stream_out\n",
    "        self.press = press\n",
    "        self.n_vars = 0\n",
    "        self.n_eqns = 2 * self.liq_stream_in.n_comps + 4\n",
    "\n",
    "    def __str__(self):\n",
    "        s = ''\n",
    "        s = s + 'Tray name: {}\\n'.format(self.name)\n",
    "        s = s + 'Tray number: {}\\n'.format(self.tray_num)\n",
    "        s = s + 'Liquid stream in: {}\\n'.format(self.liq_stream_in.name)\n",
    "        s = s + 'Liquid stream out: {}\\n'.format(self.liq_stream_out.name)\n",
    "        s = s + 'Vapor stream in: {}\\n'.format(self.vap_stream_in.name)\n",
    "        s = s + 'Vapor stream out: {}\\n'.format(self.vap_stream_out.name)\n",
    "        s = s + 'Pressure: {}\\n'.format(self.press)\n",
    "        s = s + 'Number of variables: {}\\n'.format(self.n_vars)\n",
    "        s = s + 'Number of equations: {}\\n'.format(self.n_eqns)\n",
    "        if self.eqns is None:\n",
    "            s = s + 'Equations not set\\n'\n",
    "        else:\n",
    "            s = s + 'Equations: {}\\n'.format(self.eqns[:])\n",
    "        return s\n",
    "    \n",
    "    def calculate(self):\n",
    "        # total mass balance: 1 equation\n",
    "        self.eqns[0] = self.liq_stream_in.xvar[0] + self.vap_stream_in.xvar[0] - \\\n",
    "            self.liq_stream_out.xvar[0] - self.vap_stream_out.xvar[0]\n",
    "        # heat balance (simple: equimolal overflow. 1 equation)\n",
    "        self.eqns[1] = self.liq_stream_in.xvar[0] - self.liq_stream_out.xvar[0]\n",
    "        # heat balance (simple: liquid and vapor leaving tray have the same temperatures. 1 equation)\n",
    "        self.eqns[2] = self.vap_stream_out.xvar[1] - self.liq_stream_out.xvar[1]\n",
    "        # fractions sum to one (2 equations)\n",
    "        sum_x = -1\n",
    "        sum_y = -1\n",
    "        for i_comp in range(self.liq_stream_in.n_comps):\n",
    "            sum_x += self.liq_stream_out.xvar[2+i_comp]\n",
    "            sum_y += self.vap_stream_out.xvar[2+i_comp]\n",
    "        self.eqns[3] = sum_x\n",
    "        self.eqns[4] = sum_y\n",
    "        # component balances (n_comps equations)\n",
    "        for i_comp in range(self.liq_stream_in.n_comps-1):\n",
    "            self.eqns[5+i_comp] = self.liq_stream_in.xvar[0] * self.liq_stream_in.xvar[2+i_comp] + \\\n",
    "                self.vap_stream_in.xvar[0] * self.vap_stream_in.xvar[2+i_comp] - \\\n",
    "                self.liq_stream_out.xvar[0] * self.liq_stream_out.xvar[2+i_comp] - \\\n",
    "                self.vap_stream_out.xvar[0] * self.vap_stream_out.xvar[2+i_comp]\n",
    "        # vapor-liquid equilibrium (n_comps equations)\n",
    "        for i_comp in range(self.liq_stream_in.n_comps):\n",
    "            K_eq = np.power(10, Antoine_A[i_comp] - Antoine_B[i_comp] / (Antoine_C[i_comp] + self.liq_stream_out.xvar[1])) / self.press\n",
    "            self.eqns[4+self.liq_stream_in.n_comps+i_comp] = self.vap_stream_out.xvar[2+i_comp] - \\\n",
    "                K_eq * self.liq_stream_out.xvar[2+i_comp]\n",
    "        return"
   ]
  },
  {
   "cell_type": "code",
   "execution_count": 9,
   "metadata": {},
   "outputs": [],
   "source": [
    "class SimpleColumn(Unit):\n",
    "    \n",
    "    n_columns = 0\n",
    "    \n",
    "    def __init__(self, n_trays, feed_tray, feed_stream_liq, reflux, vapor_reboil, condensate,\n",
    "                 bottoms, press, name=None):\n",
    "        '''\n",
    "        feed_tray must be an integer between 1 and n_trays-2 (feed cannot be to the top or bottom trays for now)\n",
    "        the bottom tray is tray number zero\n",
    "        the top tray is tray number n_trays-1\n",
    "        '''\n",
    "        self.column_num = SimpleColumn.n_columns\n",
    "        super().__init__(name, self.column_num)\n",
    "        SimpleColumn.n_columns += 1\n",
    "        \n",
    "        assert n_trays > 0, '{}: Number of tray must be greater than zero (specified {})'.format(self.name, n_trays)\n",
    "        self.n_trays = n_trays\n",
    "        \n",
    "        assert (feed_tray >= 1) and (feed_tray <= self.n_trays-2), \\\n",
    "            '{}: Feed tray number must be from 1 to {} inclusive (specified {}). No feed to the top or bottom trays for now' \\\n",
    "            .format(self.name, self.n_trays-2, feed_tray)\n",
    "        self.feed_tray = feed_tray\n",
    "        \n",
    "        self.feed_stream_liq = feed_stream_liq\n",
    "        self.reflux = reflux\n",
    "        self.vapor_reboil = vapor_reboil\n",
    "        self.condensate = condensate\n",
    "        self.bottoms = bottoms\n",
    "        self.press = press\n",
    "        self.n_vars = 0\n",
    "        self.n_eqns = 0\n",
    "        \n",
    "        # figure out number of streams to be created as part of this column\n",
    "        # for each tray, there are two streams leaving (one liquid, one vapor)\n",
    "        # one liquid feed stream (comes from outside the column)\n",
    "        # one stream that is a combination of the liquid feed stream and the liquid from the tray above the feed tray\n",
    "        \n",
    "        # create the streams associated with the column\n",
    "        # tray liquid and vapor streams\n",
    "        self.tray_liq_stream = []\n",
    "        for i_tray in range(self.n_trays):\n",
    "            name = self.name+'Tray'+str(i_tray)+'Liquid'\n",
    "            self.tray_liq_stream.append(Stream(n_comps=N_COMPS, name=name))\n",
    "\n",
    "        self.tray_vap_stream = []\n",
    "        for i_tray in range(self.n_trays):\n",
    "            name = self.name+'Tray'+str(i_tray)+'Vapor'\n",
    "            self.tray_vap_stream.append(Stream(n_comps=N_COMPS, name=name))\n",
    "\n",
    "        # create the mixed stream consisting of the feed stream and the liquid from the tray above the feed tray\n",
    "        name = self.name+'MixedLiquidFeed'\n",
    "        self.mixed_liq_feed = Stream(n_comps=N_COMPS, name=name)\n",
    "        self.unit_dict[name] = self.mixed_liq_feed\n",
    "        \n",
    "        # create the mixer needed to mix the liquid feed and the liquid from the tray above the feed tray\n",
    "        name=self.name+'FeedMixer'\n",
    "        self.feed_mixer = Mixer(streams_in=[self.feed_stream_liq, self.tray_liq_stream[feed_tray+1]], \n",
    "                                streams_out=[self.mixed_liq_feed],\n",
    "                                name=name)\n",
    "        self.unit_dict[name] = self.feed_mixer\n",
    "        \n",
    "        # create trays\n",
    "        self.trays = []\n",
    "        for i_tray in range(self.n_trays):\n",
    "            name=self.name+'Tray'+str(i_tray)\n",
    "            if i_tray == self.feed_tray:\n",
    "                self.trays.append(Tray(liq_stream_in=self.mixed_liq_feed, \n",
    "                                       liq_stream_out=self.tray_liq_stream[i_tray],\n",
    "                                       vap_stream_in=self.tray_vap_stream[i_tray-1], \n",
    "                                       vap_stream_out=self.tray_vap_stream[i_tray], \n",
    "                                       press=self.press, name=name))\n",
    "            elif i_tray == 0:\n",
    "                self.trays.append(Tray(liq_stream_in=self.tray_liq_stream[i_tray+1], \n",
    "                                       liq_stream_out=self.tray_liq_stream[i_tray],\n",
    "                                       vap_stream_in=self.vapor_reboil, \n",
    "                                       vap_stream_out=self.tray_vap_stream[i_tray], \n",
    "                                       press=self.press, name=name))\n",
    "            elif i_tray == self.n_trays-1:\n",
    "                self.trays.append(Tray(liq_stream_in=self.reflux, \n",
    "                                       liq_stream_out=self.tray_liq_stream[i_tray],\n",
    "                                       vap_stream_in=self.tray_vap_stream[i_tray-1], \n",
    "                                       vap_stream_out=self.tray_vap_stream[i_tray], \n",
    "                                       press=self.press, name=name))\n",
    "            else:\n",
    "                self.trays.append(Tray(liq_stream_in=self.tray_liq_stream[i_tray+1], \n",
    "                                       liq_stream_out=self.tray_liq_stream[i_tray],\n",
    "                                       vap_stream_in=self.tray_vap_stream[i_tray-1], \n",
    "                                       vap_stream_out=self.tray_vap_stream[i_tray], \n",
    "                                       press=self.press, name=name))\n",
    "                \n",
    "        for s in self.tray_liq_stream:\n",
    "            self.unit_dict[s.name] = s\n",
    "\n",
    "        for s in self.tray_vap_stream:\n",
    "            self.unit_dict[s.name] = s\n",
    "        \n",
    "        for s in self.trays:\n",
    "            self.unit_dict[s.name] = s\n",
    "        \n",
    "        name = self.name+'CondensateConnector'\n",
    "        self.condensate_connector = Connector(self.condensate, self.tray_vap_stream[n_trays-1], name=name)\n",
    "        self.unit_dict[name] = self.condensate_connector\n",
    "            \n",
    "        name = self.name+'BottomsConnector'\n",
    "        self.bottoms_connector = Connector(self.bottoms, self.tray_liq_stream[0], name=name)\n",
    "        self.unit_dict[name] = self.bottoms_connector\n",
    "            \n",
    "    def __str__(self):\n",
    "        s = ''\n",
    "        s = s + 'SimpleColumn name: {}\\n'.format(self.name)\n",
    "        s = s + 'SimpleColumn number: {}\\n'.format(self.column_num)\n",
    "        s = s + 'Number of trays: {}\\n'.format(self.n_trays)\n",
    "        s = s + 'Feed tray: {}\\n'.format(self.feed_tray)\n",
    "        s = s + 'Pressure: {}\\n'.format(self.press)\n",
    "        s = s + 'Liquid feed stream: {}\\n'.format(self.feed_stream_liq.name)\n",
    "        s = s + 'Reflux stream: {}\\n'.format(self.reflux.name)\n",
    "        s = s + 'Vapor reboil stream: {}\\n'.format(self.vapor_reboil.name)\n",
    "        s = s + 'Number of variables: {}\\n'.format(self.n_vars)\n",
    "        s = s + 'Number of equations: {}\\n'.format(self.n_eqns)\n",
    "        if self.eqns is None:\n",
    "            s = s + 'Equations not set\\n'\n",
    "        else:\n",
    "            s = s + 'Equations: {}\\n'.format(self.eqns[:])\n",
    "        return s\n",
    "        \n",
    "    def calculate(self):\n",
    "        for u in self.unit_dict:\n",
    "            self.unit_dict[u].calculate()\n",
    "            \n",
    "    def profile(self):\n",
    "        '''\n",
    "        return a pandas data frame containing the flow, temperature and composition profiles for each of the trays\n",
    "        the row for each tray contains the following columns:\n",
    "        0: tray number\n",
    "        1: liquid flow from tray\n",
    "        2: vapor flow from tray\n",
    "        3: tray temperature\n",
    "        4:4+n_comps: liquid fractions\n",
    "        4+n_comps:4+2*n_comps: vapor fractions\n",
    "        '''\n",
    "        p = np.ones((self.n_trays, 2 * self.trays[0].liq_stream_out.n_vars), dtype=np.float64) * (-1)\n",
    "        n_comps = self.trays[0].liq_stream_out.n_comps\n",
    "        cols = ['tray_num','L','V','T']\n",
    "        cols = cols + ['{}'.format(a+str(b)) for a,b in zip(n_comps*['x'], range(n_comps))]\n",
    "        cols = cols + ['{}'.format(a+str(b)) for a,b in zip(n_comps*['y'], range(n_comps))]\n",
    "        for i_tray in range(self.n_trays):\n",
    "            p[i_tray, 0] = i_tray\n",
    "            p[i_tray, 1] = self.trays[i_tray].liq_stream_out.xvar[0]\n",
    "            p[i_tray, 2] = self.trays[i_tray].vap_stream_out.xvar[0]\n",
    "            p[i_tray, 3] = self.trays[i_tray].liq_stream_out.xvar[1]\n",
    "            p[i_tray, 4:4+n_comps] = self.trays[i_tray].liq_stream_out.xvar[2:]\n",
    "            p[i_tray, 4+n_comps:4+2*n_comps] = self.trays[i_tray].vap_stream_out.xvar[2:]\n",
    "        return pd.DataFrame(data=p, columns=cols)"
   ]
  },
  {
   "cell_type": "code",
   "execution_count": 10,
   "metadata": {},
   "outputs": [],
   "source": [
    "def map_var_to_unit1(x, unit_dict):\n",
    "\n",
    "    def map_var_to_unit2(x, unit_dict, idx):\n",
    "        for u in unit_dict:\n",
    "            n_vars = unit_dict[u].n_vars\n",
    "            if n_vars > 0:\n",
    "                unit_dict[u].xvar = x[idx:idx+n_vars]\n",
    "                idx += n_vars\n",
    "            map_var_to_unit2(x, unit_dict[u].unit_dict, idx)\n",
    "\n",
    "    idx = 0\n",
    "    map_var_to_unit2(x, unit_dict, idx)"
   ]
  },
  {
   "cell_type": "code",
   "execution_count": 11,
   "metadata": {},
   "outputs": [],
   "source": [
    "def map_eqn_to_unit1(e, unit_dict):\n",
    "\n",
    "    def map_eqn_to_unit2(e, unit_dict, idx):\n",
    "        for u in unit_dict:\n",
    "            n_eqns = unit_dict[u].n_eqns\n",
    "            if n_eqns > 0:\n",
    "                unit_dict[u].eqns = e[idx:idx+n_eqns]\n",
    "                idx += n_eqns\n",
    "            map_eqn_to_unit2(e, unit_dict[u].unit_dict, idx)\n",
    "\n",
    "    idx = 0\n",
    "    map_eqn_to_unit2(e, unit_dict, idx)"
   ]
  },
  {
   "cell_type": "code",
   "execution_count": 12,
   "metadata": {},
   "outputs": [],
   "source": [
    "def process_eqns(xvar):\n",
    "    map_var_to_unit1(xvar, unit_dict)\n",
    "    for u in unit_dict:\n",
    "        unit_dict[u].calculate()\n",
    "    return eqns.tolist()"
   ]
  },
  {
   "cell_type": "markdown",
   "metadata": {},
   "source": [
    "# <font color='red'>Foust Column</font>"
   ]
  },
  {
   "cell_type": "code",
   "execution_count": 13,
   "metadata": {},
   "outputs": [],
   "source": [
    "N_COMPS = 5"
   ]
  },
  {
   "cell_type": "code",
   "execution_count": 14,
   "metadata": {},
   "outputs": [],
   "source": [
    "unit_dict = dict()"
   ]
  },
  {
   "cell_type": "code",
   "execution_count": 15,
   "metadata": {},
   "outputs": [],
   "source": [
    "condensate = Stream(n_comps=N_COMPS, name='Condensate')\n",
    "reflux = Stream(n_comps=N_COMPS, name='Reflux')\n",
    "top_product = Stream(n_comps=N_COMPS, name='Top product')\n",
    "bottoms = Stream(n_comps=N_COMPS, name='Bottoms')\n",
    "vapor_reboil = Stream(n_comps=N_COMPS, name='Vapor reboil')\n",
    "bottom_product = Stream(n_comps=N_COMPS, name='Bottom product')\n",
    "feed = Stream(n_comps=N_COMPS, name='LiquidFeed')"
   ]
  },
  {
   "cell_type": "code",
   "execution_count": 16,
   "metadata": {},
   "outputs": [],
   "source": [
    "unit_dict['condensate'] = condensate\n",
    "unit_dict['reflux'] = reflux\n",
    "unit_dict['top_product'] = top_product\n",
    "unit_dict['bottoms'] = bottoms\n",
    "unit_dict['vapor_reboil'] = vapor_reboil\n",
    "unit_dict['bottom_product'] = bottom_product\n",
    "unit_dict['feed'] = feed"
   ]
  },
  {
   "cell_type": "code",
   "execution_count": 17,
   "metadata": {},
   "outputs": [],
   "source": [
    "condenser = Mixer(streams_in=[condensate], \n",
    "                  streams_out=[reflux, top_product], \n",
    "                  name='Condenser')\n",
    "\n",
    "reboiler = Mixer(streams_in=[bottoms], \n",
    "                 streams_out=[vapor_reboil, bottom_product], \n",
    "                 name='Reboiler')"
   ]
  },
  {
   "cell_type": "code",
   "execution_count": 18,
   "metadata": {},
   "outputs": [],
   "source": [
    "unit_dict['condenser'] = condenser\n",
    "unit_dict['reboiler'] = reboiler"
   ]
  },
  {
   "cell_type": "code",
   "execution_count": 19,
   "metadata": {},
   "outputs": [],
   "source": [
    "feed_flow_spec = Specify(flow=True, stream=feed, value=100)\n",
    "feed_temp_spec = Specify(temperature=True, stream=feed, value=100)\n",
    "feed_ic4_spec = Specify(fraction=True, stream=feed, comp_num=0, value=0.1)\n",
    "feed_nc4_spec = Specify(fraction=True, stream=feed, comp_num=1, value=0.2)\n",
    "feed_ic5_spec = Specify(fraction=True, stream=feed, comp_num=2, value=0.35)\n",
    "feed_nc5_spec = Specify(fraction=True, stream=feed, comp_num=3, value=0.25)\n",
    "feed_nc6_spec = Specify(fraction=True, stream=feed, comp_num=4, value=0.1)\n",
    "\n",
    "top_product_flow_spec = Specify(flow=True, stream=top_product, value=30)\n",
    "\n",
    "reflux_flow_spec = Specify(flow=True, stream=reflux, value=120)"
   ]
  },
  {
   "cell_type": "code",
   "execution_count": 20,
   "metadata": {},
   "outputs": [],
   "source": [
    "unit_dict['feed_flow_spec'] = feed_flow_spec\n",
    "unit_dict['feed_temp_spec'] = feed_temp_spec\n",
    "unit_dict['feed_ic4_spec'] = feed_ic4_spec\n",
    "unit_dict['feed_nc4_spec'] = feed_nc4_spec\n",
    "unit_dict['feed_ic5_spec'] = feed_ic5_spec\n",
    "unit_dict['feed_nc5_spec'] = feed_nc5_spec\n",
    "unit_dict['feed_nc6_spec'] = feed_nc6_spec\n",
    "unit_dict['top_product_flow_spec'] = top_product_flow_spec\n",
    "unit_dict['reflux_flow_spec'] = reflux_flow_spec"
   ]
  },
  {
   "cell_type": "code",
   "execution_count": 21,
   "metadata": {},
   "outputs": [],
   "source": [
    "# instantiate distillation column in E.g. 8-11 in Foust, et. al.\n",
    "foust_8_11 = SimpleColumn(n_trays=15, feed_tray=8, \n",
    "                          feed_stream_liq=feed, \n",
    "                          reflux=reflux, \n",
    "                          vapor_reboil=vapor_reboil, \n",
    "                          condensate = condensate,\n",
    "                          bottoms = bottoms,\n",
    "                          press=55, name='foust_8_11')"
   ]
  },
  {
   "cell_type": "code",
   "execution_count": 22,
   "metadata": {},
   "outputs": [],
   "source": [
    "unit_dict[foust_8_11.name] = foust_8_11"
   ]
  },
  {
   "cell_type": "code",
   "execution_count": 23,
   "metadata": {},
   "outputs": [
    {
     "name": "stdout",
     "output_type": "stream",
     "text": [
      "SimpleColumn name: foust_8_11\n",
      "SimpleColumn number: 0\n",
      "Number of trays: 15\n",
      "Feed tray: 8\n",
      "Pressure: 55\n",
      "Liquid feed stream: LiquidFeed\n",
      "Reflux stream: Reflux\n",
      "Vapor reboil stream: Vapor reboil\n",
      "Number of variables: 0\n",
      "Number of equations: 0\n",
      "Equations not set\n",
      "\n"
     ]
    }
   ],
   "source": [
    "print(foust_8_11)"
   ]
  },
  {
   "cell_type": "code",
   "execution_count": 24,
   "metadata": {},
   "outputs": [
    {
     "data": {
      "text/plain": [
       "266"
      ]
     },
     "execution_count": 24,
     "metadata": {},
     "output_type": "execute_result"
    }
   ],
   "source": [
    "n_eqns = 0\n",
    "for u in unit_dict:\n",
    "    n_eqns += unit_dict[u].num_eqns()\n",
    "    \n",
    "n_eqns"
   ]
  },
  {
   "cell_type": "code",
   "execution_count": 25,
   "metadata": {},
   "outputs": [
    {
     "data": {
      "text/plain": [
       "266"
      ]
     },
     "execution_count": 25,
     "metadata": {},
     "output_type": "execute_result"
    }
   ],
   "source": [
    "n_vars = 0\n",
    "for u in unit_dict:\n",
    "    n_vars += unit_dict[u].num_vars()\n",
    "    \n",
    "n_vars"
   ]
  },
  {
   "cell_type": "code",
   "execution_count": 26,
   "metadata": {},
   "outputs": [
    {
     "name": "stdout",
     "output_type": "stream",
     "text": [
      "Column is OK\n"
     ]
    }
   ],
   "source": [
    "assert n_eqns == n_vars, 'Column is NOT OK'\n",
    "print('Column is OK')"
   ]
  },
  {
   "cell_type": "code",
   "execution_count": 27,
   "metadata": {},
   "outputs": [],
   "source": [
    "xvar = np.ones(n_vars, dtype=np.float64) * 100"
   ]
  },
  {
   "cell_type": "code",
   "execution_count": 28,
   "metadata": {},
   "outputs": [],
   "source": [
    "map_var_to_unit1(xvar, unit_dict)"
   ]
  },
  {
   "cell_type": "code",
   "execution_count": 29,
   "metadata": {},
   "outputs": [],
   "source": [
    "eqns = np.ones(n_vars, dtype=np.float64)"
   ]
  },
  {
   "cell_type": "code",
   "execution_count": 30,
   "metadata": {},
   "outputs": [],
   "source": [
    "map_eqn_to_unit1(eqns, unit_dict)"
   ]
  },
  {
   "cell_type": "code",
   "execution_count": 31,
   "metadata": {
    "scrolled": true
   },
   "outputs": [],
   "source": [
    "process_eqns(xvar);"
   ]
  },
  {
   "cell_type": "code",
   "execution_count": 32,
   "metadata": {},
   "outputs": [],
   "source": [
    "x_solution = fsolve(process_eqns, xvar)"
   ]
  },
  {
   "cell_type": "code",
   "execution_count": 33,
   "metadata": {},
   "outputs": [
    {
     "data": {
      "text/plain": [
       "3.026437446613957e-14"
      ]
     },
     "execution_count": 33,
     "metadata": {},
     "output_type": "execute_result"
    }
   ],
   "source": [
    "np.sum(np.square(eqns))"
   ]
  },
  {
   "cell_type": "code",
   "execution_count": 34,
   "metadata": {},
   "outputs": [],
   "source": [
    "map_var_to_unit1(x_solution, unit_dict)"
   ]
  },
  {
   "cell_type": "code",
   "execution_count": 35,
   "metadata": {},
   "outputs": [
    {
     "name": "stdout",
     "output_type": "stream",
     "text": [
      "Stream name: Top product\n",
      "Stream number: 2\n",
      "Number of variables: 7\n",
      "Number of equations: 0\n",
      "Flow rate: 30.0\n",
      "Temperature: 99.07349606231314\n",
      "Fractions: [3.33028036e-01 6.56251375e-01 9.83823282e-03 8.82247864e-04\n",
      " 1.08528267e-07]\n",
      "\n"
     ]
    }
   ],
   "source": [
    "print(top_product)"
   ]
  },
  {
   "cell_type": "code",
   "execution_count": 36,
   "metadata": {},
   "outputs": [
    {
     "name": "stdout",
     "output_type": "stream",
     "text": [
      "Stream name: Bottom product\n",
      "Stream number: 5\n",
      "Number of variables: 7\n",
      "Number of equations: 0\n",
      "Flow rate: 69.9999999999999\n",
      "Temperature: 175.65792088168965\n",
      "Fractions: [1.30841649e-04 4.46369658e-03 4.95783615e-01 3.56764751e-01\n",
      " 1.42857096e-01]\n",
      "\n"
     ]
    }
   ],
   "source": [
    "print(bottom_product)"
   ]
  },
  {
   "cell_type": "code",
   "execution_count": 37,
   "metadata": {},
   "outputs": [
    {
     "name": "stdout",
     "output_type": "stream",
     "text": [
      "Stream name: Reflux\n",
      "Stream number: 1\n",
      "Number of variables: 7\n",
      "Number of equations: 0\n",
      "Flow rate: 120.0\n",
      "Temperature: 99.07349606231314\n",
      "Fractions: [3.33028036e-01 6.56251375e-01 9.83823282e-03 8.82247864e-04\n",
      " 1.08528267e-07]\n",
      "\n"
     ]
    }
   ],
   "source": [
    "print(reflux)"
   ]
  },
  {
   "cell_type": "code",
   "execution_count": 38,
   "metadata": {},
   "outputs": [
    {
     "name": "stdout",
     "output_type": "stream",
     "text": [
      "Stream name: Vapor reboil\n",
      "Stream number: 4\n",
      "Number of variables: 7\n",
      "Number of equations: 0\n",
      "Flow rate: 150.00000000000009\n",
      "Temperature: 175.65792088168965\n",
      "Fractions: [1.30841649e-04 4.46369658e-03 4.95783615e-01 3.56764751e-01\n",
      " 1.42857096e-01]\n",
      "\n"
     ]
    }
   ],
   "source": [
    "print(vapor_reboil)"
   ]
  },
  {
   "cell_type": "code",
   "execution_count": 39,
   "metadata": {},
   "outputs": [
    {
     "name": "stdout",
     "output_type": "stream",
     "text": [
      "Stream name: Bottoms\n",
      "Stream number: 3\n",
      "Number of variables: 7\n",
      "Number of equations: 0\n",
      "Flow rate: 220.0\n",
      "Temperature: 175.65792088168962\n",
      "Fractions: [1.30841649e-04 4.46369658e-03 4.95783615e-01 3.56764751e-01\n",
      " 1.42857096e-01]\n",
      "\n"
     ]
    }
   ],
   "source": [
    "print(bottoms)"
   ]
  },
  {
   "cell_type": "code",
   "execution_count": 40,
   "metadata": {},
   "outputs": [
    {
     "name": "stdout",
     "output_type": "stream",
     "text": [
      "Stream name: Condensate\n",
      "Stream number: 0\n",
      "Number of variables: 7\n",
      "Number of equations: 0\n",
      "Flow rate: 150.0\n",
      "Temperature: 99.07349606231314\n",
      "Fractions: [3.33028036e-01 6.56251375e-01 9.83823282e-03 8.82247864e-04\n",
      " 1.08528267e-07]\n",
      "\n"
     ]
    }
   ],
   "source": [
    "print(condensate)"
   ]
  },
  {
   "cell_type": "code",
   "execution_count": 41,
   "metadata": {},
   "outputs": [],
   "source": [
    "foust_profile = foust_8_11.profile()"
   ]
  },
  {
   "cell_type": "code",
   "execution_count": 42,
   "metadata": {},
   "outputs": [
    {
     "data": {
      "text/html": [
       "<div>\n",
       "<style scoped>\n",
       "    .dataframe tbody tr th:only-of-type {\n",
       "        vertical-align: middle;\n",
       "    }\n",
       "\n",
       "    .dataframe tbody tr th {\n",
       "        vertical-align: top;\n",
       "    }\n",
       "\n",
       "    .dataframe thead th {\n",
       "        text-align: right;\n",
       "    }\n",
       "</style>\n",
       "<table border=\"1\" class=\"dataframe\">\n",
       "  <thead>\n",
       "    <tr style=\"text-align: right;\">\n",
       "      <th></th>\n",
       "      <th>tray_num</th>\n",
       "      <th>L</th>\n",
       "      <th>V</th>\n",
       "      <th>T</th>\n",
       "      <th>x0</th>\n",
       "      <th>x1</th>\n",
       "      <th>x2</th>\n",
       "      <th>x3</th>\n",
       "      <th>x4</th>\n",
       "      <th>y0</th>\n",
       "      <th>y1</th>\n",
       "      <th>y2</th>\n",
       "      <th>y3</th>\n",
       "      <th>y4</th>\n",
       "    </tr>\n",
       "  </thead>\n",
       "  <tbody>\n",
       "    <tr>\n",
       "      <th>0</th>\n",
       "      <td>0.0</td>\n",
       "      <td>220.0</td>\n",
       "      <td>150.0</td>\n",
       "      <td>175.657921</td>\n",
       "      <td>0.000131</td>\n",
       "      <td>0.004464</td>\n",
       "      <td>0.495784</td>\n",
       "      <td>0.356765</td>\n",
       "      <td>0.142857</td>\n",
       "      <td>0.000447</td>\n",
       "      <td>0.011707</td>\n",
       "      <td>0.590620</td>\n",
       "      <td>0.343854</td>\n",
       "      <td>0.053372</td>\n",
       "    </tr>\n",
       "    <tr>\n",
       "      <th>1</th>\n",
       "      <td>1.0</td>\n",
       "      <td>220.0</td>\n",
       "      <td>150.0</td>\n",
       "      <td>171.440036</td>\n",
       "      <td>0.000347</td>\n",
       "      <td>0.009402</td>\n",
       "      <td>0.560445</td>\n",
       "      <td>0.347962</td>\n",
       "      <td>0.081844</td>\n",
       "      <td>0.001131</td>\n",
       "      <td>0.023449</td>\n",
       "      <td>0.630890</td>\n",
       "      <td>0.315988</td>\n",
       "      <td>0.028543</td>\n",
       "    </tr>\n",
       "    <tr>\n",
       "      <th>2</th>\n",
       "      <td>2.0</td>\n",
       "      <td>220.0</td>\n",
       "      <td>150.0</td>\n",
       "      <td>169.347930</td>\n",
       "      <td>0.000812</td>\n",
       "      <td>0.017408</td>\n",
       "      <td>0.587902</td>\n",
       "      <td>0.328962</td>\n",
       "      <td>0.064916</td>\n",
       "      <td>0.002588</td>\n",
       "      <td>0.042336</td>\n",
       "      <td>0.643261</td>\n",
       "      <td>0.289945</td>\n",
       "      <td>0.021870</td>\n",
       "    </tr>\n",
       "    <tr>\n",
       "      <th>3</th>\n",
       "      <td>3.0</td>\n",
       "      <td>220.0</td>\n",
       "      <td>150.0</td>\n",
       "      <td>167.450325</td>\n",
       "      <td>0.001806</td>\n",
       "      <td>0.030285</td>\n",
       "      <td>0.596336</td>\n",
       "      <td>0.311206</td>\n",
       "      <td>0.060366</td>\n",
       "      <td>0.005633</td>\n",
       "      <td>0.071976</td>\n",
       "      <td>0.635774</td>\n",
       "      <td>0.266912</td>\n",
       "      <td>0.019706</td>\n",
       "    </tr>\n",
       "    <tr>\n",
       "      <th>4</th>\n",
       "      <td>4.0</td>\n",
       "      <td>220.0</td>\n",
       "      <td>150.0</td>\n",
       "      <td>164.950807</td>\n",
       "      <td>0.003882</td>\n",
       "      <td>0.050495</td>\n",
       "      <td>0.591231</td>\n",
       "      <td>0.295502</td>\n",
       "      <td>0.058890</td>\n",
       "      <td>0.011765</td>\n",
       "      <td>0.116392</td>\n",
       "      <td>0.608981</td>\n",
       "      <td>0.244427</td>\n",
       "      <td>0.018435</td>\n",
       "    </tr>\n",
       "  </tbody>\n",
       "</table>\n",
       "</div>"
      ],
      "text/plain": [
       "   tray_num      L      V           T        x0        x1        x2        x3  \\\n",
       "0       0.0  220.0  150.0  175.657921  0.000131  0.004464  0.495784  0.356765   \n",
       "1       1.0  220.0  150.0  171.440036  0.000347  0.009402  0.560445  0.347962   \n",
       "2       2.0  220.0  150.0  169.347930  0.000812  0.017408  0.587902  0.328962   \n",
       "3       3.0  220.0  150.0  167.450325  0.001806  0.030285  0.596336  0.311206   \n",
       "4       4.0  220.0  150.0  164.950807  0.003882  0.050495  0.591231  0.295502   \n",
       "\n",
       "         x4        y0        y1        y2        y3        y4  \n",
       "0  0.142857  0.000447  0.011707  0.590620  0.343854  0.053372  \n",
       "1  0.081844  0.001131  0.023449  0.630890  0.315988  0.028543  \n",
       "2  0.064916  0.002588  0.042336  0.643261  0.289945  0.021870  \n",
       "3  0.060366  0.005633  0.071976  0.635774  0.266912  0.019706  \n",
       "4  0.058890  0.011765  0.116392  0.608981  0.244427  0.018435  "
      ]
     },
     "execution_count": 42,
     "metadata": {},
     "output_type": "execute_result"
    }
   ],
   "source": [
    "foust_profile.head()"
   ]
  },
  {
   "cell_type": "code",
   "execution_count": 43,
   "metadata": {},
   "outputs": [
    {
     "data": {
      "text/plain": [
       "[<matplotlib.lines.Line2D at 0x1c0ef013fa0>]"
      ]
     },
     "execution_count": 43,
     "metadata": {},
     "output_type": "execute_result"
    },
    {
     "data": {
      "image/png": "[encoded data removed]",
      "text/plain": [
       "<Figure size 432x288 with 1 Axes>"
      ]
     },
     "metadata": {
      "needs_background": "light"
     },
     "output_type": "display_data"
    }
   ],
   "source": [
    "plt.plot(foust_profile['T'], foust_profile['tray_num'], '-')"
   ]
  },
  {
   "cell_type": "code",
   "execution_count": 44,
   "metadata": {},
   "outputs": [
    {
     "data": {
      "text/plain": [
       "<matplotlib.legend.Legend at 0x1c0f0327f70>"
      ]
     },
     "execution_count": 44,
     "metadata": {},
     "output_type": "execute_result"
    },
    {
     "data": {
      "image/png": "[encoded data removed]",
      "text/plain": [
       "<Figure size 432x288 with 1 Axes>"
      ]
     },
     "metadata": {
      "needs_background": "light"
     },
     "output_type": "display_data"
    }
   ],
   "source": [
    "plt.plot(foust_profile['x0'], foust_profile['tray_num'], '-')\n",
    "plt.plot(foust_profile['x1'], foust_profile['tray_num'], '-')\n",
    "plt.plot(foust_profile['x2'], foust_profile['tray_num'], '-')\n",
    "plt.plot(foust_profile['x3'], foust_profile['tray_num'], '-')\n",
    "plt.plot(foust_profile['x4'], foust_profile['tray_num'], '-')\n",
    "\n",
    "plt.legend(['ic4','nc4','ic5','nc5','nc6'])"
   ]
  },
  {
   "cell_type": "code",
   "execution_count": null,
   "metadata": {},
   "outputs": [],
   "source": []
  },
  {
   "cell_type": "code",
   "execution_count": null,
   "metadata": {},
   "outputs": [],
   "source": []
  },
  {
   "cell_type": "code",
   "execution_count": null,
   "metadata": {},
   "outputs": [],
   "source": []
  },
  {
   "cell_type": "code",
   "execution_count": null,
   "metadata": {},
   "outputs": [],
   "source": []
  },
  {
   "cell_type": "code",
   "execution_count": null,
   "metadata": {},
   "outputs": [],
   "source": []
  },
  {
   "cell_type": "markdown",
   "metadata": {},
   "source": [
    "# <font color='red'>TESTING</font>"
   ]
  },
  {
   "cell_type": "code",
   "execution_count": 45,
   "metadata": {},
   "outputs": [],
   "source": [
    "N_COMPS = 2"
   ]
  },
  {
   "cell_type": "markdown",
   "metadata": {},
   "source": [
    "## <font color='red'>Mixer that combines</font>"
   ]
  },
  {
   "cell_type": "code",
   "execution_count": 46,
   "metadata": {},
   "outputs": [],
   "source": [
    "x1 = Stream(n_comps=N_COMPS, name='x1')"
   ]
  },
  {
   "cell_type": "code",
   "execution_count": 47,
   "metadata": {},
   "outputs": [],
   "source": [
    "x2 = Stream(n_comps=N_COMPS, name='x2')"
   ]
  },
  {
   "cell_type": "code",
   "execution_count": 48,
   "metadata": {},
   "outputs": [],
   "source": [
    "y = Stream(n_comps=N_COMPS, name='y')"
   ]
  },
  {
   "cell_type": "code",
   "execution_count": 49,
   "metadata": {},
   "outputs": [],
   "source": [
    "mix = Mixer(streams_in=[x1,x2], streams_out=[y], name='mix')"
   ]
  },
  {
   "cell_type": "code",
   "execution_count": 50,
   "metadata": {},
   "outputs": [],
   "source": [
    "s1f = Specify(flow=True, stream=x1, value=1)\n",
    "s1t = Specify(temperature=True, stream=x1, value=100)\n",
    "sx11 = Specify(fraction=True, stream=x1, comp_num=0, value=0.1)\n",
    "sx12 = Specify(fraction=True, stream=x1, comp_num=1, value=0.9)\n",
    "\n",
    "s2f = Specify(flow=True, stream=x2, value=1)\n",
    "s2t = Specify(temperature=True, stream=x2, value=150)\n",
    "sx21 = Specify(fraction=True, stream=x2, comp_num=0, value=0.9)\n",
    "sx22 = Specify(fraction=True, stream=x2, comp_num=1, value=0.1)\n"
   ]
  },
  {
   "cell_type": "code",
   "execution_count": 51,
   "metadata": {},
   "outputs": [],
   "source": [
    "unit_dict = dict()\n",
    "unit_dict['x1'] = x1\n",
    "unit_dict['x2'] = x2\n",
    "unit_dict['y'] = y\n",
    "unit_dict['mix'] = mix\n",
    "unit_dict['s1f'] = s1f\n",
    "unit_dict['s1t'] = s1t\n",
    "unit_dict['sx11'] = sx11\n",
    "unit_dict['sx12'] = sx12\n",
    "unit_dict['s2f'] = s2f\n",
    "unit_dict['s2t'] = s2t\n",
    "unit_dict['sx21'] = sx21\n",
    "unit_dict['sx22'] = sx22\n"
   ]
  },
  {
   "cell_type": "code",
   "execution_count": 52,
   "metadata": {},
   "outputs": [
    {
     "data": {
      "text/plain": [
       "12"
      ]
     },
     "execution_count": 52,
     "metadata": {},
     "output_type": "execute_result"
    }
   ],
   "source": [
    "n_vars = 0\n",
    "for u in unit_dict:\n",
    "    n_vars += unit_dict[u].num_vars()\n",
    "    \n",
    "n_vars"
   ]
  },
  {
   "cell_type": "code",
   "execution_count": 53,
   "metadata": {},
   "outputs": [
    {
     "data": {
      "text/plain": [
       "12"
      ]
     },
     "execution_count": 53,
     "metadata": {},
     "output_type": "execute_result"
    }
   ],
   "source": [
    "n_eqns = 0\n",
    "for u in unit_dict:\n",
    "    n_eqns += unit_dict[u].num_eqns()\n",
    "    \n",
    "n_eqns"
   ]
  },
  {
   "cell_type": "code",
   "execution_count": 54,
   "metadata": {},
   "outputs": [
    {
     "name": "stdout",
     "output_type": "stream",
     "text": [
      "Mixer that mixes is OK\n"
     ]
    }
   ],
   "source": [
    "assert n_eqns == n_vars\n",
    "print('Mixer that mixes is OK')"
   ]
  },
  {
   "cell_type": "code",
   "execution_count": 55,
   "metadata": {},
   "outputs": [],
   "source": [
    "xvar = np.ones(n_vars, dtype=np.float64)\n",
    "eqns = np.ones(n_eqns, dtype=np.float64)"
   ]
  },
  {
   "cell_type": "code",
   "execution_count": 56,
   "metadata": {},
   "outputs": [],
   "source": [
    "map_var_to_unit1(xvar, unit_dict)\n",
    "map_eqn_to_unit1(eqns, unit_dict)"
   ]
  },
  {
   "cell_type": "code",
   "execution_count": 57,
   "metadata": {},
   "outputs": [],
   "source": [
    "x_soln = fsolve(process_eqns, xvar)"
   ]
  },
  {
   "cell_type": "code",
   "execution_count": 58,
   "metadata": {},
   "outputs": [
    {
     "data": {
      "text/plain": [
       "array([1.00e+00, 1.00e+02, 1.00e-01, 9.00e-01, 1.00e+00, 1.50e+02,\n",
       "       9.00e-01, 1.00e-01, 2.00e+00, 1.25e+02, 5.00e-01, 5.00e-01])"
      ]
     },
     "execution_count": 58,
     "metadata": {},
     "output_type": "execute_result"
    }
   ],
   "source": [
    "x_soln"
   ]
  },
  {
   "cell_type": "code",
   "execution_count": 59,
   "metadata": {},
   "outputs": [],
   "source": [
    "map_var_to_unit1(x_soln, unit_dict)"
   ]
  },
  {
   "cell_type": "code",
   "execution_count": 60,
   "metadata": {},
   "outputs": [
    {
     "name": "stdout",
     "output_type": "stream",
     "text": [
      "Stream name: x1\n",
      "Stream number: 38\n",
      "Number of variables: 4\n",
      "Number of equations: 0\n",
      "Flow rate: 1.0\n",
      "Temperature: 100.0\n",
      "Fractions: [0.1 0.9]\n",
      "\n"
     ]
    }
   ],
   "source": [
    "print(x1)"
   ]
  },
  {
   "cell_type": "code",
   "execution_count": 61,
   "metadata": {},
   "outputs": [
    {
     "name": "stdout",
     "output_type": "stream",
     "text": [
      "Stream name: x2\n",
      "Stream number: 39\n",
      "Number of variables: 4\n",
      "Number of equations: 0\n",
      "Flow rate: 1.0\n",
      "Temperature: 150.0\n",
      "Fractions: [0.9 0.1]\n",
      "\n"
     ]
    }
   ],
   "source": [
    "print(x2)"
   ]
  },
  {
   "cell_type": "code",
   "execution_count": 62,
   "metadata": {},
   "outputs": [
    {
     "name": "stdout",
     "output_type": "stream",
     "text": [
      "Stream name: y\n",
      "Stream number: 40\n",
      "Number of variables: 4\n",
      "Number of equations: 0\n",
      "Flow rate: 2.0\n",
      "Temperature: 125.0\n",
      "Fractions: [0.5 0.5]\n",
      "\n"
     ]
    }
   ],
   "source": [
    "print(y)"
   ]
  },
  {
   "cell_type": "code",
   "execution_count": 63,
   "metadata": {},
   "outputs": [
    {
     "data": {
      "text/plain": [
       "0.0"
      ]
     },
     "execution_count": 63,
     "metadata": {},
     "output_type": "execute_result"
    }
   ],
   "source": [
    "np.sum(np.square(eqns))"
   ]
  },
  {
   "cell_type": "code",
   "execution_count": null,
   "metadata": {},
   "outputs": [],
   "source": []
  },
  {
   "cell_type": "code",
   "execution_count": null,
   "metadata": {},
   "outputs": [],
   "source": []
  },
  {
   "cell_type": "markdown",
   "metadata": {},
   "source": [
    "## <font color='red'>Mixer that splits</font>"
   ]
  },
  {
   "cell_type": "code",
   "execution_count": 64,
   "metadata": {},
   "outputs": [],
   "source": [
    "i = Stream(n_comps=N_COMPS, name='i')\n",
    "o1 = Stream(n_comps=N_COMPS, name='o1')\n",
    "o2 = Stream(n_comps=N_COMPS, name='o2')"
   ]
  },
  {
   "cell_type": "code",
   "execution_count": 65,
   "metadata": {},
   "outputs": [],
   "source": [
    "split = Mixer(streams_in=[i], streams_out=[o1,o2], name='split')"
   ]
  },
  {
   "cell_type": "code",
   "execution_count": 66,
   "metadata": {},
   "outputs": [],
   "source": [
    "sif = Specify(flow=True, stream=i, value=1)\n",
    "sit = Specify(temperature=True, stream=i, value=100)\n",
    "si1 = Specify(fraction=True, stream=i, comp_num=0, value=0.1)\n",
    "si2 = Specify(fraction=True, stream=i, comp_num=1, value=0.9)\n",
    "so1f = Specify(flow=True, stream=o1, value=0.1)\n"
   ]
  },
  {
   "cell_type": "code",
   "execution_count": 67,
   "metadata": {},
   "outputs": [],
   "source": [
    "unit_dict = dict()\n",
    "unit_dict['i'] = i\n",
    "unit_dict['o1'] = o1\n",
    "unit_dict['o2'] = o2\n",
    "unit_dict['split'] = split\n",
    "unit_dict['sif'] = sif\n",
    "unit_dict['sit'] = sit\n",
    "unit_dict['si1'] = si1\n",
    "unit_dict['si2'] = si2\n",
    "unit_dict['so1f'] = so1f\n"
   ]
  },
  {
   "cell_type": "code",
   "execution_count": 68,
   "metadata": {},
   "outputs": [
    {
     "data": {
      "text/plain": [
       "12"
      ]
     },
     "execution_count": 68,
     "metadata": {},
     "output_type": "execute_result"
    }
   ],
   "source": [
    "n_vars = 0\n",
    "for u in unit_dict:\n",
    "    n_vars += unit_dict[u].num_vars()\n",
    "    \n",
    "n_vars"
   ]
  },
  {
   "cell_type": "code",
   "execution_count": 69,
   "metadata": {
    "scrolled": true
   },
   "outputs": [
    {
     "data": {
      "text/plain": [
       "12"
      ]
     },
     "execution_count": 69,
     "metadata": {},
     "output_type": "execute_result"
    }
   ],
   "source": [
    "n_eqns = 0\n",
    "for u in unit_dict:\n",
    "    n_eqns += unit_dict[u].num_eqns()\n",
    "    \n",
    "n_eqns"
   ]
  },
  {
   "cell_type": "code",
   "execution_count": 70,
   "metadata": {},
   "outputs": [
    {
     "name": "stdout",
     "output_type": "stream",
     "text": [
      "Mixer that splits is OK\n"
     ]
    }
   ],
   "source": [
    "assert n_eqns == n_vars\n",
    "print('Mixer that splits is OK')"
   ]
  },
  {
   "cell_type": "code",
   "execution_count": 71,
   "metadata": {},
   "outputs": [],
   "source": [
    "xvar = np.ones(n_vars, dtype=np.float64)\n",
    "eqns = np.ones(n_eqns, dtype=np.float64)"
   ]
  },
  {
   "cell_type": "code",
   "execution_count": 72,
   "metadata": {},
   "outputs": [],
   "source": [
    "map_var_to_unit1(xvar, unit_dict)\n",
    "map_eqn_to_unit1(eqns, unit_dict)"
   ]
  },
  {
   "cell_type": "code",
   "execution_count": 73,
   "metadata": {},
   "outputs": [],
   "source": [
    "x_soln = fsolve(process_eqns, xvar)"
   ]
  },
  {
   "cell_type": "code",
   "execution_count": 74,
   "metadata": {},
   "outputs": [
    {
     "data": {
      "text/plain": [
       "array([  1. , 100. ,   0.1,   0.9,   0.1, 100. ,   0.1,   0.9,   0.9,\n",
       "       100. ,   0.1,   0.9])"
      ]
     },
     "execution_count": 74,
     "metadata": {},
     "output_type": "execute_result"
    }
   ],
   "source": [
    "x_soln"
   ]
  },
  {
   "cell_type": "code",
   "execution_count": 75,
   "metadata": {},
   "outputs": [],
   "source": [
    "map_var_to_unit1(x_soln, unit_dict)"
   ]
  },
  {
   "cell_type": "code",
   "execution_count": 76,
   "metadata": {},
   "outputs": [
    {
     "name": "stdout",
     "output_type": "stream",
     "text": [
      "Stream name: i\n",
      "Stream number: 41\n",
      "Number of variables: 4\n",
      "Number of equations: 0\n",
      "Flow rate: 1.0\n",
      "Temperature: 100.0\n",
      "Fractions: [0.1 0.9]\n",
      "\n"
     ]
    }
   ],
   "source": [
    "print(i)"
   ]
  },
  {
   "cell_type": "code",
   "execution_count": 77,
   "metadata": {},
   "outputs": [
    {
     "name": "stdout",
     "output_type": "stream",
     "text": [
      "Stream name: o1\n",
      "Stream number: 42\n",
      "Number of variables: 4\n",
      "Number of equations: 0\n",
      "Flow rate: 0.1\n",
      "Temperature: 100.0\n",
      "Fractions: [0.1 0.9]\n",
      "\n"
     ]
    }
   ],
   "source": [
    "print(o1)"
   ]
  },
  {
   "cell_type": "code",
   "execution_count": 78,
   "metadata": {},
   "outputs": [
    {
     "name": "stdout",
     "output_type": "stream",
     "text": [
      "Stream name: o2\n",
      "Stream number: 43\n",
      "Number of variables: 4\n",
      "Number of equations: 0\n",
      "Flow rate: 0.9\n",
      "Temperature: 100.0\n",
      "Fractions: [0.1 0.9]\n",
      "\n"
     ]
    }
   ],
   "source": [
    "print(o2)"
   ]
  },
  {
   "cell_type": "code",
   "execution_count": 79,
   "metadata": {},
   "outputs": [
    {
     "data": {
      "text/plain": [
       "[0.0, 0.0, 0.0, 0.0, 0.0, 0.0, 0.0, 0.0, 0.0, 0.0, 0.0, 0.0]"
      ]
     },
     "execution_count": 79,
     "metadata": {},
     "output_type": "execute_result"
    }
   ],
   "source": [
    "process_eqns(x_soln)"
   ]
  },
  {
   "cell_type": "code",
   "execution_count": 80,
   "metadata": {},
   "outputs": [
    {
     "data": {
      "text/plain": [
       "0.0"
      ]
     },
     "execution_count": 80,
     "metadata": {},
     "output_type": "execute_result"
    }
   ],
   "source": [
    "np.sum(np.square(eqns))"
   ]
  },
  {
   "cell_type": "markdown",
   "metadata": {},
   "source": [
    "## <font color='red'>Tray</font>"
   ]
  },
  {
   "cell_type": "code",
   "execution_count": 81,
   "metadata": {},
   "outputs": [],
   "source": [
    "N_COMPS = 2\n",
    "\n",
    "lin = Stream(n_comps=N_COMPS, name='lin')\n",
    "lout = Stream(n_comps=N_COMPS, name='lout')\n",
    "vin = Stream(n_comps=N_COMPS, name='vin')\n",
    "vout = Stream(n_comps=N_COMPS, name='vout')\n",
    "\n",
    "linf =Specify(flow=True, stream=lin, value=1)\n",
    "lint =Specify(temperature=True, stream=lin, value=1)\n",
    "lin1 =Specify(fraction=True, stream=lin, comp_num=0, value=1)\n",
    "lin2 =Specify(fraction=True, stream=lin, comp_num=1, value=0)\n",
    "\n",
    "vinf =Specify(flow=True, stream=vin, value=1)\n",
    "vint =Specify(temperature=True, stream=vin, value=1)\n",
    "vin1 =Specify(fraction=True, stream=vin, comp_num=0, value=1/N_COMPS)\n",
    "vin2 =Specify(fraction=True, stream=vin, comp_num=1, value=1/N_COMPS)\n",
    "\n",
    "t = Tray(lin, lout, vin, vout, press=50, name=None)\n",
    "\n",
    "unit_dict = dict()\n",
    "unit_dict['lin'] = lin\n",
    "unit_dict['lout'] = lout\n",
    "unit_dict['vin'] = vin\n",
    "unit_dict['vout'] = vout\n",
    "\n",
    "unit_dict['linf'] = linf\n",
    "unit_dict['lint'] = lint\n",
    "unit_dict['lin1'] = lin1\n",
    "unit_dict['lin2'] = lin2\n",
    "\n",
    "unit_dict['vinf'] = vinf\n",
    "unit_dict['vint'] = vint\n",
    "unit_dict['vin1'] = vin1\n",
    "unit_dict['vin2'] = vin2\n",
    "\n",
    "unit_dict['t'] = t"
   ]
  },
  {
   "cell_type": "code",
   "execution_count": 82,
   "metadata": {},
   "outputs": [
    {
     "data": {
      "text/plain": [
       "16"
      ]
     },
     "execution_count": 82,
     "metadata": {},
     "output_type": "execute_result"
    }
   ],
   "source": [
    "n_vars = 0\n",
    "for u in unit_dict:\n",
    "    n_vars += unit_dict[u].num_vars()\n",
    "    \n",
    "n_vars"
   ]
  },
  {
   "cell_type": "code",
   "execution_count": 83,
   "metadata": {},
   "outputs": [
    {
     "data": {
      "text/plain": [
       "16"
      ]
     },
     "execution_count": 83,
     "metadata": {},
     "output_type": "execute_result"
    }
   ],
   "source": [
    "n_eqns = 0\n",
    "for u in unit_dict:\n",
    "    n_eqns += unit_dict[u].num_eqns()\n",
    "    \n",
    "n_eqns"
   ]
  },
  {
   "cell_type": "code",
   "execution_count": 84,
   "metadata": {},
   "outputs": [
    {
     "name": "stdout",
     "output_type": "stream",
     "text": [
      "Tray is OK\n"
     ]
    }
   ],
   "source": [
    "assert n_eqns == n_vars\n",
    "print('Tray is OK')"
   ]
  },
  {
   "cell_type": "code",
   "execution_count": 85,
   "metadata": {},
   "outputs": [
    {
     "name": "stdout",
     "output_type": "stream",
     "text": [
      "[ 1.00000000e+00  1.00000000e+00  1.00000000e+00 -7.37481982e-27\n",
      "  1.00000000e+00  8.19084234e+01  7.17019457e-01  2.82980543e-01\n",
      "  1.00000000e+00  1.00000000e+00  5.00000000e-01  5.00000000e-01\n",
      "  1.00000000e+00  8.19084234e+01  7.82980543e-01  2.17019457e-01]\n"
     ]
    }
   ],
   "source": [
    "xvar = np.ones(n_vars, dtype=np.float64)\n",
    "eqns = np.ones(n_eqns, dtype=np.float64)\n",
    "\n",
    "map_var_to_unit1(xvar, unit_dict)\n",
    "map_eqn_to_unit1(eqns, unit_dict)\n",
    "\n",
    "x_soln = fsolve(process_eqns, xvar)\n",
    "\n",
    "print(x_soln)"
   ]
  },
  {
   "cell_type": "code",
   "execution_count": 86,
   "metadata": {},
   "outputs": [],
   "source": [
    "map_var_to_unit1(x_soln, unit_dict)"
   ]
  },
  {
   "cell_type": "code",
   "execution_count": 87,
   "metadata": {},
   "outputs": [
    {
     "name": "stdout",
     "output_type": "stream",
     "text": [
      "Stream name: lin\n",
      "Stream number: 44\n",
      "Number of variables: 4\n",
      "Number of equations: 0\n",
      "Flow rate: 1.0\n",
      "Temperature: 1.0\n",
      "Fractions: [ 1.00000000e+00 -7.37481982e-27]\n",
      "\n"
     ]
    }
   ],
   "source": [
    "print(lin)"
   ]
  },
  {
   "cell_type": "code",
   "execution_count": 88,
   "metadata": {},
   "outputs": [
    {
     "name": "stdout",
     "output_type": "stream",
     "text": [
      "Stream name: vin\n",
      "Stream number: 46\n",
      "Number of variables: 4\n",
      "Number of equations: 0\n",
      "Flow rate: 1.0\n",
      "Temperature: 1.0\n",
      "Fractions: [0.5 0.5]\n",
      "\n"
     ]
    }
   ],
   "source": [
    "print(vin)"
   ]
  },
  {
   "cell_type": "code",
   "execution_count": 89,
   "metadata": {},
   "outputs": [
    {
     "name": "stdout",
     "output_type": "stream",
     "text": [
      "Stream name: lout\n",
      "Stream number: 45\n",
      "Number of variables: 4\n",
      "Number of equations: 0\n",
      "Flow rate: 1.0\n",
      "Temperature: 81.9084233871274\n",
      "Fractions: [0.71701946 0.28298054]\n",
      "\n"
     ]
    }
   ],
   "source": [
    "print(lout)"
   ]
  },
  {
   "cell_type": "code",
   "execution_count": 90,
   "metadata": {},
   "outputs": [
    {
     "name": "stdout",
     "output_type": "stream",
     "text": [
      "Stream name: vout\n",
      "Stream number: 47\n",
      "Number of variables: 4\n",
      "Number of equations: 0\n",
      "Flow rate: 1.0\n",
      "Temperature: 81.9084233871274\n",
      "Fractions: [0.78298054 0.21701946]\n",
      "\n"
     ]
    }
   ],
   "source": [
    "print(vout)"
   ]
  },
  {
   "cell_type": "code",
   "execution_count": 91,
   "metadata": {},
   "outputs": [
    {
     "data": {
      "text/plain": [
       "2.2142809900981477e-23"
      ]
     },
     "execution_count": 91,
     "metadata": {},
     "output_type": "execute_result"
    }
   ],
   "source": [
    "np.sum(np.square(eqns))"
   ]
  },
  {
   "cell_type": "code",
   "execution_count": null,
   "metadata": {},
   "outputs": [],
   "source": []
  },
  {
   "cell_type": "markdown",
   "metadata": {},
   "source": [
    "## <font color='red'>Column with three trays</font>"
   ]
  },
  {
   "cell_type": "code",
   "execution_count": 92,
   "metadata": {},
   "outputs": [
    {
     "name": "stdout",
     "output_type": "stream",
     "text": [
      "\n",
      "\n",
      "48  variables\n",
      "48  equations\n"
     ]
    }
   ],
   "source": [
    "N_COMPS = 2\n",
    "\n",
    "f = Stream(n_comps=N_COMPS, name='f')\n",
    "r = Stream(n_comps=N_COMPS, name='r')\n",
    "c = Stream(n_comps=N_COMPS, name='c')\n",
    "b = Stream(n_comps=N_COMPS, name='b')\n",
    "v = Stream(n_comps=N_COMPS, name='v')\n",
    "\n",
    "sff = Specify(flow=True, stream=f, value=100)\n",
    "srf = Specify(flow=True, stream=r, value=400)\n",
    "svf = Specify(flow=True, stream=v, value=450)\n",
    "\n",
    "sft = Specify(temperature=True, stream=f, value=100)\n",
    "srt = Specify(temperature=True, stream=r, value=400)\n",
    "svt = Specify(temperature=True, stream=v, value=450)\n",
    "\n",
    "sfx1 = Specify(fraction=True, stream=f, comp_num=0, value=1/N_COMPS)\n",
    "sfx2 = Specify(fraction=True, stream=f, comp_num=1, value=1/N_COMPS)\n",
    "srx1 = Specify(fraction=True, stream=r, comp_num=0, value=1/N_COMPS)\n",
    "srx2 = Specify(fraction=True, stream=r, comp_num=1, value=1/N_COMPS)\n",
    "svx1 = Specify(fraction=True, stream=v, comp_num=0, value=1/N_COMPS)\n",
    "svx2 = Specify(fraction=True, stream=v, comp_num=1, value=1/N_COMPS)\n",
    "\n",
    "col = SimpleColumn(n_trays=3, feed_tray=1, \n",
    "                          feed_stream_liq=f, \n",
    "                          reflux=r, \n",
    "                          vapor_reboil=v, \n",
    "                          condensate=c,\n",
    "                          bottoms=b,\n",
    "                          press=55, name='col')\n",
    "\n",
    "unit_dict = dict()\n",
    "\n",
    "unit_dict['f'] = f\n",
    "unit_dict['r'] = r\n",
    "unit_dict['c'] = c\n",
    "unit_dict['b'] = b\n",
    "unit_dict['v'] = v\n",
    "\n",
    "unit_dict['sff'] = sff\n",
    "unit_dict['srf'] = srf\n",
    "unit_dict['svf'] = svf\n",
    "\n",
    "unit_dict['sft'] = sft\n",
    "unit_dict['srt'] = srt\n",
    "unit_dict['svt'] = svt\n",
    "\n",
    "unit_dict['sfx1'] = sfx1\n",
    "unit_dict['sfx2'] = sfx2\n",
    "unit_dict['srx1'] = srx1\n",
    "unit_dict['srx2'] = srx2\n",
    "unit_dict['svx1'] = svx1\n",
    "unit_dict['svx2'] = svx2\n",
    "\n",
    "unit_dict['col'] = col\n",
    "\n",
    "n_eqns = 0\n",
    "for u in unit_dict:\n",
    "    n_eqns += unit_dict[u].num_eqns()\n",
    "    \n",
    "n_vars = 0\n",
    "for u in unit_dict:\n",
    "    n_vars += unit_dict[u].num_vars()\n",
    "\n",
    "print('\\n')\n",
    "print(n_vars, ' variables')\n",
    "print(n_eqns, ' equations')"
   ]
  },
  {
   "cell_type": "code",
   "execution_count": 93,
   "metadata": {},
   "outputs": [],
   "source": [
    "xvar = np.ones(n_vars, dtype=np.float64)\n",
    "eqns = np.ones(n_eqns, dtype=np.float64)"
   ]
  },
  {
   "cell_type": "code",
   "execution_count": 94,
   "metadata": {},
   "outputs": [
    {
     "name": "stdout",
     "output_type": "stream",
     "text": [
      "Column is OK\n"
     ]
    }
   ],
   "source": [
    "assert n_eqns == n_vars\n",
    "print('Column is OK')"
   ]
  },
  {
   "cell_type": "code",
   "execution_count": 95,
   "metadata": {},
   "outputs": [],
   "source": [
    "map_var_to_unit1(xvar, unit_dict)"
   ]
  },
  {
   "cell_type": "code",
   "execution_count": 96,
   "metadata": {},
   "outputs": [],
   "source": [
    "map_eqn_to_unit1(eqns, unit_dict)"
   ]
  },
  {
   "cell_type": "code",
   "execution_count": 97,
   "metadata": {},
   "outputs": [],
   "source": [
    "process_eqns(xvar);"
   ]
  },
  {
   "cell_type": "code",
   "execution_count": 98,
   "metadata": {},
   "outputs": [
    {
     "data": {
      "text/plain": [
       "741218.5952249719"
      ]
     },
     "execution_count": 98,
     "metadata": {},
     "output_type": "execute_result"
    }
   ],
   "source": [
    "np.sum(np.square(eqns))"
   ]
  },
  {
   "cell_type": "code",
   "execution_count": 99,
   "metadata": {},
   "outputs": [],
   "source": [
    "x_soln = fsolve(process_eqns, xvar)"
   ]
  },
  {
   "cell_type": "code",
   "execution_count": 100,
   "metadata": {},
   "outputs": [
    {
     "name": "stdout",
     "output_type": "stream",
     "text": [
      "[1.00000000e+02 1.00000000e+02 5.00000000e-01 5.00000000e-01\n",
      " 4.00000000e+02 4.00000000e+02 5.00000000e-01 5.00000000e-01\n",
      " 4.50000000e+02 9.29410549e+01 5.65790512e-01 4.34209488e-01\n",
      " 5.00000000e+02 9.38244875e+01 4.40788540e-01 5.59211460e-01\n",
      " 4.50000000e+02 4.50000000e+02 5.00000000e-01 5.00000000e-01\n",
      " 5.00000000e+02 9.43528439e+01 4.84696850e-01 5.15303150e-01\n",
      " 5.00000000e+02 9.38244875e+01 4.40788540e-01 5.59211460e-01\n",
      " 5.00000000e+02 9.33161589e+01 4.63794590e-01 5.36205410e-01\n",
      " 4.00000000e+02 9.29410549e+01 4.80871063e-01 5.19128937e-01\n",
      " 4.50000000e+02 9.38244875e+01 5.25562279e-01 4.74437721e-01\n",
      " 4.50000000e+02 9.33161589e+01 5.48787012e-01 4.51212988e-01\n",
      " 4.50000000e+02 9.29410549e+01 5.65790512e-01 4.34209488e-01]\n"
     ]
    }
   ],
   "source": [
    "print(x_soln)"
   ]
  },
  {
   "cell_type": "code",
   "execution_count": 101,
   "metadata": {},
   "outputs": [],
   "source": [
    "map_var_to_unit1(x_soln, unit_dict)\n",
    "process_eqns(x_soln);\n",
    "map_eqn_to_unit1(eqns, unit_dict)"
   ]
  },
  {
   "cell_type": "code",
   "execution_count": 102,
   "metadata": {},
   "outputs": [
    {
     "name": "stdout",
     "output_type": "stream",
     "text": [
      "[ 0.00000000e+00  0.00000000e+00  0.00000000e+00  0.00000000e+00\n",
      "  0.00000000e+00  0.00000000e+00  0.00000000e+00  0.00000000e+00\n",
      "  0.00000000e+00  0.00000000e+00  0.00000000e+00  0.00000000e+00\n",
      "  0.00000000e+00  3.05705328e-09 -1.88318250e-11  1.87583282e-11\n",
      "  0.00000000e+00  0.00000000e+00 -1.42108547e-14  1.11022302e-16\n",
      "  0.00000000e+00 -2.37937456e-07 -1.26754163e-11 -2.06577866e-10\n",
      "  0.00000000e+00  0.00000000e+00  0.00000000e+00  1.11022302e-16\n",
      "  0.00000000e+00  1.95405420e-07  6.80751011e-11  1.69555259e-10\n",
      "  0.00000000e+00  0.00000000e+00  0.00000000e+00 -1.11022302e-16\n",
      "  0.00000000e+00 -3.57585463e-08  1.24511734e-10 -2.55154564e-10\n",
      "  0.00000000e+00  0.00000000e+00  0.00000000e+00  0.00000000e+00\n",
      "  0.00000000e+00 -1.42108547e-14  0.00000000e+00  0.00000000e+00]\n"
     ]
    }
   ],
   "source": [
    "print(eqns)"
   ]
  },
  {
   "cell_type": "code",
   "execution_count": 103,
   "metadata": {},
   "outputs": [
    {
     "data": {
      "text/plain": [
       "9.608568800830493e-14"
      ]
     },
     "execution_count": 103,
     "metadata": {},
     "output_type": "execute_result"
    }
   ],
   "source": [
    "np.sum(np.square(eqns))"
   ]
  },
  {
   "cell_type": "code",
   "execution_count": 104,
   "metadata": {},
   "outputs": [
    {
     "name": "stdout",
     "output_type": "stream",
     "text": [
      "Stream name: f\n",
      "Stream number: 48\n",
      "Number of variables: 4\n",
      "Number of equations: 0\n",
      "Flow rate: 100.0\n",
      "Temperature: 100.0\n",
      "Fractions: [0.5 0.5]\n",
      "\n"
     ]
    }
   ],
   "source": [
    "print(f)"
   ]
  },
  {
   "cell_type": "code",
   "execution_count": 105,
   "metadata": {},
   "outputs": [
    {
     "name": "stdout",
     "output_type": "stream",
     "text": [
      "Stream name: r\n",
      "Stream number: 49\n",
      "Number of variables: 4\n",
      "Number of equations: 0\n",
      "Flow rate: 400.0\n",
      "Temperature: 400.0\n",
      "Fractions: [0.5 0.5]\n",
      "\n"
     ]
    }
   ],
   "source": [
    "print(r)"
   ]
  },
  {
   "cell_type": "code",
   "execution_count": 106,
   "metadata": {},
   "outputs": [
    {
     "name": "stdout",
     "output_type": "stream",
     "text": [
      "Stream name: c\n",
      "Stream number: 50\n",
      "Number of variables: 4\n",
      "Number of equations: 0\n",
      "Flow rate: 450.0\n",
      "Temperature: 92.94105485966385\n",
      "Fractions: [0.56579051 0.43420949]\n",
      "\n"
     ]
    }
   ],
   "source": [
    "print(c)"
   ]
  },
  {
   "cell_type": "code",
   "execution_count": 107,
   "metadata": {},
   "outputs": [
    {
     "name": "stdout",
     "output_type": "stream",
     "text": [
      "Stream name: v\n",
      "Stream number: 52\n",
      "Number of variables: 4\n",
      "Number of equations: 0\n",
      "Flow rate: 450.0\n",
      "Temperature: 450.0\n",
      "Fractions: [0.5 0.5]\n",
      "\n"
     ]
    }
   ],
   "source": [
    "print(v)"
   ]
  },
  {
   "cell_type": "code",
   "execution_count": 108,
   "metadata": {},
   "outputs": [
    {
     "name": "stdout",
     "output_type": "stream",
     "text": [
      "Stream name: b\n",
      "Stream number: 51\n",
      "Number of variables: 4\n",
      "Number of equations: 0\n",
      "Flow rate: 500.0\n",
      "Temperature: 93.82448747935301\n",
      "Fractions: [0.44078854 0.55921146]\n",
      "\n"
     ]
    }
   ],
   "source": [
    "print(b)"
   ]
  },
  {
   "cell_type": "code",
   "execution_count": 109,
   "metadata": {},
   "outputs": [
    {
     "name": "stdout",
     "output_type": "stream",
     "text": [
      "colMixedLiquidFeed\n",
      "Stream name: colMixedLiquidFeed\n",
      "Stream number: 59\n",
      "Number of variables: 4\n",
      "Number of equations: 0\n",
      "Flow rate: 500.0\n",
      "Temperature: 94.35284388467403\n",
      "Fractions: [0.48469685 0.51530315]\n",
      "\n",
      "\n",
      "\n",
      "colFeedMixer\n",
      "Mixer name: colFeedMixer\n",
      "Mixer number: 5\n",
      "Number of variables: 0\n",
      "Number of equations: 4\n",
      "Streams in: f,colTray2Liquid\n",
      "Streams out: colMixedLiquidFeed\n",
      "Number of equations: 4\n",
      "Equations: [ 0.00000000e+00  3.05705328e-09 -1.88318250e-11  1.87583282e-11]\n",
      "\n",
      "\n",
      "\n",
      "colTray0Liquid\n",
      "Stream name: colTray0Liquid\n",
      "Stream number: 53\n",
      "Number of variables: 4\n",
      "Number of equations: 0\n",
      "Flow rate: 500.0\n",
      "Temperature: 93.82448747935302\n",
      "Fractions: [0.44078854 0.55921146]\n",
      "\n",
      "\n",
      "\n",
      "colTray1Liquid\n",
      "Stream name: colTray1Liquid\n",
      "Stream number: 54\n",
      "Number of variables: 4\n",
      "Number of equations: 0\n",
      "Flow rate: 500.0\n",
      "Temperature: 93.316158887835\n",
      "Fractions: [0.46379459 0.53620541]\n",
      "\n",
      "\n",
      "\n",
      "colTray2Liquid\n",
      "Stream name: colTray2Liquid\n",
      "Stream number: 55\n",
      "Number of variables: 4\n",
      "Number of equations: 0\n",
      "Flow rate: 400.0\n",
      "Temperature: 92.94105485966385\n",
      "Fractions: [0.48087106 0.51912894]\n",
      "\n",
      "\n",
      "\n",
      "colTray0Vapor\n",
      "Stream name: colTray0Vapor\n",
      "Stream number: 56\n",
      "Number of variables: 4\n",
      "Number of equations: 0\n",
      "Flow rate: 450.0\n",
      "Temperature: 93.82448747935301\n",
      "Fractions: [0.52556228 0.47443772]\n",
      "\n",
      "\n",
      "\n",
      "colTray1Vapor\n",
      "Stream name: colTray1Vapor\n",
      "Stream number: 57\n",
      "Number of variables: 4\n",
      "Number of equations: 0\n",
      "Flow rate: 450.0\n",
      "Temperature: 93.316158887835\n",
      "Fractions: [0.54878701 0.45121299]\n",
      "\n",
      "\n",
      "\n",
      "colTray2Vapor\n",
      "Stream name: colTray2Vapor\n",
      "Stream number: 58\n",
      "Number of variables: 4\n",
      "Number of equations: 0\n",
      "Flow rate: 450.0\n",
      "Temperature: 92.94105485966385\n",
      "Fractions: [0.56579051 0.43420949]\n",
      "\n",
      "\n",
      "\n",
      "colTray0\n",
      "Tray name: colTray0\n",
      "Tray number: 16\n",
      "Liquid stream in: colTray1Liquid\n",
      "Liquid stream out: colTray0Liquid\n",
      "Vapor stream in: v\n",
      "Vapor stream out: colTray0Vapor\n",
      "Pressure: 55\n",
      "Number of variables: 0\n",
      "Number of equations: 8\n",
      "Equations: [ 0.00000000e+00  0.00000000e+00 -1.42108547e-14  1.11022302e-16\n",
      "  0.00000000e+00 -2.37937456e-07 -1.26754163e-11 -2.06577866e-10]\n",
      "\n",
      "\n",
      "\n",
      "colTray1\n",
      "Tray name: colTray1\n",
      "Tray number: 17\n",
      "Liquid stream in: colMixedLiquidFeed\n",
      "Liquid stream out: colTray1Liquid\n",
      "Vapor stream in: colTray0Vapor\n",
      "Vapor stream out: colTray1Vapor\n",
      "Pressure: 55\n",
      "Number of variables: 0\n",
      "Number of equations: 8\n",
      "Equations: [0.00000000e+00 0.00000000e+00 0.00000000e+00 1.11022302e-16\n",
      " 0.00000000e+00 1.95405420e-07 6.80751011e-11 1.69555259e-10]\n",
      "\n",
      "\n",
      "\n",
      "colTray2\n",
      "Tray name: colTray2\n",
      "Tray number: 18\n",
      "Liquid stream in: r\n",
      "Liquid stream out: colTray2Liquid\n",
      "Vapor stream in: colTray1Vapor\n",
      "Vapor stream out: colTray2Vapor\n",
      "Pressure: 55\n",
      "Number of variables: 0\n",
      "Number of equations: 8\n",
      "Equations: [ 0.00000000e+00  0.00000000e+00  0.00000000e+00 -1.11022302e-16\n",
      "  0.00000000e+00 -3.57585463e-08  1.24511734e-10 -2.55154564e-10]\n",
      "\n",
      "\n",
      "\n",
      "colCondensateConnector\n",
      "Connector number: 2\n",
      "Stream in: c\n",
      "Stream out: colTray2Vapor\n",
      "Number of variables: 0\n",
      "Number of equations: 4\n",
      "Equations: [0. 0. 0. 0.]\n",
      "\n",
      "\n",
      "\n",
      "colBottomsConnector\n",
      "Connector number: 3\n",
      "Stream in: b\n",
      "Stream out: colTray0Liquid\n",
      "Number of variables: 0\n",
      "Number of equations: 4\n",
      "Equations: [ 0.00000000e+00 -1.42108547e-14  0.00000000e+00  0.00000000e+00]\n",
      "\n",
      "\n",
      "\n"
     ]
    }
   ],
   "source": [
    "for u in col.unit_dict:\n",
    "    print(u)\n",
    "    print(col.unit_dict[u])\n",
    "    print('\\n')"
   ]
  },
  {
   "cell_type": "code",
   "execution_count": null,
   "metadata": {},
   "outputs": [],
   "source": []
  },
  {
   "cell_type": "code",
   "execution_count": null,
   "metadata": {},
   "outputs": [],
   "source": []
  },
  {
   "cell_type": "code",
   "execution_count": null,
   "metadata": {},
   "outputs": [],
   "source": []
  },
  {
   "cell_type": "code",
   "execution_count": 110,
   "metadata": {},
   "outputs": [
    {
     "ename": "ValueError",
     "evalue": "too many values to unpack (expected 2)",
     "output_type": "error",
     "traceback": [
      "\u001b[1;31m---------------------------------------------------------------------------\u001b[0m",
      "\u001b[1;31mValueError\u001b[0m                                Traceback (most recent call last)",
      "\u001b[1;32m<ipython-input-110-c8929b241a0e>\u001b[0m in \u001b[0;36m<module>\u001b[1;34m\u001b[0m\n\u001b[1;32m----> 1\u001b[1;33m \u001b[0ma_\u001b[0m\u001b[1;33m,\u001b[0m\u001b[0mb_\u001b[0m \u001b[1;33m=\u001b[0m \u001b[0mzip\u001b[0m\u001b[1;33m(\u001b[0m\u001b[1;36m3\u001b[0m\u001b[1;33m*\u001b[0m\u001b[1;33m[\u001b[0m\u001b[1;34m'x'\u001b[0m\u001b[1;33m]\u001b[0m\u001b[1;33m,\u001b[0m\u001b[1;33m[\u001b[0m\u001b[1;36m1\u001b[0m\u001b[1;33m,\u001b[0m\u001b[1;36m2\u001b[0m\u001b[1;33m,\u001b[0m\u001b[1;36m3\u001b[0m\u001b[1;33m]\u001b[0m\u001b[1;33m)\u001b[0m\u001b[1;33m\u001b[0m\u001b[1;33m\u001b[0m\u001b[0m\n\u001b[0m",
      "\u001b[1;31mValueError\u001b[0m: too many values to unpack (expected 2)"
     ]
    }
   ],
   "source": [
    "a_,b_ = zip(3*['x'],[1,2,3])"
   ]
  },
  {
   "cell_type": "code",
   "execution_count": null,
   "metadata": {},
   "outputs": [],
   "source": [
    "for a,b in zip(3*['x'] , [1,2,3]):\n",
    "    print(a+str(b))"
   ]
  },
  {
   "cell_type": "code",
   "execution_count": null,
   "metadata": {},
   "outputs": [],
   "source": [
    "['{}'.format(a+str(b)) for a,b in zip(3*['x'] , [1,2,3])]"
   ]
  },
  {
   "cell_type": "code",
   "execution_count": null,
   "metadata": {},
   "outputs": [],
   "source": [
    "['{}'.format(a+str(b)) for a,b in zip(3*['x'] , range(3))]"
   ]
  },
  {
   "cell_type": "code",
   "execution_count": null,
   "metadata": {},
   "outputs": [],
   "source": [
    "x=['a','b']+['{}'.format(a+str(b)) for a,b in zip(3*['x'] , range(3))]"
   ]
  },
  {
   "cell_type": "code",
   "execution_count": null,
   "metadata": {},
   "outputs": [],
   "source": [
    "print(x)"
   ]
  },
  {
   "cell_type": "code",
   "execution_count": null,
   "metadata": {},
   "outputs": [],
   "source": [
    "x"
   ]
  },
  {
   "cell_type": "code",
   "execution_count": null,
   "metadata": {},
   "outputs": [],
   "source": []
  }
 ],
 "metadata": {
  "kernelspec": {
   "display_name": "Python 3",
   "language": "python",
   "name": "python3"
  },
  "language_info": {
   "codemirror_mode": {
    "name": "ipython",
    "version": 3
   },
   "file_extension": ".py",
   "mimetype": "text/x-python",
   "name": "python",
   "nbconvert_exporter": "python",
   "pygments_lexer": "ipython3",
   "version": "3.8.5"
  }
 },
 "nbformat": 4,
 "nbformat_minor": 4
}
