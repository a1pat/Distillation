{
 "cells": [
  {
   "cell_type": "markdown",
   "metadata": {},
   "source": [
    "# Steady-State Distillation  Model"
   ]
  },
  {
   "cell_type": "code",
   "execution_count": 70,
   "metadata": {},
   "outputs": [],
   "source": [
    "import numpy as np\n",
    "from scipy.optimize import fsolve"
   ]
  },
  {
   "cell_type": "code",
   "execution_count": 71,
   "metadata": {},
   "outputs": [],
   "source": [
    "# Antoine constants for saturate vapor pressure for \n",
    "# i-butane, n-butane, i-pentane, n-pentane, n-hexane\n",
    "# form of the equation is\n",
    "# p_sat (psia) = A - B / (C + T(F))\n",
    "# above data from E.g. 8-11 in the textbook by Foust, et. al.\n",
    "\n",
    "Antoine_A = np.array((5.03458, 5.11679, 5.07617, 5.13871, 5.16426))\n",
    "Antoine_B = np.array((1589.04, 1702.62, 1836.0216, 1916.334, 2108.754))\n",
    "Antoine_C = np.array((400, 400, 387.575, 385.6, 371.859))"
   ]
  },
  {
   "cell_type": "code",
   "execution_count": 350,
   "metadata": {},
   "outputs": [],
   "source": [
    "class Unit():\n",
    "    def __init__(self, name, num):\n",
    "        self.xvar = None\n",
    "        self.eqns = None\n",
    "        self.unit_dict = dict()\n",
    "        if name is None:\n",
    "            self.name = type(self).__name__ + str(num)\n",
    "        else:\n",
    "            self.name = name\n",
    "        \n",
    "    def num_eqns(self):\n",
    "        num = self.n_eqns\n",
    "        for u in self.unit_dict:\n",
    "            num += self.unit_dict[u].num_eqns()\n",
    "        return num        \n",
    "\n",
    "    def num_vars(self):\n",
    "        num = self.n_vars\n",
    "        for u in self.unit_dict:\n",
    "            num += self.unit_dict[u].num_vars()\n",
    "        return num        "
   ]
  },
  {
   "cell_type": "code",
   "execution_count": 456,
   "metadata": {},
   "outputs": [],
   "source": [
    "class Stream(Unit):\n",
    "    \n",
    "    n_streams = 0\n",
    "    \n",
    "    def __init__(self, n_comps=1, name=None):\n",
    "        self.stream_num = Stream.n_streams\n",
    "        super().__init__(name, self.stream_num)\n",
    "        Stream.n_streams += 1\n",
    "        # the stream member x_var will be as follows:\n",
    "        # [0] flow rate\n",
    "        # [1] temperature\n",
    "        # [2:] fraction of each component. if flow is in mass units, these are mass fractions\n",
    "        self.n_comps = n_comps\n",
    "        self.n_vars = 2 + n_comps\n",
    "        self.n_eqns = 0\n",
    "        \n",
    "    def __str__(self):\n",
    "        s = 'Stream name: {}\\n'.format(self.name)\n",
    "        s = s + 'Stream number: {}\\n'.format(self.stream_num)\n",
    "        s = s + 'Number of variables: {}\\n'.format(self.n_vars)\n",
    "        s = s + 'Number of equations: {}\\n'.format(self.n_eqns)\n",
    "        if self.xvar is None:\n",
    "            s = s + 'Variables not set\\n'\n",
    "        else:\n",
    "            s = s + 'Flow rate: {}\\n'.format(self.xvar[0])\n",
    "            s = s + 'Temperature: {}\\n'.format(self.xvar[1])\n",
    "            s = s + 'Fractions: {}\\n'.format(self.xvar[2:])\n",
    "        return s\n",
    "    \n",
    "    def calculate(self):\n",
    "        pass"
   ]
  },
  {
   "cell_type": "code",
   "execution_count": 457,
   "metadata": {},
   "outputs": [],
   "source": [
    "class Mixer(Unit):\n",
    "    \n",
    "    n_mixers = 0\n",
    "    \n",
    "    def __init__(self, streams_in, streams_out, name=None):\n",
    "        self.mixer_num = Mixer.n_mixers\n",
    "        super().__init__(name, self.mixer_num)\n",
    "        Mixer.n_mixers += 1\n",
    "        self.streams_in = streams_in\n",
    "        self.streams_out = streams_out\n",
    "        self.n_in = len(self.streams_in)\n",
    "        self.n_out = len(self.streams_out)\n",
    "        self.n_vars = 0\n",
    "        self.n_eqns = (self.streams_in[0].n_comps + 1) * self.n_out + 1\n",
    "\n",
    "    def __str__(self):\n",
    "        s = ''\n",
    "        s = s + 'Mixer name: {}\\n'.format(self.name)\n",
    "        s = s + 'Mixer number: {}\\n'.format(self.mixer_num)\n",
    "        s = s + 'Number of variables: {}\\n'.format(self.n_vars)\n",
    "        s = s + 'Number of equations: {}\\n'.format(self.n_eqns)\n",
    "        s_in = list()\n",
    "        for stream in self.streams_in:\n",
    "            s_in.append(stream.name)\n",
    "        s = s + 'Streams in: {}\\n'.format(','.join(s_in))\n",
    "        s_out = list()\n",
    "        for stream in self.streams_out:\n",
    "            s_out.append(stream.name)\n",
    "        s = s + 'Streams out: {}\\n'.format(', '.join(s_out))\n",
    "        s = s + 'Number of equations: {}\\n'.format(self.n_eqns)\n",
    "        if self.eqns is None:\n",
    "            s = s + 'Equations not set\\n'\n",
    "        else:\n",
    "            s = s + 'Equations: {}\\n'.format(self.eqns[:])\n",
    "        return s\n",
    "    \n",
    "    def calculate(self):\n",
    "        # total mass balance: 1 equation\n",
    "        total_in = 0\n",
    "        for s in self.streams_in:\n",
    "            total_in += s.xvar[0]\n",
    "        total_out = 0\n",
    "        for s in self.streams_out:\n",
    "            total_out += s.xvar[0]\n",
    "        self.eqns[0] = total_in - total_out\n",
    "        # heat balance (simple: temp out is weighted average of temp in. n_out equations)\n",
    "        t_avg_in = 0\n",
    "        for s in self.streams_in:\n",
    "            t_avg_in += s.xvar[0] * s.xvar[1]\n",
    "        if total_in == 0:\n",
    "            t_avg_in = self.streams_in[0].xvar[1]\n",
    "        else:\n",
    "            t_avg_in = t_avg_in / total_in\n",
    "        eq_n = 0\n",
    "        for s in self.streams_out:\n",
    "            eq_n += 1\n",
    "            self.eqns[eq_n] = t_avg_in - s.xvar[1]\n",
    "        # component balances (n_out * n_comps equations)\n",
    "        for i_comp in range(self.streams_in[0].n_comps):\n",
    "            comp_in = 0\n",
    "            for s in self.streams_in:\n",
    "                comp_in += s.xvar[2 + i_comp] * s.xvar[0]\n",
    "            if total_in == 0:\n",
    "                comp_in = self.streams_in[0].xvar[2 + i_comp]\n",
    "            else:\n",
    "                comp_in = comp_in / total_in\n",
    "            for s in self.streams_out:\n",
    "                eq_n += 1\n",
    "                self.eqns[eq_n] = comp_in - s.xvar[2 + i_comp]\n",
    "        return"
   ]
  },
  {
   "cell_type": "code",
   "execution_count": 458,
   "metadata": {},
   "outputs": [],
   "source": [
    "class Connector(Unit):\n",
    "    \n",
    "    n_connectors = 0\n",
    "    \n",
    "    def __init__(self, stream_in, stream_out, name=None):\n",
    "        self.connector_num = Connector.n_connectors\n",
    "        super().__init__(name, self.connector_num)\n",
    "        Connector.n_connectors += 1\n",
    "        self.stream_in = stream_in\n",
    "        self.stream_out = stream_out\n",
    "        self.n_vars = 0\n",
    "        self.n_eqns = self.stream_in.n_comps + 2\n",
    "\n",
    "    def __str__(self):\n",
    "        s = ''\n",
    "        s = s + 'Connector number: {}\\n'.format(self.connector_num)\n",
    "        s = s + 'Stream in: {}\\n'.format(self.stream_in.name)\n",
    "        s = s + 'Stream out: {}\\n'.format(self.stream_out.name)\n",
    "        s = s + 'Number of variables: {}\\n'.format(self.n_vars)\n",
    "        s = s + 'Number of equations: {}\\n'.format(self.n_eqns)\n",
    "        if self.eqns is None:\n",
    "            s = s + 'Equations not set\\n'\n",
    "        else:\n",
    "            s = s + 'Equations: {}\\n'.format(self.eqns[:])\n",
    "        return s\n",
    "    \n",
    "    def calculate(self):\n",
    "        # equate flow: 1 equation\n",
    "        self.eqns[0] = self.stream_in.xvar[0] - self.stream_out.xvar[0]\n",
    "        # equate temperature: 1 equation\n",
    "        self.eqns[1] = self.stream_in.xvar[1] - self.stream_out.xvar[1]\n",
    "        # equate component fractions: n_comps equations\n",
    "        for i_comp in range(self.stream_in.n_comps):\n",
    "            self.eqns[2 + i_comp] = self.stream_in.xvar[2 + i_comp] - self.stream_out.xvar[2 + i_comp]\n",
    "        return"
   ]
  },
  {
   "cell_type": "code",
   "execution_count": 459,
   "metadata": {},
   "outputs": [],
   "source": [
    "class Specify(Unit):\n",
    "    \n",
    "    n_specs = 0\n",
    "    \n",
    "    def __init__(self, name=None, flow=False, temperature=False, fraction=False, \n",
    "                 stream=None, comp_num=None, value=None):\n",
    "        self.spec_num = Specify.n_specs\n",
    "        super().__init__(name, self.spec_num)\n",
    "        Specify.n_specs += 1\n",
    "        assert flow + temperature + fraction == 1, 'Too many/few specifications for ' + self.name\n",
    "            \n",
    "        self.flow = flow\n",
    "        self.temperature = temperature\n",
    "        self.fraction = fraction\n",
    "        self.stream = stream\n",
    "        self.comp_num = comp_num\n",
    "        self.value = value\n",
    "        self.n_vars = 0\n",
    "        self.n_eqns = 1\n",
    "\n",
    "    def __str__(self):\n",
    "        s = ''\n",
    "        s = s + 'Specification name: {}\\n'.format(self.name)\n",
    "        s = s + 'Stream : {}\\n'.format(self.stream.name)\n",
    "        s = s + 'Number of variables: {}\\n'.format(self.n_vars)\n",
    "        s = s + 'Number of equations: {}\\n'.format(self.n_eqns)\n",
    "        if self.flow:\n",
    "            s = s + 'Flow: {}\\n'.format(self.value)\n",
    "        elif self.temperature:\n",
    "            s = s + 'Temperature: {}\\n'.format(self.value)\n",
    "        elif self.fraction:\n",
    "            s = s + 'Fraction: component {}, value: {}\\n'.format(self.comp_num, self.value)            \n",
    "            \n",
    "        if self.eqns is None:\n",
    "            s = s + 'Equations not set\\n'\n",
    "        else:\n",
    "            s = s + 'Equations: {}\\n'.format(self.eqns[:])\n",
    "        return s\n",
    "    \n",
    "    def calculate(self):\n",
    "        if self.flow:\n",
    "            self.eqns[0] = self.value -  self.stream.xvar[0]\n",
    "        if self.temperature:\n",
    "            self.eqns[0] = self.value -  self.stream.xvar[1]\n",
    "        if self.fraction:\n",
    "            self.eqns[0] = self.value -  self.stream.xvar[2 + self.comp_num]\n",
    "        return"
   ]
  },
  {
   "cell_type": "code",
   "execution_count": 460,
   "metadata": {},
   "outputs": [],
   "source": [
    "class Tray(Unit):\n",
    "    \n",
    "    n_trays = 0\n",
    "    \n",
    "    def __init__(self, liq_stream_in, liq_stream_out, vap_stream_in, vap_stream_out, press, name=None):\n",
    "        self.tray_num = Tray.n_trays\n",
    "        super().__init__(name, self.tray_num)\n",
    "        Tray.n_trays += 1\n",
    "        self.liq_stream_in = liq_stream_in\n",
    "        self.liq_stream_out = liq_stream_out\n",
    "        self.vap_stream_in = vap_stream_in\n",
    "        self.vap_stream_out = vap_stream_out\n",
    "        self.press = press\n",
    "        self.n_vars = 0\n",
    "        self.n_eqns = 2 * self.liq_stream_in.n_comps + 4\n",
    "\n",
    "    def __str__(self):\n",
    "        s = ''\n",
    "        s = s + 'Tray name: {}\\n'.format(self.name)\n",
    "        s = s + 'Tray number: {}\\n'.format(self.tray_num)\n",
    "        s = s + 'Liquid stream in: {}\\n'.format(self.liq_stream_in.name)\n",
    "        s = s + 'Liquid stream out: {}\\n'.format(self.liq_stream_out.name)\n",
    "        s = s + 'Vapor stream in: {}\\n'.format(self.vap_stream_in.name)\n",
    "        s = s + 'Vapor stream out: {}\\n'.format(self.vap_stream_out.name)\n",
    "        s = s + 'Pressure: {}\\n'.format(self.press)\n",
    "        s = s + 'Number of variables: {}\\n'.format(self.n_vars)\n",
    "        s = s + 'Number of equations: {}\\n'.format(self.n_eqns)\n",
    "        if self.eqns is None:\n",
    "            s = s + 'Equations not set\\n'\n",
    "        else:\n",
    "            s = s + 'Equations: {}\\n'.format(self.eqns[:])\n",
    "        return s\n",
    "    \n",
    "    def calculate(self):\n",
    "        # total mass balance: 1 equation\n",
    "        self.eqns[0] = self.liq_stream_in.xvar[0] + self.vap_stream_in.xvar[0] - \\\n",
    "            self.liq_stream_out.xvar[0] - self.vap_stream_out.xvar[0]\n",
    "        # heat balance (simple: equimolal overflow. 1 equation)\n",
    "        self.eqns[1] = self.liq_stream_in.xvar[0] - self.liq_stream_out.xvar[0]\n",
    "        # heat balance (simple: liquid and vapor leaving tray have the same temperatures. 1 equation)\n",
    "        self.eqns[2] = self.vap_stream_out.xvar[1] - self.liq_stream_out.xvar[1]\n",
    "        # fractions sum to one (2 equations)\n",
    "        sum_x = -1\n",
    "        sum_y = -1\n",
    "        for i_comp in range(self.liq_stream_in.n_comps):\n",
    "            sum_x += self.liq_stream_out.xvar[2+i_comp]\n",
    "            sum_y += self.vap_stream_out.xvar[2+i_comp]\n",
    "        self.eqns[3] = sum_x\n",
    "        self.eqns[4] = sum_y\n",
    "        # component balances (n_comps equations)\n",
    "        for i_comp in range(self.liq_stream_in.n_comps-1):\n",
    "            self.eqns[5+i_comp] = self.liq_stream_in.xvar[0] * self.liq_stream_in.xvar[2+i_comp] + \\\n",
    "                self.vap_stream_in.xvar[0] * self.vap_stream_in.xvar[2+i_comp] - \\\n",
    "                self.liq_stream_out.xvar[0] * self.liq_stream_out.xvar[2+i_comp] - \\\n",
    "                self.vap_stream_out.xvar[0] * self.vap_stream_out.xvar[2+i_comp]\n",
    "        # vapor-liquid equilibrium (n_comps equations)\n",
    "        for i_comp in range(self.liq_stream_in.n_comps):\n",
    "            K_eq = np.power(10, Antoine_A[i_comp] - Antoine_B[i_comp] / (Antoine_C[i_comp] + self.liq_stream_out.xvar[1])) / self.press\n",
    "            self.eqns[4+self.liq_stream_in.n_comps+i_comp] = self.vap_stream_out.xvar[2+i_comp] - \\\n",
    "                K_eq * self.liq_stream_out.xvar[2+i_comp]\n",
    "        return"
   ]
  },
  {
   "cell_type": "code",
   "execution_count": 461,
   "metadata": {},
   "outputs": [
    {
     "ename": "IndentationError",
     "evalue": "expected an indented block (<ipython-input-461-ce01c191c446>, line 95)",
     "output_type": "error",
     "traceback": [
      "\u001b[1;36m  File \u001b[1;32m\"<ipython-input-461-ce01c191c446>\"\u001b[1;36m, line \u001b[1;32m95\u001b[0m\n\u001b[1;33m    self.unit_dict[s.name] = s\u001b[0m\n\u001b[1;37m    ^\u001b[0m\n\u001b[1;31mIndentationError\u001b[0m\u001b[1;31m:\u001b[0m expected an indented block\n"
     ]
    }
   ],
   "source": [
    "class SimpleColumn(Unit):\n",
    "    \n",
    "    n_columns = 0\n",
    "    \n",
    "    def __init__(self, n_trays, feed_tray, feed_stream_liq, reflux, vapor_reboil, condensate,\n",
    "                 bottoms, press, name=None):\n",
    "        '''\n",
    "        feed_tray must be an integer between 1 and n_trays-2 (feed cannot be to the top or bottom trays for now)\n",
    "        the bottom tray is tray number zero\n",
    "        the top tray is tray number n_trays-1\n",
    "        '''\n",
    "        self.column_num = SimpleColumn.n_columns\n",
    "        super().__init__(name, self.column_num)\n",
    "        SimpleColumn.n_columns += 1\n",
    "        \n",
    "        assert n_trays > 0, '{}: Number of tray must be greater than zero (specified {})'.format(self.name, n_trays)\n",
    "        self.n_trays = n_trays\n",
    "        \n",
    "        assert (feed_tray >= 1) and (feed_tray <= self.n_trays-2), \\\n",
    "            '{}: Feed tray number must be from 1 to {} inclusive (specified {}). No feed to the top or bottom trays for now' \\\n",
    "            .format(self.name, self.n_trays-2, feed_tray)\n",
    "        self.feed_tray = feed_tray\n",
    "        \n",
    "        self.feed_stream_liq = feed_stream_liq\n",
    "        self.reflux = reflux\n",
    "        self.vapor_reboil = vapor_reboil\n",
    "        self.condensate = condensate\n",
    "        self.bottoms = bottoms\n",
    "        self.press = press\n",
    "        self.n_vars = 0\n",
    "        self.n_eqns = 0\n",
    "        \n",
    "        # figure out number of streams to be created as part of this column\n",
    "        # for each tray, there are two streams leaving (one liquid, one vapor)\n",
    "        # one liquid feed stream (comes from outside the column)\n",
    "        # one stream that is a combination of the liquid feed stream and the liquid from the tray above the feed tray\n",
    "        \n",
    "        # create the streams associated with the column\n",
    "        # tray liquid and vapor streams\n",
    "        self.tray_liq_stream = []\n",
    "        for i_tray in range(self.n_trays):\n",
    "            name = self.name+'Tray'+str(i_tray)+'Liquid'\n",
    "            self.tray_liq_stream.append(Stream(n_comps=N_COMPS, name=name))\n",
    "\n",
    "        self.tray_vap_stream = []\n",
    "        for i_tray in range(self.n_trays):\n",
    "            name = self.name+'Tray'+str(i_tray)+'Vapor'\n",
    "            self.tray_vap_stream.append(Stream(n_comps=N_COMPS, name=name))\n",
    "\n",
    "        # create the mixed stream consisting of the feed stream and the liquid from the tray above the feed tray\n",
    "        name = self.name+'MixedLiquidFeed'\n",
    "        self.mixed_liq_feed = Stream(n_comps=N_COMPS, name=name)\n",
    "        self.unit_dict[name] = self.mixed_liq_feed\n",
    "        \n",
    "        # create the mixer needed to mix the liquid feed and the liquid from the tray above the feed tray\n",
    "        name=self.name+'FeedMixer'\n",
    "        self.feed_mixer = Mixer(streams_in=[self.feed_stream_liq, self.tray_liq_stream[feed_tray+1]], \n",
    "                                streams_out=[self.mixed_liq_feed],\n",
    "                                name=name)\n",
    "        self.unit_dict[name] = self.feed_mixer\n",
    "        \n",
    "        # create trays\n",
    "        self.trays = []\n",
    "        for i_tray in range(self.n_trays):\n",
    "            name=self.name+'Tray'+str(i_tray)\n",
    "            if i_tray == self.feed_tray:\n",
    "                self.trays.append(Tray(liq_stream_in=self.mixed_liq_feed, \n",
    "                                       liq_stream_out=self.tray_liq_stream[i_tray],\n",
    "                                       vap_stream_in=self.tray_vap_stream[i_tray-1], \n",
    "                                       vap_stream_out=self.tray_vap_stream[i_tray], \n",
    "                                       press=self.press, name=name))\n",
    "            elif i_tray == 0:\n",
    "                self.trays.append(Tray(liq_stream_in=self.tray_liq_stream[i_tray+1], \n",
    "                                       liq_stream_out=self.tray_liq_stream[i_tray],\n",
    "                                       vap_stream_in=self.vapor_reboil, \n",
    "                                       vap_stream_out=self.tray_vap_stream[i_tray], \n",
    "                                       press=self.press, name=name))\n",
    "            elif i_tray == self.n_trays-1:\n",
    "                self.trays.append(Tray(liq_stream_in=self.reflux, \n",
    "                                       liq_stream_out=self.tray_liq_stream[i_tray],\n",
    "                                       vap_stream_in=self.tray_vap_stream[i_tray-1], \n",
    "                                       vap_stream_out=self.tray_vap_stream[i_tray], \n",
    "                                       press=self.press, name=name))\n",
    "            else:\n",
    "                self.trays.append(Tray(liq_stream_in=self.tray_liq_stream[i_tray+1], \n",
    "                                       liq_stream_out=self.tray_liq_stream[i_tray],\n",
    "                                       vap_stream_in=self.tray_vap_stream[i_tray-1], \n",
    "                                       vap_stream_out=self.tray_vap_stream[i_tray], \n",
    "                                       press=self.press, name=name))\n",
    "                \n",
    "        for s in self.tray_liq_stream:\n",
    "            self.unit_dict[s.name] = s\n",
    "\n",
    "            for s in self.tray_vap_stream:\n",
    "            self.unit_dict[s.name] = s\n",
    "        \n",
    "        for s in self.trays:\n",
    "            self.unit_dict[s.name] = s\n",
    "        \n",
    "        name = self.name+'CondensateConnector'\n",
    "        self.condensate_connector = Connector(self.condensate, self.tray_vap_stream[n_trays-1], name=name)\n",
    "        self.unit_dict[name] = self.condensate_connector\n",
    "            \n",
    "        name = self.name+'BottomsConnector'\n",
    "        self.bottoms_connector = Connector(self.bottoms, self.tray_liq_stream[0], name=name)\n",
    "        self.unit_dict[name] = self.bottoms_connector\n",
    "            \n",
    "    def __str__(self):\n",
    "        s = ''\n",
    "        s = s + 'SimpleColumn name: {}\\n'.format(self.name)\n",
    "        s = s + 'SimpleColumn number: {}\\n'.format(self.column_num)\n",
    "        s = s + 'Number of trays: {}\\n'.format(self.n_trays)\n",
    "        s = s + 'Feed tray: {}\\n'.format(self.feed_tray)\n",
    "        s = s + 'Pressure: {}\\n'.format(self.press)\n",
    "        s = s + 'Liquid feed stream: {}\\n'.format(self.feed_stream_liq.name)\n",
    "        s = s + 'Reflux stream: {}\\n'.format(self.reflux.name)\n",
    "        s = s + 'Vapor reboil stream: {}\\n'.format(self.vapor_reboil.name)\n",
    "        s = s + 'Number of variables: {}\\n'.format(self.n_vars)\n",
    "        s = s + 'Number of equations: {}\\n'.format(self.n_eqns)\n",
    "        if self.eqns is None:\n",
    "            s = s + 'Equations not set\\n'\n",
    "        else:\n",
    "            s = s + 'Equations: {}\\n'.format(self.eqns[:])\n",
    "        return s\n",
    "        \n",
    "    def calculate(self):\n",
    "        for u in self.unit_dict:\n",
    "            self.unit_dict[u].calculate()"
   ]
  },
  {
   "cell_type": "code",
   "execution_count": 462,
   "metadata": {},
   "outputs": [],
   "source": [
    "def map_var_to_unit1(x, unit_dict):\n",
    "\n",
    "    def map_var_to_unit2(x, unit_dict, idx):\n",
    "        for u in unit_dict:\n",
    "            n_vars = unit_dict[u].n_vars\n",
    "            if n_vars > 0:\n",
    "                unit_dict[u].xvar = x[idx:idx+n_vars]\n",
    "                idx += n_vars\n",
    "            map_var_to_unit2(x, unit_dict[u].unit_dict, idx)\n",
    "\n",
    "    idx = 0\n",
    "    map_var_to_unit2(x, unit_dict, idx)"
   ]
  },
  {
   "cell_type": "code",
   "execution_count": 463,
   "metadata": {},
   "outputs": [],
   "source": [
    "def map_eqn_to_unit1(e, unit_dict):\n",
    "\n",
    "    def map_eqn_to_unit2(e, unit_dict, idx):\n",
    "        for u in unit_dict:\n",
    "            n_eqns = unit_dict[u].n_eqns\n",
    "            if n_eqns > 0:\n",
    "                unit_dict[u].eqns = e[idx:idx+n_eqns]\n",
    "                idx += n_eqns\n",
    "            map_eqn_to_unit2(e, unit_dict[u].unit_dict, idx)\n",
    "\n",
    "    idx = 0\n",
    "    map_eqn_to_unit2(e, unit_dict, idx)"
   ]
  },
  {
   "cell_type": "code",
   "execution_count": 464,
   "metadata": {},
   "outputs": [],
   "source": [
    "def process_eqns(xvar):\n",
    "    map_var_to_unit1(xvar, unit_dict)\n",
    "    for u in unit_dict:\n",
    "        unit_dict[u].calculate()\n",
    "    return eqns.tolist()"
   ]
  },
  {
   "cell_type": "markdown",
   "metadata": {},
   "source": [
    "# <font color='red'>Foust Column</font>"
   ]
  },
  {
   "cell_type": "code",
   "execution_count": 465,
   "metadata": {},
   "outputs": [],
   "source": [
    "N_COMPS = 5"
   ]
  },
  {
   "cell_type": "code",
   "execution_count": 466,
   "metadata": {},
   "outputs": [],
   "source": [
    "unit_dict = dict()"
   ]
  },
  {
   "cell_type": "code",
   "execution_count": 467,
   "metadata": {},
   "outputs": [],
   "source": [
    "condensate = Stream(n_comps=N_COMPS, name='Condensate')\n",
    "reflux = Stream(n_comps=N_COMPS, name='Reflux')\n",
    "top_product = Stream(n_comps=N_COMPS, name='Top product')\n",
    "bottoms = Stream(n_comps=N_COMPS, name='Bottoms')\n",
    "vapor_reboil = Stream(n_comps=N_COMPS, name='Vapor reboil')\n",
    "bottom_product = Stream(n_comps=N_COMPS, name='Bottom product')\n",
    "feed = Stream(n_comps=N_COMPS, name='LiquidFeed')"
   ]
  },
  {
   "cell_type": "code",
   "execution_count": 468,
   "metadata": {},
   "outputs": [],
   "source": [
    "unit_dict['condensate'] = condensate\n",
    "unit_dict['reflux'] = reflux\n",
    "unit_dict['top_product'] = top_product\n",
    "unit_dict['bottoms'] = bottoms\n",
    "unit_dict['vapor_reboil'] = vapor_reboil\n",
    "unit_dict['bottom_product'] = bottom_product\n",
    "unit_dict['feed'] = feed"
   ]
  },
  {
   "cell_type": "code",
   "execution_count": 469,
   "metadata": {},
   "outputs": [],
   "source": [
    "condenser = Mixer(streams_in=[condensate], \n",
    "                  streams_out=[reflux, top_product], \n",
    "                  name='Condenser')\n",
    "\n",
    "reboiler = Mixer(streams_in=[bottoms], \n",
    "                 streams_out=[vapor_reboil, bottom_product], \n",
    "                 name='Reboiler')"
   ]
  },
  {
   "cell_type": "code",
   "execution_count": 470,
   "metadata": {},
   "outputs": [],
   "source": [
    "unit_dict['condenser'] = condenser\n",
    "unit_dict['reboiler'] = reboiler"
   ]
  },
  {
   "cell_type": "code",
   "execution_count": 471,
   "metadata": {},
   "outputs": [],
   "source": [
    "feed_flow_spec = Specify(flow=True, stream=feed, value=100)\n",
    "feed_temp_spec = Specify(temperature=True, stream=feed, value=100)\n",
    "feed_ic4_spec = Specify(fraction=True, stream=feed, comp_num=0, value=0.1)\n",
    "feed_nc4_spec = Specify(fraction=True, stream=feed, comp_num=1, value=0.2)\n",
    "feed_ic5_spec = Specify(fraction=True, stream=feed, comp_num=2, value=0.35)\n",
    "feed_nc5_spec = Specify(fraction=True, stream=feed, comp_num=3, value=0.25)\n",
    "feed_nc6_spec = Specify(fraction=True, stream=feed, comp_num=4, value=0.1)\n",
    "\n",
    "top_product_flow_spec = Specify(flow=True, stream=top_product, value=30)\n",
    "\n",
    "reflux_flow_spec = Specify(flow=True, stream=reflux, value=120)"
   ]
  },
  {
   "cell_type": "code",
   "execution_count": 472,
   "metadata": {},
   "outputs": [],
   "source": [
    "unit_dict['feed_flow_spec'] = feed_flow_spec\n",
    "unit_dict['feed_temp_spec'] = feed_temp_spec\n",
    "unit_dict['feed_ic4_spec'] = feed_ic4_spec\n",
    "unit_dict['feed_nc4_spec'] = feed_nc4_spec\n",
    "unit_dict['feed_ic5_spec'] = feed_ic5_spec\n",
    "unit_dict['feed_nc5_spec'] = feed_nc5_spec\n",
    "unit_dict['feed_nc6_spec'] = feed_nc6_spec\n",
    "unit_dict['top_product_flow_spec'] = top_product_flow_spec\n",
    "unit_dict['reflux_flow_spec'] = reflux_flow_spec"
   ]
  },
  {
   "cell_type": "code",
   "execution_count": 473,
   "metadata": {},
   "outputs": [],
   "source": [
    "# instantiate distillation column in E.g. 8-11 in Foust, et. al.\n",
    "foust_8_11 = SimpleColumn(n_trays=15, feed_tray=8, \n",
    "                          feed_stream_liq=feed, \n",
    "                          reflux=reflux, \n",
    "                          vapor_reboil=vapor_reboil, \n",
    "                          condensate = condensate,\n",
    "                          bottoms = bottoms,\n",
    "                          press=55, name='foust_8_11')"
   ]
  },
  {
   "cell_type": "code",
   "execution_count": 474,
   "metadata": {},
   "outputs": [],
   "source": [
    "unit_dict[foust_8_11.name] = foust_8_11"
   ]
  },
  {
   "cell_type": "code",
   "execution_count": 475,
   "metadata": {},
   "outputs": [
    {
     "name": "stdout",
     "output_type": "stream",
     "text": [
      "SimpleColumn name: foust_8_11\n",
      "SimpleColumn number: 2\n",
      "Number of trays: 15\n",
      "Feed tray: 8\n",
      "Pressure: 55\n",
      "Liquid feed stream: LiquidFeed\n",
      "Reflux stream: Reflux\n",
      "Vapor reboil stream: Vapor reboil\n",
      "Number of variables: 0\n",
      "Number of equations: 0\n",
      "Equations not set\n",
      "\n"
     ]
    }
   ],
   "source": [
    "print(foust_8_11)"
   ]
  },
  {
   "cell_type": "code",
   "execution_count": 476,
   "metadata": {},
   "outputs": [
    {
     "data": {
      "text/plain": [
       "266"
      ]
     },
     "execution_count": 476,
     "metadata": {},
     "output_type": "execute_result"
    }
   ],
   "source": [
    "n_eqns = 0\n",
    "for u in unit_dict:\n",
    "    n_eqns += unit_dict[u].num_eqns()\n",
    "    \n",
    "n_eqns"
   ]
  },
  {
   "cell_type": "code",
   "execution_count": 477,
   "metadata": {},
   "outputs": [
    {
     "data": {
      "text/plain": [
       "266"
      ]
     },
     "execution_count": 477,
     "metadata": {},
     "output_type": "execute_result"
    }
   ],
   "source": [
    "n_vars = 0\n",
    "for u in unit_dict:\n",
    "    n_vars += unit_dict[u].num_vars()\n",
    "    \n",
    "n_vars"
   ]
  },
  {
   "cell_type": "code",
   "execution_count": 478,
   "metadata": {},
   "outputs": [
    {
     "name": "stdout",
     "output_type": "stream",
     "text": [
      "Column is OK\n"
     ]
    }
   ],
   "source": [
    "assert n_eqns == n_vars, 'Column is NOT OK'\n",
    "print('Column is OK')"
   ]
  },
  {
   "cell_type": "code",
   "execution_count": 479,
   "metadata": {},
   "outputs": [],
   "source": [
    "xvar = np.ones(n_vars, dtype=np.float64) * 100"
   ]
  },
  {
   "cell_type": "code",
   "execution_count": 480,
   "metadata": {},
   "outputs": [],
   "source": [
    "map_var_to_unit1(xvar, unit_dict)"
   ]
  },
  {
   "cell_type": "code",
   "execution_count": 481,
   "metadata": {},
   "outputs": [],
   "source": [
    "eqns = np.ones(n_vars, dtype=np.float64)"
   ]
  },
  {
   "cell_type": "code",
   "execution_count": 482,
   "metadata": {},
   "outputs": [],
   "source": [
    "map_eqn_to_unit1(eqns, unit_dict)"
   ]
  },
  {
   "cell_type": "code",
   "execution_count": 483,
   "metadata": {
    "scrolled": true
   },
   "outputs": [],
   "source": [
    "process_eqns(xvar);"
   ]
  },
  {
   "cell_type": "code",
   "execution_count": 484,
   "metadata": {},
   "outputs": [],
   "source": [
    "x_solution = fsolve(process_eqns, xvar)"
   ]
  },
  {
   "cell_type": "code",
   "execution_count": 485,
   "metadata": {},
   "outputs": [
    {
     "data": {
      "text/plain": [
       "array([1.50000000e+02, 9.90734961e+01, 3.33028036e-01, 6.56251375e-01,\n",
       "       9.83823282e-03, 8.82247864e-04, 1.08528267e-07, 1.20000000e+02,\n",
       "       9.90734961e+01, 3.33028036e-01, 6.56251375e-01, 9.83823282e-03,\n",
       "       8.82247864e-04, 1.08528267e-07, 3.00000000e+01, 9.90734961e+01,\n",
       "       3.33028036e-01, 6.56251375e-01, 9.83823282e-03, 8.82247864e-04,\n",
       "       1.08528267e-07, 2.20000000e+02, 1.75657921e+02, 1.30841649e-04,\n",
       "       4.46369658e-03, 4.95783615e-01, 3.56764751e-01, 1.42857096e-01,\n",
       "       1.50000000e+02, 1.75657921e+02, 1.30841649e-04, 4.46369658e-03,\n",
       "       4.95783615e-01, 3.56764751e-01, 1.42857096e-01, 7.00000000e+01,\n",
       "       1.75657921e+02, 1.30841649e-04, 4.46369658e-03, 4.95783615e-01,\n",
       "       3.56764751e-01, 1.42857096e-01, 1.00000000e+02, 1.00000000e+02,\n",
       "       1.00000000e-01, 2.00000000e-01, 3.50000000e-01, 2.50000000e-01,\n",
       "       1.00000000e-01, 2.20000000e+02, 1.17688431e+02, 8.33319898e-02,\n",
       "       2.75252060e-01, 3.83461570e-01, 2.04518782e-01, 5.34355986e-02,\n",
       "       2.20000000e+02, 1.75657921e+02, 1.30841649e-04, 4.46369658e-03,\n",
       "       4.95783615e-01, 3.56764751e-01, 1.42857096e-01, 2.20000000e+02,\n",
       "       1.71440036e+02, 3.46591216e-04, 9.40198755e-03, 5.60445104e-01,\n",
       "       3.47961854e-01, 8.18444641e-02, 2.20000000e+02, 1.69347930e+02,\n",
       "       8.12427183e-04, 1.74081268e-02, 5.87901562e-01, 3.28962232e-01,\n",
       "       6.49156520e-02, 2.20000000e+02, 1.67450325e+02, 1.80640117e-03,\n",
       "       3.02854445e-02, 5.96336343e-01, 3.11205691e-01, 6.03661209e-02,\n",
       "       2.20000000e+02, 1.64950807e+02, 3.88210115e-03, 5.04947509e-02,\n",
       "       5.91231350e-01, 2.95501637e-01, 5.88901605e-02, 2.20000000e+02,\n",
       "       1.61369464e+02, 8.06298267e-03, 8.07786855e-02, 5.72963861e-01,\n",
       "       2.80170929e-01, 5.80235418e-02, 2.20000000e+02, 1.56421573e+02,\n",
       "       1.60273589e-02, 1.22875682e-01, 5.40541582e-01, 2.63446746e-01,\n",
       "       5.71086311e-02, 2.20000000e+02, 1.50190951e+02, 3.00282600e-02,\n",
       "       1.75046683e-01, 4.94450030e-01, 2.44487874e-01, 5.59871531e-02,\n",
       "       2.20000000e+02, 1.43281405e+02, 5.21917438e-02, 2.29796796e-01,\n",
       "       4.39220190e-01, 2.24083748e-01, 5.47075223e-02, 1.20000000e+02,\n",
       "       1.32428791e+02, 6.94419813e-02, 3.37962109e-01, 4.11346211e-01,\n",
       "       1.66617767e-01, 1.46319308e-02, 1.20000000e+02, 1.21769049e+02,\n",
       "       9.38508177e-02, 4.73274180e-01, 3.25741418e-01, 1.03938683e-01,\n",
       "       3.19490097e-03, 1.20000000e+02, 1.12609781e+02, 1.24751020e-01,\n",
       "       6.03797488e-01, 2.16776350e-01, 5.41085180e-02, 5.66623534e-04,\n",
       "       1.20000000e+02, 1.06101587e+02, 1.60675469e-01, 6.92491234e-01,\n",
       "       1.22866793e-01, 2.38830891e-02, 8.34154635e-05, 1.20000000e+02,\n",
       "       1.01930949e+02, 2.03366626e-01, 7.26296590e-01, 6.10843700e-02,\n",
       "       9.24172438e-03, 1.06898075e-05, 1.20000000e+02, 9.90734961e+01,\n",
       "       2.58370797e-01, 7.11548597e-01, 2.69090125e-02, 3.17036435e-03,\n",
       "       1.22877280e-06, 1.50000000e+02, 1.75657921e+02, 4.47274347e-04,\n",
       "       1.17065233e-02, 5.90620465e-01, 3.43853835e-01, 5.33719023e-02,\n",
       "       1.50000000e+02, 1.71440036e+02, 1.13050043e-03, 2.34488609e-02,\n",
       "       6.30889938e-01, 3.15987723e-01, 2.85429780e-02, 1.50000000e+02,\n",
       "       1.69347930e+02, 2.58832894e-03, 4.23355935e-02, 6.43260949e-01,\n",
       "       2.89944796e-01, 2.18703324e-02, 1.50000000e+02, 1.67450325e+02,\n",
       "       5.63268892e-03, 7.19759096e-02, 6.35773627e-01, 2.66912185e-01,\n",
       "       1.97055905e-02, 1.50000000e+02, 1.64950807e+02, 1.17646485e-02,\n",
       "       1.16392347e-01, 6.08981310e-01, 2.44427145e-01, 1.84345497e-02,\n",
       "       1.50000000e+02, 1.61369464e+02, 2.34457336e-02, 1.78134608e-01,\n",
       "       5.61428634e-01, 2.19898344e-01, 1.70926807e-02, 1.50000000e+02,\n",
       "       1.56421573e+02, 4.39803886e-02, 2.54652076e-01, 4.93827691e-01,\n",
       "       1.92091998e-01, 1.54478462e-02, 1.50000000e+02, 1.50190951e+02,\n",
       "       7.64868315e-02, 3.34952242e-01, 4.12823925e-01, 1.62165947e-01,\n",
       "       1.35710544e-02, 1.50000000e+02, 1.43281405e+02, 1.22159192e-01,\n",
       "       4.01619962e-01, 3.31044616e-01, 1.33470663e-01, 1.17055664e-02,\n",
       "       1.50000000e+02, 1.32428791e+02, 1.41686261e-01, 5.09869619e-01,\n",
       "       2.62560781e-01, 8.33273960e-02, 2.55594249e-03, 1.50000000e+02,\n",
       "       1.21769049e+02, 1.66406424e-01, 6.14288265e-01, 1.75388727e-01,\n",
       "       4.34632639e-02, 4.53320533e-04, 1.50000000e+02, 1.12609781e+02,\n",
       "       1.95145982e-01, 6.85243262e-01, 1.00261081e-01, 1.92829208e-02,\n",
       "       6.67540765e-05, 1.50000000e+02, 1.06101587e+02, 2.29298908e-01,\n",
       "       7.12287547e-01, 5.08351426e-02, 7.56982908e-03, 8.57355162e-06,\n",
       "       1.50000000e+02, 1.01930949e+02, 2.73302245e-01, 7.00489152e-01,\n",
       "       2.34948565e-02, 2.71274105e-03, 1.00472389e-06, 1.50000000e+02,\n",
       "       9.90734961e+01, 3.33028036e-01, 6.56251375e-01, 9.83823282e-03,\n",
       "       8.82247864e-04, 1.08528267e-07])"
      ]
     },
     "execution_count": 485,
     "metadata": {},
     "output_type": "execute_result"
    }
   ],
   "source": [
    "x_solution"
   ]
  },
  {
   "cell_type": "code",
   "execution_count": 486,
   "metadata": {},
   "outputs": [
    {
     "data": {
      "text/plain": [
       "array([ 0.00000000e+00,  0.00000000e+00,  0.00000000e+00,  0.00000000e+00,\n",
       "        0.00000000e+00,  0.00000000e+00,  0.00000000e+00, -1.73472348e-18,\n",
       "       -1.73472348e-18, -5.42101086e-19,  2.16840434e-19, -7.66167771e-20,\n",
       "       -7.59417977e-20,  0.00000000e+00, -2.84217094e-14, -2.84217094e-14,\n",
       "       -1.04896560e-17, -9.05308814e-18,  1.56125113e-17, -1.47451495e-17,\n",
       "        0.00000000e+00,  0.00000000e+00,  0.00000000e+00,  0.00000000e+00,\n",
       "        0.00000000e+00,  0.00000000e+00,  0.00000000e+00,  0.00000000e+00,\n",
       "        0.00000000e+00,  0.00000000e+00,  0.00000000e+00,  0.00000000e+00,\n",
       "        0.00000000e+00,  0.00000000e+00,  0.00000000e+00,  0.00000000e+00,\n",
       "        3.12638804e-13, -1.52655666e-15, -2.10942375e-15,  2.38697950e-15,\n",
       "       -1.22124533e-15,  2.22044605e-16,  2.84217094e-14,  0.00000000e+00,\n",
       "        0.00000000e+00, -3.30013794e-14,  5.13686316e-14,  2.62290190e-15,\n",
       "       -4.55191440e-14,  0.00000000e+00,  7.10542736e-15,  3.38473584e-11,\n",
       "       -1.20536556e-10,  5.45079537e-11,  9.00524100e-12,  1.56167440e-12,\n",
       "        2.84217094e-14,  0.00000000e+00,  0.00000000e+00, -2.45636844e-15,\n",
       "       -2.10005624e-14, -4.91273688e-15, -7.28306304e-14,  2.84217094e-14,\n",
       "        0.00000000e+00,  2.05083223e-10, -5.94435900e-10,  2.40179654e-10,\n",
       "        7.19702631e-11,  7.05428771e-12,  0.00000000e+00,  0.00000000e+00,\n",
       "        0.00000000e+00, -3.01147995e-15, -2.05703510e-14,  1.89293026e-14,\n",
       "        1.11910481e-13,  0.00000000e+00, -1.42108547e-14,  1.25407603e-10,\n",
       "       -1.74719203e-09,  9.39285538e-10,  3.29881233e-10,  2.28760552e-11,\n",
       "       -2.84217094e-14,  0.00000000e+00,  0.00000000e+00,  3.24323901e-14,\n",
       "        1.56749613e-14,  2.22377672e-13,  1.59872116e-13,  2.84217094e-14,\n",
       "        6.39488462e-14, -1.87456861e-09, -1.11792575e-09,  1.36208300e-09,\n",
       "        6.24410856e-10,  9.80969819e-12, -2.84217094e-14,  0.00000000e+00,\n",
       "        0.00000000e+00,  8.67361738e-15,  2.13135065e-13, -1.13020704e-13,\n",
       "        2.41584530e-13, -1.56319402e-13, -9.23705556e-14, -3.60114628e-09,\n",
       "        8.50735191e-10,  1.06489939e-09,  4.82184959e-10, -1.07444886e-11,\n",
       "        0.00000000e+00,  0.00000000e+00,  0.00000000e+00,  5.85247129e-13,\n",
       "        4.14876467e-14, -3.09974268e-13, -8.34887715e-13,  4.40536496e-13,\n",
       "        3.26849658e-13, -2.78999654e-09,  5.69205175e-09, -2.08736672e-09,\n",
       "       -6.79949541e-10, -8.10644156e-11,  2.84217094e-14,  0.00000000e+00,\n",
       "        0.00000000e+00, -8.48973669e-14,  5.50427759e-15, -1.70530257e-12,\n",
       "        3.41060513e-13,  7.10542736e-13, -6.99884595e-13,  4.99504613e-09,\n",
       "        1.87356526e-08, -1.28507663e-08, -4.38130790e-09, -2.96132773e-10,\n",
       "        5.68434189e-14,  0.00000000e+00,  0.00000000e+00, -2.23016050e-14,\n",
       "        8.64239236e-15, -8.89954777e-13,  2.91322522e-13, -1.42108547e-14,\n",
       "        2.87769808e-13,  1.91136061e-08,  2.32069428e-08, -1.95150484e-08,\n",
       "       -6.35578076e-09, -3.59745496e-10,  2.84217094e-14,  0.00000000e+00,\n",
       "        0.00000000e+00, -7.77850007e-15,  3.71577769e-15, -3.90798505e-14,\n",
       "        9.23705556e-13, -1.07291953e-12,  1.91846539e-13,  2.03325209e-08,\n",
       "       -2.23761246e-08,  4.63772215e-09,  1.67270284e-09,  1.25666496e-10,\n",
       "       -2.84217094e-14,  0.00000000e+00,  0.00000000e+00, -5.14865928e-15,\n",
       "       -2.40692882e-16,  5.68434189e-14,  2.41584530e-13, -1.77635684e-13,\n",
       "        1.77635684e-15,  3.60686950e-08, -1.20123028e-07,  4.47857899e-08,\n",
       "        1.29890650e-08,  3.78668934e-10, -2.84217094e-14,  0.00000000e+00,\n",
       "        0.00000000e+00,  1.01264483e-15,  8.27571518e-16,  4.97379915e-14,\n",
       "       -1.27897692e-13,  6.43041176e-13,  4.34319247e-13,  2.88783206e-08,\n",
       "       -3.67899828e-08, -2.19283225e-09, -1.10667532e-09, -1.91313032e-11,\n",
       "       -2.84217094e-14,  0.00000000e+00,  0.00000000e+00, -8.00726672e-15,\n",
       "        4.98461949e-17,  2.52242671e-13,  2.41584530e-13, -8.73967565e-13,\n",
       "       -4.88498131e-14,  1.36101426e-08,  7.13498959e-08, -4.05518304e-08,\n",
       "       -8.49443942e-09, -3.40466656e-11, -2.84217094e-14,  0.00000000e+00,\n",
       "        0.00000000e+00,  3.42792201e-15,  8.85911760e-17, -2.84217094e-14,\n",
       "       -4.12114787e-13, -3.10862447e-13, -7.59392549e-14,  1.10464610e-09,\n",
       "        1.49737426e-08, -6.85874160e-09, -1.21197383e-09, -1.59129787e-12,\n",
       "        0.00000000e+00,  0.00000000e+00,  0.00000000e+00, -3.26361795e-16,\n",
       "       -1.66324448e-16,  3.55271368e-14,  4.26325641e-14, -2.08721929e-14,\n",
       "       -3.60822483e-15, -1.34346145e-10, -1.46953605e-09,  9.06036867e-10,\n",
       "        8.31184327e-11, -6.31030355e-15,  0.00000000e+00,  0.00000000e+00,\n",
       "        0.00000000e+00,  4.09238886e-16, -5.38511784e-18,  2.84217094e-14,\n",
       "        2.84217094e-14, -8.43769499e-15,  8.02136135e-15,  7.21950832e-11,\n",
       "       -6.14944429e-10,  2.87181511e-10,  2.26951534e-11,  1.11260508e-13,\n",
       "        0.00000000e+00,  0.00000000e+00,  0.00000000e+00,  0.00000000e+00,\n",
       "       -3.46944695e-18, -9.75781955e-19, -3.44239484e-20,  0.00000000e+00,\n",
       "        0.00000000e+00,  1.92445886e-18, -8.67361738e-18,  0.00000000e+00,\n",
       "        0.00000000e+00,  0.00000000e+00])"
      ]
     },
     "execution_count": 486,
     "metadata": {},
     "output_type": "execute_result"
    }
   ],
   "source": [
    "eqns"
   ]
  },
  {
   "cell_type": "code",
   "execution_count": 487,
   "metadata": {},
   "outputs": [
    {
     "data": {
      "text/plain": [
       "3.026437446613957e-14"
      ]
     },
     "execution_count": 487,
     "metadata": {},
     "output_type": "execute_result"
    }
   ],
   "source": [
    "np.sum(np.square(eqns))"
   ]
  },
  {
   "cell_type": "code",
   "execution_count": 488,
   "metadata": {},
   "outputs": [],
   "source": [
    "map_var_to_unit1(x_solution, unit_dict)"
   ]
  },
  {
   "cell_type": "code",
   "execution_count": 489,
   "metadata": {},
   "outputs": [
    {
     "name": "stdout",
     "output_type": "stream",
     "text": [
      "Stream name: Top product\n",
      "Stream number: 2\n",
      "Number of variables: 7\n",
      "Number of equations: 0\n",
      "Flow rate: 30.0\n",
      "Temperature: 99.07349606231314\n",
      "Fractions: [3.33028036e-01 6.56251375e-01 9.83823282e-03 8.82247864e-04\n",
      " 1.08528267e-07]\n",
      "\n"
     ]
    }
   ],
   "source": [
    "print(top_product)"
   ]
  },
  {
   "cell_type": "code",
   "execution_count": 490,
   "metadata": {},
   "outputs": [
    {
     "name": "stdout",
     "output_type": "stream",
     "text": [
      "Stream name: Bottom product\n",
      "Stream number: 5\n",
      "Number of variables: 7\n",
      "Number of equations: 0\n",
      "Flow rate: 69.9999999999999\n",
      "Temperature: 175.65792088168965\n",
      "Fractions: [1.30841649e-04 4.46369658e-03 4.95783615e-01 3.56764751e-01\n",
      " 1.42857096e-01]\n",
      "\n"
     ]
    }
   ],
   "source": [
    "print(bottom_product)"
   ]
  },
  {
   "cell_type": "code",
   "execution_count": 491,
   "metadata": {},
   "outputs": [
    {
     "name": "stdout",
     "output_type": "stream",
     "text": [
      "Stream name: Reflux\n",
      "Stream number: 1\n",
      "Number of variables: 7\n",
      "Number of equations: 0\n",
      "Flow rate: 120.0\n",
      "Temperature: 99.07349606231314\n",
      "Fractions: [3.33028036e-01 6.56251375e-01 9.83823282e-03 8.82247864e-04\n",
      " 1.08528267e-07]\n",
      "\n"
     ]
    }
   ],
   "source": [
    "print(reflux)"
   ]
  },
  {
   "cell_type": "code",
   "execution_count": 492,
   "metadata": {},
   "outputs": [
    {
     "name": "stdout",
     "output_type": "stream",
     "text": [
      "Stream name: Vapor reboil\n",
      "Stream number: 4\n",
      "Number of variables: 7\n",
      "Number of equations: 0\n",
      "Flow rate: 150.00000000000009\n",
      "Temperature: 175.65792088168965\n",
      "Fractions: [1.30841649e-04 4.46369658e-03 4.95783615e-01 3.56764751e-01\n",
      " 1.42857096e-01]\n",
      "\n"
     ]
    }
   ],
   "source": [
    "print(vapor_reboil)"
   ]
  },
  {
   "cell_type": "code",
   "execution_count": 493,
   "metadata": {},
   "outputs": [
    {
     "name": "stdout",
     "output_type": "stream",
     "text": [
      "Stream name: Bottoms\n",
      "Stream number: 3\n",
      "Number of variables: 7\n",
      "Number of equations: 0\n",
      "Flow rate: 220.0\n",
      "Temperature: 175.65792088168962\n",
      "Fractions: [1.30841649e-04 4.46369658e-03 4.95783615e-01 3.56764751e-01\n",
      " 1.42857096e-01]\n",
      "\n"
     ]
    }
   ],
   "source": [
    "print(bottoms)"
   ]
  },
  {
   "cell_type": "code",
   "execution_count": 494,
   "metadata": {},
   "outputs": [
    {
     "name": "stdout",
     "output_type": "stream",
     "text": [
      "Stream name: Condensate\n",
      "Stream number: 0\n",
      "Number of variables: 7\n",
      "Number of equations: 0\n",
      "Flow rate: 150.0\n",
      "Temperature: 99.07349606231314\n",
      "Fractions: [3.33028036e-01 6.56251375e-01 9.83823282e-03 8.82247864e-04\n",
      " 1.08528267e-07]\n",
      "\n"
     ]
    }
   ],
   "source": [
    "print(condensate)"
   ]
  },
  {
   "cell_type": "code",
   "execution_count": null,
   "metadata": {},
   "outputs": [],
   "source": []
  },
  {
   "cell_type": "markdown",
   "metadata": {},
   "source": [
    "# <font color='red'>TESTING</font>"
   ]
  },
  {
   "cell_type": "code",
   "execution_count": 495,
   "metadata": {},
   "outputs": [],
   "source": [
    "N_COMPS = 2"
   ]
  },
  {
   "cell_type": "markdown",
   "metadata": {},
   "source": [
    "## <font color='red'>Mixer that combines</font>"
   ]
  },
  {
   "cell_type": "code",
   "execution_count": 496,
   "metadata": {},
   "outputs": [],
   "source": [
    "x1 = Stream(n_comps=N_COMPS, name='x1')"
   ]
  },
  {
   "cell_type": "code",
   "execution_count": 497,
   "metadata": {},
   "outputs": [],
   "source": [
    "x2 = Stream(n_comps=N_COMPS, name='x2')"
   ]
  },
  {
   "cell_type": "code",
   "execution_count": 498,
   "metadata": {},
   "outputs": [],
   "source": [
    "y = Stream(n_comps=N_COMPS, name='y')"
   ]
  },
  {
   "cell_type": "code",
   "execution_count": 499,
   "metadata": {},
   "outputs": [],
   "source": [
    "mix = Mixer(streams_in=[x1,x2], streams_out=[y], name='mix')"
   ]
  },
  {
   "cell_type": "code",
   "execution_count": 500,
   "metadata": {},
   "outputs": [],
   "source": [
    "s1f = Specify(flow=True, stream=x1, value=1)\n",
    "s1t = Specify(temperature=True, stream=x1, value=100)\n",
    "sx11 = Specify(fraction=True, stream=x1, comp_num=0, value=0.1)\n",
    "sx12 = Specify(fraction=True, stream=x1, comp_num=1, value=0.9)\n",
    "\n",
    "s2f = Specify(flow=True, stream=x2, value=1)\n",
    "s2t = Specify(temperature=True, stream=x2, value=150)\n",
    "sx21 = Specify(fraction=True, stream=x2, comp_num=0, value=0.9)\n",
    "sx22 = Specify(fraction=True, stream=x2, comp_num=1, value=0.1)\n"
   ]
  },
  {
   "cell_type": "code",
   "execution_count": 501,
   "metadata": {},
   "outputs": [],
   "source": [
    "unit_dict = dict()\n",
    "unit_dict['x1'] = x1\n",
    "unit_dict['x2'] = x2\n",
    "unit_dict['y'] = y\n",
    "unit_dict['mix'] = mix\n",
    "unit_dict['s1f'] = s1f\n",
    "unit_dict['s1t'] = s1t\n",
    "unit_dict['sx11'] = sx11\n",
    "unit_dict['sx12'] = sx12\n",
    "unit_dict['s2f'] = s2f\n",
    "unit_dict['s2t'] = s2t\n",
    "unit_dict['sx21'] = sx21\n",
    "unit_dict['sx22'] = sx22\n"
   ]
  },
  {
   "cell_type": "code",
   "execution_count": 502,
   "metadata": {},
   "outputs": [
    {
     "data": {
      "text/plain": [
       "12"
      ]
     },
     "execution_count": 502,
     "metadata": {},
     "output_type": "execute_result"
    }
   ],
   "source": [
    "n_vars = 0\n",
    "for u in unit_dict:\n",
    "    n_vars += unit_dict[u].num_vars()\n",
    "    \n",
    "n_vars"
   ]
  },
  {
   "cell_type": "code",
   "execution_count": 503,
   "metadata": {},
   "outputs": [
    {
     "data": {
      "text/plain": [
       "12"
      ]
     },
     "execution_count": 503,
     "metadata": {},
     "output_type": "execute_result"
    }
   ],
   "source": [
    "n_eqns = 0\n",
    "for u in unit_dict:\n",
    "    n_eqns += unit_dict[u].num_eqns()\n",
    "    \n",
    "n_eqns"
   ]
  },
  {
   "cell_type": "code",
   "execution_count": 504,
   "metadata": {},
   "outputs": [
    {
     "name": "stdout",
     "output_type": "stream",
     "text": [
      "Mixer that mixes is OK\n"
     ]
    }
   ],
   "source": [
    "assert n_eqns == n_vars\n",
    "print('Mixer that mixes is OK')"
   ]
  },
  {
   "cell_type": "code",
   "execution_count": 505,
   "metadata": {},
   "outputs": [],
   "source": [
    "xvar = np.ones(n_vars, dtype=np.float64)\n",
    "eqns = np.ones(n_eqns, dtype=np.float64)"
   ]
  },
  {
   "cell_type": "code",
   "execution_count": 506,
   "metadata": {},
   "outputs": [],
   "source": [
    "map_var_to_unit1(xvar, unit_dict)\n",
    "map_eqn_to_unit1(eqns, unit_dict)"
   ]
  },
  {
   "cell_type": "code",
   "execution_count": 507,
   "metadata": {},
   "outputs": [],
   "source": [
    "x_soln = fsolve(process_eqns, xvar)"
   ]
  },
  {
   "cell_type": "code",
   "execution_count": 508,
   "metadata": {},
   "outputs": [
    {
     "data": {
      "text/plain": [
       "array([1.00e+00, 1.00e+02, 1.00e-01, 9.00e-01, 1.00e+00, 1.50e+02,\n",
       "       9.00e-01, 1.00e-01, 2.00e+00, 1.25e+02, 5.00e-01, 5.00e-01])"
      ]
     },
     "execution_count": 508,
     "metadata": {},
     "output_type": "execute_result"
    }
   ],
   "source": [
    "x_soln"
   ]
  },
  {
   "cell_type": "code",
   "execution_count": 509,
   "metadata": {},
   "outputs": [],
   "source": [
    "map_var_to_unit1(x_soln, unit_dict)"
   ]
  },
  {
   "cell_type": "code",
   "execution_count": 510,
   "metadata": {},
   "outputs": [
    {
     "name": "stdout",
     "output_type": "stream",
     "text": [
      "Stream name: x1\n",
      "Stream number: 38\n",
      "Number of variables: 4\n",
      "Number of equations: 0\n",
      "Flow rate: 1.0\n",
      "Temperature: 100.0\n",
      "Fractions: [0.1 0.9]\n",
      "\n"
     ]
    }
   ],
   "source": [
    "print(x1)"
   ]
  },
  {
   "cell_type": "code",
   "execution_count": 511,
   "metadata": {},
   "outputs": [
    {
     "name": "stdout",
     "output_type": "stream",
     "text": [
      "Stream name: x2\n",
      "Stream number: 39\n",
      "Number of variables: 4\n",
      "Number of equations: 0\n",
      "Flow rate: 1.0\n",
      "Temperature: 150.0\n",
      "Fractions: [0.9 0.1]\n",
      "\n"
     ]
    }
   ],
   "source": [
    "print(x2)"
   ]
  },
  {
   "cell_type": "code",
   "execution_count": 512,
   "metadata": {},
   "outputs": [
    {
     "name": "stdout",
     "output_type": "stream",
     "text": [
      "Stream name: y\n",
      "Stream number: 40\n",
      "Number of variables: 4\n",
      "Number of equations: 0\n",
      "Flow rate: 2.0\n",
      "Temperature: 125.0\n",
      "Fractions: [0.5 0.5]\n",
      "\n"
     ]
    }
   ],
   "source": [
    "print(y)"
   ]
  },
  {
   "cell_type": "code",
   "execution_count": 513,
   "metadata": {},
   "outputs": [
    {
     "data": {
      "text/plain": [
       "0.0"
      ]
     },
     "execution_count": 513,
     "metadata": {},
     "output_type": "execute_result"
    }
   ],
   "source": [
    "np.sum(np.square(eqns))"
   ]
  },
  {
   "cell_type": "code",
   "execution_count": null,
   "metadata": {},
   "outputs": [],
   "source": []
  },
  {
   "cell_type": "code",
   "execution_count": null,
   "metadata": {},
   "outputs": [],
   "source": []
  },
  {
   "cell_type": "markdown",
   "metadata": {},
   "source": [
    "## <font color='red'>Mixer that splits</font>"
   ]
  },
  {
   "cell_type": "code",
   "execution_count": 514,
   "metadata": {},
   "outputs": [],
   "source": [
    "i = Stream(n_comps=N_COMPS, name='i')\n",
    "o1 = Stream(n_comps=N_COMPS, name='o1')\n",
    "o2 = Stream(n_comps=N_COMPS, name='o2')"
   ]
  },
  {
   "cell_type": "code",
   "execution_count": 515,
   "metadata": {},
   "outputs": [],
   "source": [
    "split = Mixer(streams_in=[i], streams_out=[o1,o2], name='split')"
   ]
  },
  {
   "cell_type": "code",
   "execution_count": 516,
   "metadata": {},
   "outputs": [],
   "source": [
    "sif = Specify(flow=True, stream=i, value=1)\n",
    "sit = Specify(temperature=True, stream=i, value=100)\n",
    "si1 = Specify(fraction=True, stream=i, comp_num=0, value=0.1)\n",
    "si2 = Specify(fraction=True, stream=i, comp_num=1, value=0.9)\n",
    "so1f = Specify(flow=True, stream=o1, value=0.1)\n"
   ]
  },
  {
   "cell_type": "code",
   "execution_count": 517,
   "metadata": {},
   "outputs": [],
   "source": [
    "unit_dict = dict()\n",
    "unit_dict['i'] = i\n",
    "unit_dict['o1'] = o1\n",
    "unit_dict['o2'] = o2\n",
    "unit_dict['split'] = split\n",
    "unit_dict['sif'] = sif\n",
    "unit_dict['sit'] = sit\n",
    "unit_dict['si1'] = si1\n",
    "unit_dict['si2'] = si2\n",
    "unit_dict['so1f'] = so1f\n"
   ]
  },
  {
   "cell_type": "code",
   "execution_count": 518,
   "metadata": {},
   "outputs": [
    {
     "data": {
      "text/plain": [
       "12"
      ]
     },
     "execution_count": 518,
     "metadata": {},
     "output_type": "execute_result"
    }
   ],
   "source": [
    "n_vars = 0\n",
    "for u in unit_dict:\n",
    "    n_vars += unit_dict[u].num_vars()\n",
    "    \n",
    "n_vars"
   ]
  },
  {
   "cell_type": "code",
   "execution_count": 519,
   "metadata": {
    "scrolled": true
   },
   "outputs": [
    {
     "data": {
      "text/plain": [
       "12"
      ]
     },
     "execution_count": 519,
     "metadata": {},
     "output_type": "execute_result"
    }
   ],
   "source": [
    "n_eqns = 0\n",
    "for u in unit_dict:\n",
    "    n_eqns += unit_dict[u].num_eqns()\n",
    "    \n",
    "n_eqns"
   ]
  },
  {
   "cell_type": "code",
   "execution_count": 520,
   "metadata": {},
   "outputs": [
    {
     "name": "stdout",
     "output_type": "stream",
     "text": [
      "Mixer that splits is OK\n"
     ]
    }
   ],
   "source": [
    "assert n_eqns == n_vars\n",
    "print('Mixer that splits is OK')"
   ]
  },
  {
   "cell_type": "code",
   "execution_count": 521,
   "metadata": {},
   "outputs": [],
   "source": [
    "xvar = np.ones(n_vars, dtype=np.float64)\n",
    "eqns = np.ones(n_eqns, dtype=np.float64)"
   ]
  },
  {
   "cell_type": "code",
   "execution_count": 522,
   "metadata": {},
   "outputs": [],
   "source": [
    "map_var_to_unit1(xvar, unit_dict)\n",
    "map_eqn_to_unit1(eqns, unit_dict)"
   ]
  },
  {
   "cell_type": "code",
   "execution_count": 523,
   "metadata": {},
   "outputs": [],
   "source": [
    "x_soln = fsolve(process_eqns, xvar)"
   ]
  },
  {
   "cell_type": "code",
   "execution_count": 524,
   "metadata": {},
   "outputs": [
    {
     "data": {
      "text/plain": [
       "array([  1. , 100. ,   0.1,   0.9,   0.1, 100. ,   0.1,   0.9,   0.9,\n",
       "       100. ,   0.1,   0.9])"
      ]
     },
     "execution_count": 524,
     "metadata": {},
     "output_type": "execute_result"
    }
   ],
   "source": [
    "x_soln"
   ]
  },
  {
   "cell_type": "code",
   "execution_count": 525,
   "metadata": {},
   "outputs": [],
   "source": [
    "map_var_to_unit1(x_soln, unit_dict)"
   ]
  },
  {
   "cell_type": "code",
   "execution_count": 526,
   "metadata": {},
   "outputs": [
    {
     "name": "stdout",
     "output_type": "stream",
     "text": [
      "Stream name: i\n",
      "Stream number: 41\n",
      "Number of variables: 4\n",
      "Number of equations: 0\n",
      "Flow rate: 1.0\n",
      "Temperature: 100.0\n",
      "Fractions: [0.1 0.9]\n",
      "\n"
     ]
    }
   ],
   "source": [
    "print(i)"
   ]
  },
  {
   "cell_type": "code",
   "execution_count": 527,
   "metadata": {},
   "outputs": [
    {
     "name": "stdout",
     "output_type": "stream",
     "text": [
      "Stream name: o1\n",
      "Stream number: 42\n",
      "Number of variables: 4\n",
      "Number of equations: 0\n",
      "Flow rate: 0.1\n",
      "Temperature: 100.0\n",
      "Fractions: [0.1 0.9]\n",
      "\n"
     ]
    }
   ],
   "source": [
    "print(o1)"
   ]
  },
  {
   "cell_type": "code",
   "execution_count": 528,
   "metadata": {},
   "outputs": [
    {
     "name": "stdout",
     "output_type": "stream",
     "text": [
      "Stream name: o2\n",
      "Stream number: 43\n",
      "Number of variables: 4\n",
      "Number of equations: 0\n",
      "Flow rate: 0.9\n",
      "Temperature: 100.0\n",
      "Fractions: [0.1 0.9]\n",
      "\n"
     ]
    }
   ],
   "source": [
    "print(o2)"
   ]
  },
  {
   "cell_type": "code",
   "execution_count": 529,
   "metadata": {},
   "outputs": [
    {
     "data": {
      "text/plain": [
       "[0.0, 0.0, 0.0, 0.0, 0.0, 0.0, 0.0, 0.0, 0.0, 0.0, 0.0, 0.0]"
      ]
     },
     "execution_count": 529,
     "metadata": {},
     "output_type": "execute_result"
    }
   ],
   "source": [
    "process_eqns(x_soln)"
   ]
  },
  {
   "cell_type": "code",
   "execution_count": 530,
   "metadata": {},
   "outputs": [
    {
     "data": {
      "text/plain": [
       "0.0"
      ]
     },
     "execution_count": 530,
     "metadata": {},
     "output_type": "execute_result"
    }
   ],
   "source": [
    "np.sum(np.square(eqns))"
   ]
  },
  {
   "cell_type": "markdown",
   "metadata": {},
   "source": [
    "## <font color='red'>Tray</font>"
   ]
  },
  {
   "cell_type": "code",
   "execution_count": 531,
   "metadata": {},
   "outputs": [],
   "source": [
    "N_COMPS = 2\n",
    "\n",
    "lin = Stream(n_comps=N_COMPS, name='lin')\n",
    "lout = Stream(n_comps=N_COMPS, name='lout')\n",
    "vin = Stream(n_comps=N_COMPS, name='vin')\n",
    "vout = Stream(n_comps=N_COMPS, name='vout')\n",
    "\n",
    "linf =Specify(flow=True, stream=lin, value=1)\n",
    "lint =Specify(temperature=True, stream=lin, value=1)\n",
    "lin1 =Specify(fraction=True, stream=lin, comp_num=0, value=1)\n",
    "lin2 =Specify(fraction=True, stream=lin, comp_num=1, value=0)\n",
    "\n",
    "vinf =Specify(flow=True, stream=vin, value=1)\n",
    "vint =Specify(temperature=True, stream=vin, value=1)\n",
    "vin1 =Specify(fraction=True, stream=vin, comp_num=0, value=1/N_COMPS)\n",
    "vin2 =Specify(fraction=True, stream=vin, comp_num=1, value=1/N_COMPS)\n",
    "\n",
    "t = Tray(lin, lout, vin, vout, press=50, name=None)\n",
    "\n",
    "unit_dict = dict()\n",
    "unit_dict['lin'] = lin\n",
    "unit_dict['lout'] = lout\n",
    "unit_dict['vin'] = vin\n",
    "unit_dict['vout'] = vout\n",
    "\n",
    "unit_dict['linf'] = linf\n",
    "unit_dict['lint'] = lint\n",
    "unit_dict['lin1'] = lin1\n",
    "unit_dict['lin2'] = lin2\n",
    "\n",
    "unit_dict['vinf'] = vinf\n",
    "unit_dict['vint'] = vint\n",
    "unit_dict['vin1'] = vin1\n",
    "unit_dict['vin2'] = vin2\n",
    "\n",
    "unit_dict['t'] = t"
   ]
  },
  {
   "cell_type": "code",
   "execution_count": 532,
   "metadata": {},
   "outputs": [
    {
     "data": {
      "text/plain": [
       "16"
      ]
     },
     "execution_count": 532,
     "metadata": {},
     "output_type": "execute_result"
    }
   ],
   "source": [
    "n_vars = 0\n",
    "for u in unit_dict:\n",
    "    n_vars += unit_dict[u].num_vars()\n",
    "    \n",
    "n_vars"
   ]
  },
  {
   "cell_type": "code",
   "execution_count": 533,
   "metadata": {},
   "outputs": [
    {
     "data": {
      "text/plain": [
       "16"
      ]
     },
     "execution_count": 533,
     "metadata": {},
     "output_type": "execute_result"
    }
   ],
   "source": [
    "n_eqns = 0\n",
    "for u in unit_dict:\n",
    "    n_eqns += unit_dict[u].num_eqns()\n",
    "    \n",
    "n_eqns"
   ]
  },
  {
   "cell_type": "code",
   "execution_count": 534,
   "metadata": {},
   "outputs": [
    {
     "name": "stdout",
     "output_type": "stream",
     "text": [
      "Tray is OK\n"
     ]
    }
   ],
   "source": [
    "assert n_eqns == n_vars\n",
    "print('Tray is OK')"
   ]
  },
  {
   "cell_type": "code",
   "execution_count": 535,
   "metadata": {},
   "outputs": [
    {
     "name": "stdout",
     "output_type": "stream",
     "text": [
      "[ 1.00000000e+00  1.00000000e+00  1.00000000e+00 -7.37481982e-27\n",
      "  1.00000000e+00  8.19084234e+01  7.17019457e-01  2.82980543e-01\n",
      "  1.00000000e+00  1.00000000e+00  5.00000000e-01  5.00000000e-01\n",
      "  1.00000000e+00  8.19084234e+01  7.82980543e-01  2.17019457e-01]\n"
     ]
    }
   ],
   "source": [
    "xvar = np.ones(n_vars, dtype=np.float64)\n",
    "eqns = np.ones(n_eqns, dtype=np.float64)\n",
    "\n",
    "map_var_to_unit1(xvar, unit_dict)\n",
    "map_eqn_to_unit1(eqns, unit_dict)\n",
    "\n",
    "x_soln = fsolve(process_eqns, xvar)\n",
    "\n",
    "print(x_soln)"
   ]
  },
  {
   "cell_type": "code",
   "execution_count": 536,
   "metadata": {},
   "outputs": [],
   "source": [
    "map_var_to_unit1(x_soln, unit_dict)"
   ]
  },
  {
   "cell_type": "code",
   "execution_count": 537,
   "metadata": {},
   "outputs": [
    {
     "name": "stdout",
     "output_type": "stream",
     "text": [
      "Stream name: lin\n",
      "Stream number: 44\n",
      "Number of variables: 4\n",
      "Number of equations: 0\n",
      "Flow rate: 1.0\n",
      "Temperature: 1.0\n",
      "Fractions: [ 1.00000000e+00 -7.37481982e-27]\n",
      "\n"
     ]
    }
   ],
   "source": [
    "print(lin)"
   ]
  },
  {
   "cell_type": "code",
   "execution_count": 538,
   "metadata": {},
   "outputs": [
    {
     "name": "stdout",
     "output_type": "stream",
     "text": [
      "Stream name: vin\n",
      "Stream number: 46\n",
      "Number of variables: 4\n",
      "Number of equations: 0\n",
      "Flow rate: 1.0\n",
      "Temperature: 1.0\n",
      "Fractions: [0.5 0.5]\n",
      "\n"
     ]
    }
   ],
   "source": [
    "print(vin)"
   ]
  },
  {
   "cell_type": "code",
   "execution_count": 539,
   "metadata": {},
   "outputs": [
    {
     "name": "stdout",
     "output_type": "stream",
     "text": [
      "Stream name: lout\n",
      "Stream number: 45\n",
      "Number of variables: 4\n",
      "Number of equations: 0\n",
      "Flow rate: 1.0\n",
      "Temperature: 81.9084233871274\n",
      "Fractions: [0.71701946 0.28298054]\n",
      "\n"
     ]
    }
   ],
   "source": [
    "print(lout)"
   ]
  },
  {
   "cell_type": "code",
   "execution_count": 540,
   "metadata": {},
   "outputs": [
    {
     "name": "stdout",
     "output_type": "stream",
     "text": [
      "Stream name: vout\n",
      "Stream number: 47\n",
      "Number of variables: 4\n",
      "Number of equations: 0\n",
      "Flow rate: 1.0\n",
      "Temperature: 81.9084233871274\n",
      "Fractions: [0.78298054 0.21701946]\n",
      "\n"
     ]
    }
   ],
   "source": [
    "print(vout)"
   ]
  },
  {
   "cell_type": "code",
   "execution_count": 541,
   "metadata": {},
   "outputs": [
    {
     "data": {
      "text/plain": [
       "2.2142809900981477e-23"
      ]
     },
     "execution_count": 541,
     "metadata": {},
     "output_type": "execute_result"
    }
   ],
   "source": [
    "np.sum(np.square(eqns))"
   ]
  },
  {
   "cell_type": "code",
   "execution_count": null,
   "metadata": {},
   "outputs": [],
   "source": []
  },
  {
   "cell_type": "markdown",
   "metadata": {},
   "source": [
    "## <font color='red'>Column with three trays</font>"
   ]
  },
  {
   "cell_type": "code",
   "execution_count": 542,
   "metadata": {},
   "outputs": [
    {
     "name": "stdout",
     "output_type": "stream",
     "text": [
      "\n",
      "\n",
      "48  variables\n",
      "48  equations\n"
     ]
    }
   ],
   "source": [
    "N_COMPS = 2\n",
    "\n",
    "f = Stream(n_comps=N_COMPS, name='f')\n",
    "r = Stream(n_comps=N_COMPS, name='r')\n",
    "c = Stream(n_comps=N_COMPS, name='c')\n",
    "b = Stream(n_comps=N_COMPS, name='b')\n",
    "v = Stream(n_comps=N_COMPS, name='v')\n",
    "\n",
    "sff = Specify(flow=True, stream=f, value=100)\n",
    "srf = Specify(flow=True, stream=r, value=400)\n",
    "svf = Specify(flow=True, stream=v, value=450)\n",
    "\n",
    "sft = Specify(temperature=True, stream=f, value=100)\n",
    "srt = Specify(temperature=True, stream=r, value=400)\n",
    "svt = Specify(temperature=True, stream=v, value=450)\n",
    "\n",
    "sfx1 = Specify(fraction=True, stream=f, comp_num=0, value=1/N_COMPS)\n",
    "sfx2 = Specify(fraction=True, stream=f, comp_num=1, value=1/N_COMPS)\n",
    "srx1 = Specify(fraction=True, stream=r, comp_num=0, value=1/N_COMPS)\n",
    "srx2 = Specify(fraction=True, stream=r, comp_num=1, value=1/N_COMPS)\n",
    "svx1 = Specify(fraction=True, stream=v, comp_num=0, value=1/N_COMPS)\n",
    "svx2 = Specify(fraction=True, stream=v, comp_num=1, value=1/N_COMPS)\n",
    "\n",
    "col = SimpleColumn(n_trays=3, feed_tray=1, \n",
    "                          feed_stream_liq=f, \n",
    "                          reflux=r, \n",
    "                          vapor_reboil=v, \n",
    "                          condensate=c,\n",
    "                          bottoms=b,\n",
    "                          press=55, name='col')\n",
    "\n",
    "unit_dict = dict()\n",
    "\n",
    "unit_dict['f'] = f\n",
    "unit_dict['r'] = r\n",
    "unit_dict['c'] = c\n",
    "unit_dict['b'] = b\n",
    "unit_dict['v'] = v\n",
    "\n",
    "unit_dict['sff'] = sff\n",
    "unit_dict['srf'] = srf\n",
    "unit_dict['svf'] = svf\n",
    "\n",
    "unit_dict['sft'] = sft\n",
    "unit_dict['srt'] = srt\n",
    "unit_dict['svt'] = svt\n",
    "\n",
    "unit_dict['sfx1'] = sfx1\n",
    "unit_dict['sfx2'] = sfx2\n",
    "unit_dict['srx1'] = srx1\n",
    "unit_dict['srx2'] = srx2\n",
    "unit_dict['svx1'] = svx1\n",
    "unit_dict['svx2'] = svx2\n",
    "\n",
    "unit_dict['col'] = col\n",
    "\n",
    "n_eqns = 0\n",
    "for u in unit_dict:\n",
    "    n_eqns += unit_dict[u].num_eqns()\n",
    "    \n",
    "n_vars = 0\n",
    "for u in unit_dict:\n",
    "    n_vars += unit_dict[u].num_vars()\n",
    "\n",
    "print('\\n')\n",
    "print(n_vars, ' variables')\n",
    "print(n_eqns, ' equations')"
   ]
  },
  {
   "cell_type": "code",
   "execution_count": 543,
   "metadata": {},
   "outputs": [],
   "source": [
    "xvar = np.ones(n_vars, dtype=np.float64)\n",
    "eqns = np.ones(n_eqns, dtype=np.float64)"
   ]
  },
  {
   "cell_type": "code",
   "execution_count": 544,
   "metadata": {},
   "outputs": [
    {
     "name": "stdout",
     "output_type": "stream",
     "text": [
      "Column is OK\n"
     ]
    }
   ],
   "source": [
    "assert n_eqns == n_vars\n",
    "print('Column is OK')"
   ]
  },
  {
   "cell_type": "code",
   "execution_count": 545,
   "metadata": {},
   "outputs": [],
   "source": [
    "map_var_to_unit1(xvar, unit_dict)"
   ]
  },
  {
   "cell_type": "code",
   "execution_count": 546,
   "metadata": {},
   "outputs": [],
   "source": [
    "map_eqn_to_unit1(eqns, unit_dict)"
   ]
  },
  {
   "cell_type": "code",
   "execution_count": 547,
   "metadata": {},
   "outputs": [],
   "source": [
    "process_eqns(xvar);"
   ]
  },
  {
   "cell_type": "code",
   "execution_count": 548,
   "metadata": {},
   "outputs": [
    {
     "data": {
      "text/plain": [
       "741218.5952249719"
      ]
     },
     "execution_count": 548,
     "metadata": {},
     "output_type": "execute_result"
    }
   ],
   "source": [
    "np.sum(np.square(eqns))"
   ]
  },
  {
   "cell_type": "code",
   "execution_count": 549,
   "metadata": {},
   "outputs": [],
   "source": [
    "x_soln = fsolve(process_eqns, xvar)"
   ]
  },
  {
   "cell_type": "code",
   "execution_count": 550,
   "metadata": {},
   "outputs": [
    {
     "name": "stdout",
     "output_type": "stream",
     "text": [
      "[1.00000000e+02 1.00000000e+02 5.00000000e-01 5.00000000e-01\n",
      " 4.00000000e+02 4.00000000e+02 5.00000000e-01 5.00000000e-01\n",
      " 4.50000000e+02 9.29410549e+01 5.65790512e-01 4.34209488e-01\n",
      " 5.00000000e+02 9.38244875e+01 4.40788540e-01 5.59211460e-01\n",
      " 4.50000000e+02 4.50000000e+02 5.00000000e-01 5.00000000e-01\n",
      " 5.00000000e+02 9.43528439e+01 4.84696850e-01 5.15303150e-01\n",
      " 5.00000000e+02 9.38244875e+01 4.40788540e-01 5.59211460e-01\n",
      " 5.00000000e+02 9.33161589e+01 4.63794590e-01 5.36205410e-01\n",
      " 4.00000000e+02 9.29410549e+01 4.80871063e-01 5.19128937e-01\n",
      " 4.50000000e+02 9.38244875e+01 5.25562279e-01 4.74437721e-01\n",
      " 4.50000000e+02 9.33161589e+01 5.48787012e-01 4.51212988e-01\n",
      " 4.50000000e+02 9.29410549e+01 5.65790512e-01 4.34209488e-01]\n"
     ]
    }
   ],
   "source": [
    "print(x_soln)"
   ]
  },
  {
   "cell_type": "code",
   "execution_count": 551,
   "metadata": {},
   "outputs": [],
   "source": [
    "map_var_to_unit1(x_soln, unit_dict)\n",
    "process_eqns(x_soln);\n",
    "map_eqn_to_unit1(eqns, unit_dict)"
   ]
  },
  {
   "cell_type": "code",
   "execution_count": 552,
   "metadata": {},
   "outputs": [
    {
     "name": "stdout",
     "output_type": "stream",
     "text": [
      "[ 0.00000000e+00  0.00000000e+00  0.00000000e+00  0.00000000e+00\n",
      "  0.00000000e+00  0.00000000e+00  0.00000000e+00  0.00000000e+00\n",
      "  0.00000000e+00  0.00000000e+00  0.00000000e+00  0.00000000e+00\n",
      "  0.00000000e+00  3.05705328e-09 -1.88318250e-11  1.87583282e-11\n",
      "  0.00000000e+00  0.00000000e+00 -1.42108547e-14  1.11022302e-16\n",
      "  0.00000000e+00 -2.37937456e-07 -1.26754163e-11 -2.06577866e-10\n",
      "  0.00000000e+00  0.00000000e+00  0.00000000e+00  1.11022302e-16\n",
      "  0.00000000e+00  1.95405420e-07  6.80751011e-11  1.69555259e-10\n",
      "  0.00000000e+00  0.00000000e+00  0.00000000e+00 -1.11022302e-16\n",
      "  0.00000000e+00 -3.57585463e-08  1.24511734e-10 -2.55154564e-10\n",
      "  0.00000000e+00  0.00000000e+00  0.00000000e+00  0.00000000e+00\n",
      "  0.00000000e+00 -1.42108547e-14  0.00000000e+00  0.00000000e+00]\n"
     ]
    }
   ],
   "source": [
    "print(eqns)"
   ]
  },
  {
   "cell_type": "code",
   "execution_count": 553,
   "metadata": {},
   "outputs": [
    {
     "data": {
      "text/plain": [
       "9.608568800830493e-14"
      ]
     },
     "execution_count": 553,
     "metadata": {},
     "output_type": "execute_result"
    }
   ],
   "source": [
    "np.sum(np.square(eqns))"
   ]
  },
  {
   "cell_type": "code",
   "execution_count": 554,
   "metadata": {},
   "outputs": [
    {
     "name": "stdout",
     "output_type": "stream",
     "text": [
      "Stream name: f\n",
      "Stream number: 48\n",
      "Number of variables: 4\n",
      "Number of equations: 0\n",
      "Flow rate: 100.0\n",
      "Temperature: 100.0\n",
      "Fractions: [0.5 0.5]\n",
      "\n"
     ]
    }
   ],
   "source": [
    "print(f)"
   ]
  },
  {
   "cell_type": "code",
   "execution_count": 555,
   "metadata": {},
   "outputs": [
    {
     "name": "stdout",
     "output_type": "stream",
     "text": [
      "Stream name: r\n",
      "Stream number: 49\n",
      "Number of variables: 4\n",
      "Number of equations: 0\n",
      "Flow rate: 400.0\n",
      "Temperature: 400.0\n",
      "Fractions: [0.5 0.5]\n",
      "\n"
     ]
    }
   ],
   "source": [
    "print(r)"
   ]
  },
  {
   "cell_type": "code",
   "execution_count": 556,
   "metadata": {},
   "outputs": [
    {
     "name": "stdout",
     "output_type": "stream",
     "text": [
      "Stream name: c\n",
      "Stream number: 50\n",
      "Number of variables: 4\n",
      "Number of equations: 0\n",
      "Flow rate: 450.0\n",
      "Temperature: 92.94105485966385\n",
      "Fractions: [0.56579051 0.43420949]\n",
      "\n"
     ]
    }
   ],
   "source": [
    "print(c)"
   ]
  },
  {
   "cell_type": "code",
   "execution_count": 557,
   "metadata": {},
   "outputs": [
    {
     "name": "stdout",
     "output_type": "stream",
     "text": [
      "Stream name: v\n",
      "Stream number: 52\n",
      "Number of variables: 4\n",
      "Number of equations: 0\n",
      "Flow rate: 450.0\n",
      "Temperature: 450.0\n",
      "Fractions: [0.5 0.5]\n",
      "\n"
     ]
    }
   ],
   "source": [
    "print(v)"
   ]
  },
  {
   "cell_type": "code",
   "execution_count": 558,
   "metadata": {},
   "outputs": [
    {
     "name": "stdout",
     "output_type": "stream",
     "text": [
      "Stream name: b\n",
      "Stream number: 51\n",
      "Number of variables: 4\n",
      "Number of equations: 0\n",
      "Flow rate: 500.0\n",
      "Temperature: 93.82448747935301\n",
      "Fractions: [0.44078854 0.55921146]\n",
      "\n"
     ]
    }
   ],
   "source": [
    "print(b)"
   ]
  },
  {
   "cell_type": "code",
   "execution_count": 559,
   "metadata": {},
   "outputs": [
    {
     "name": "stdout",
     "output_type": "stream",
     "text": [
      "colMixedLiquidFeed\n",
      "Stream name: colMixedLiquidFeed\n",
      "Stream number: 59\n",
      "Number of variables: 4\n",
      "Number of equations: 0\n",
      "Flow rate: 500.0\n",
      "Temperature: 94.35284388467403\n",
      "Fractions: [0.48469685 0.51530315]\n",
      "\n",
      "\n",
      "\n",
      "colFeedMixer\n",
      "Mixer name: colFeedMixer\n",
      "Mixer number: 5\n",
      "Number of variables: 0\n",
      "Number of equations: 4\n",
      "Streams in: f,colTray2Liquid\n",
      "Streams out: colMixedLiquidFeed\n",
      "Number of equations: 4\n",
      "Equations: [ 0.00000000e+00  3.05705328e-09 -1.88318250e-11  1.87583282e-11]\n",
      "\n",
      "\n",
      "\n",
      "colTray0Liquid\n",
      "Stream name: colTray0Liquid\n",
      "Stream number: 53\n",
      "Number of variables: 4\n",
      "Number of equations: 0\n",
      "Flow rate: 500.0\n",
      "Temperature: 93.82448747935302\n",
      "Fractions: [0.44078854 0.55921146]\n",
      "\n",
      "\n",
      "\n",
      "colTray1Liquid\n",
      "Stream name: colTray1Liquid\n",
      "Stream number: 54\n",
      "Number of variables: 4\n",
      "Number of equations: 0\n",
      "Flow rate: 500.0\n",
      "Temperature: 93.316158887835\n",
      "Fractions: [0.46379459 0.53620541]\n",
      "\n",
      "\n",
      "\n",
      "colTray2Liquid\n",
      "Stream name: colTray2Liquid\n",
      "Stream number: 55\n",
      "Number of variables: 4\n",
      "Number of equations: 0\n",
      "Flow rate: 400.0\n",
      "Temperature: 92.94105485966385\n",
      "Fractions: [0.48087106 0.51912894]\n",
      "\n",
      "\n",
      "\n",
      "colTray0Vapor\n",
      "Stream name: colTray0Vapor\n",
      "Stream number: 56\n",
      "Number of variables: 4\n",
      "Number of equations: 0\n",
      "Flow rate: 450.0\n",
      "Temperature: 93.82448747935301\n",
      "Fractions: [0.52556228 0.47443772]\n",
      "\n",
      "\n",
      "\n",
      "colTray1Vapor\n",
      "Stream name: colTray1Vapor\n",
      "Stream number: 57\n",
      "Number of variables: 4\n",
      "Number of equations: 0\n",
      "Flow rate: 450.0\n",
      "Temperature: 93.316158887835\n",
      "Fractions: [0.54878701 0.45121299]\n",
      "\n",
      "\n",
      "\n",
      "colTray2Vapor\n",
      "Stream name: colTray2Vapor\n",
      "Stream number: 58\n",
      "Number of variables: 4\n",
      "Number of equations: 0\n",
      "Flow rate: 450.0\n",
      "Temperature: 92.94105485966385\n",
      "Fractions: [0.56579051 0.43420949]\n",
      "\n",
      "\n",
      "\n",
      "colTray0\n",
      "Tray name: colTray0\n",
      "Tray number: 16\n",
      "Liquid stream in: colTray1Liquid\n",
      "Liquid stream out: colTray0Liquid\n",
      "Vapor stream in: v\n",
      "Vapor stream out: colTray0Vapor\n",
      "Pressure: 55\n",
      "Number of variables: 0\n",
      "Number of equations: 8\n",
      "Equations: [ 0.00000000e+00  0.00000000e+00 -1.42108547e-14  1.11022302e-16\n",
      "  0.00000000e+00 -2.37937456e-07 -1.26754163e-11 -2.06577866e-10]\n",
      "\n",
      "\n",
      "\n",
      "colTray1\n",
      "Tray name: colTray1\n",
      "Tray number: 17\n",
      "Liquid stream in: colMixedLiquidFeed\n",
      "Liquid stream out: colTray1Liquid\n",
      "Vapor stream in: colTray0Vapor\n",
      "Vapor stream out: colTray1Vapor\n",
      "Pressure: 55\n",
      "Number of variables: 0\n",
      "Number of equations: 8\n",
      "Equations: [0.00000000e+00 0.00000000e+00 0.00000000e+00 1.11022302e-16\n",
      " 0.00000000e+00 1.95405420e-07 6.80751011e-11 1.69555259e-10]\n",
      "\n",
      "\n",
      "\n",
      "colTray2\n",
      "Tray name: colTray2\n",
      "Tray number: 18\n",
      "Liquid stream in: r\n",
      "Liquid stream out: colTray2Liquid\n",
      "Vapor stream in: colTray1Vapor\n",
      "Vapor stream out: colTray2Vapor\n",
      "Pressure: 55\n",
      "Number of variables: 0\n",
      "Number of equations: 8\n",
      "Equations: [ 0.00000000e+00  0.00000000e+00  0.00000000e+00 -1.11022302e-16\n",
      "  0.00000000e+00 -3.57585463e-08  1.24511734e-10 -2.55154564e-10]\n",
      "\n",
      "\n",
      "\n",
      "colCondensateConnector\n",
      "Connector number: 2\n",
      "Stream in: c\n",
      "Stream out: colTray2Vapor\n",
      "Number of variables: 0\n",
      "Number of equations: 4\n",
      "Equations: [0. 0. 0. 0.]\n",
      "\n",
      "\n",
      "\n",
      "colBottomsConnector\n",
      "Connector number: 3\n",
      "Stream in: b\n",
      "Stream out: colTray0Liquid\n",
      "Number of variables: 0\n",
      "Number of equations: 4\n",
      "Equations: [ 0.00000000e+00 -1.42108547e-14  0.00000000e+00  0.00000000e+00]\n",
      "\n",
      "\n",
      "\n"
     ]
    }
   ],
   "source": [
    "for u in col.unit_dict:\n",
    "    print(u)\n",
    "    print(col.unit_dict[u])\n",
    "    print('\\n')"
   ]
  },
  {
   "cell_type": "code",
   "execution_count": null,
   "metadata": {},
   "outputs": [],
   "source": []
  }
 ],
 "metadata": {
  "kernelspec": {
   "display_name": "Python 3",
   "language": "python",
   "name": "python3"
  },
  "language_info": {
   "codemirror_mode": {
    "name": "ipython",
    "version": 3
   },
   "file_extension": ".py",
   "mimetype": "text/x-python",
   "name": "python",
   "nbconvert_exporter": "python",
   "pygments_lexer": "ipython3",
   "version": "3.8.5"
  }
 },
 "nbformat": 4,
 "nbformat_minor": 4
}
